{
 "cells": [
  {
   "cell_type": "markdown",
   "id": "e814826d",
   "metadata": {},
   "source": [
    "# RNN from scratch"
   ]
  },
  {
   "cell_type": "code",
   "execution_count": 1,
   "id": "7709c312",
   "metadata": {},
   "outputs": [
    {
     "name": "stdout",
     "output_type": "stream",
     "text": [
      "The autoreload extension is already loaded. To reload it, use:\n",
      "  %reload_ext autoreload\n"
     ]
    }
   ],
   "source": [
    "import glob\n",
    "import torch\n",
    "from importlib import reload\n",
    "\n",
    "%load_ext autoreload\n",
    "%autoreload 2\n",
    "from utils.files import *\n",
    "\n",
    "%load_ext autoreload\n",
    "%autoreload 2\n",
    "from src.RNN import RNN"
   ]
  },
  {
   "cell_type": "markdown",
   "id": "dffd59f2",
   "metadata": {},
   "source": [
    "# Data preparation"
   ]
  },
  {
   "cell_type": "code",
   "execution_count": 2,
   "id": "9fe7319b",
   "metadata": {},
   "outputs": [
    {
     "name": "stdout",
     "output_type": "stream",
     "text": [
      "the railroad commission cases, 116 u.s. 307 (1886), is a united states supreme court case concerning the power of states to set transportation charges of railroad companies. the court held that the fixing of freight and passenger rates in railroad transportation was a permissible exercise of state police power. in 1884, the legislature of mississippi passed a statute which established a state commission with the power to impose transportation rates on private railroad companies. the companies had signed a charter contract with the state, authorizing them to set their own rates. the farmers' loan & trust company, a new york corporation, brought suit against the commission on behalf of mobile & ohio railroad company, to enjoin enforcement of the statute. in upholding the statute, the court held that the state charter did not divest the state of the ultimate power to determine reasonable rates. in stone v. mississippi (1879), the court had said that rate regulation fell outside of the state's police power. the potential contradiction with the earlier case was circumvented by strict construction of the charter contract: the right to fix reasonable charges has been granted, but the power of declaring what shall be deemed reasonable has not been surrendered. if there had been an intention of surrendering this power, it would have been easy to say so. not having said so, the conclusive presumption is there was no such intention. the power to set a reasonable rate had been retained by the state and thus regulation did not impair the contract. however, the railroads in question were being built to cover an area from the gulf of mexico to the midwest. the court had held in cooley v. board of wardens (1852) that legislation which required national uniformity was reserved exclusively to congress. if viewed as regulation of interstate commerce, fixing of rates by the state would interfere with federal authority, even in the absence of congressional action. but here it was said that rate regulation permitted local variations: it is not enough, to prevent the state from acting, that the road in mississippi is used in aid of interstate commerce. legislation of this kind, to be unconstitutional, must be such as will necessarily amount to or operate as a regulation of business without the state as well as within. the court had first held in munn v. illinois (1877) that states could regulate businesses within their borders that were \"clothed with a public interest\". in a subsequent line of cases, state regulations of privately owned companies were repeatedly upheld. the decision in the railroad commission cases further allowed for state legislatures to delegate their powers to administrative agencies, such as railroad commissions. chief justice morrison waite, in the majority, contended that fixing of rates was permissible but warned that confiscatory rates would constitute impermissible expropriation: from what has thus been said, it is not to be inferred that this power of limitation or regulation is itself without limit. this power to regulate is not a power to destroy, and limitation is not the equivalent of confiscation. under pretense of regulating fares and freights, the state cannot require a railroad corporation to carry persons or property without reward; neither can it do that which in law amounts to a taking of private property for public use without just compensation or without due process of law. despite upholding the law, this dicta intimated a shift in the court's constitutional property jurisprudence. waite's statement implicated that the due process clause of the fourteenth amendment protected even businesses affected with a public interest against confiscatory rate regulation. in chicago, milwaukee & st. paul railway company v. minnesota (1890), the court held that procedural due process limited state regulatory power over railroad rates. works related to railroad commission cases at wikisource text of railroad commission cases, 116 u.s. 307 (1886) is available from: findlaw justia library of congress openjurist\n",
      "number of articles: 1085\n"
     ]
    }
   ],
   "source": [
    "article_paths = glob.glob(\"data/articles/*.txt\")\n",
    "\n",
    "corpus = [\n",
    "    read_file(article_path) for article_path in article_paths\n",
    "]\n",
    "\n",
    "# Wikipedia loves non-ascii charachters, the vocab will skyrocket if I didn't limit it to ascii\n",
    "corpus = [\n",
    "    ''.join(c.lower() for c in article if ord(c) < 128) for article in corpus\n",
    "]\n",
    "print(corpus[1])\n",
    "print(\"number of articles:\", len(corpus))"
   ]
  },
  {
   "cell_type": "code",
   "execution_count": 3,
   "id": "c1b2de75",
   "metadata": {},
   "outputs": [],
   "source": [
    "full_text = ''.join(corpus)\n",
    "unique_characters = sorted(list(set(full_text)))"
   ]
  },
  {
   "cell_type": "code",
   "execution_count": 4,
   "id": "886972d2",
   "metadata": {},
   "outputs": [
    {
     "name": "stdout",
     "output_type": "stream",
     "text": [
      "suitable\n"
     ]
    }
   ],
   "source": [
    "# Picking an eos token & making sure it's not there\n",
    "eos = \"<eos>\"\n",
    "if eos in unique_characters:\n",
    "    print(\"not suitable\")\n",
    "else:\n",
    "    print(\"suitable\")\n",
    "    unique_characters.append(eos)"
   ]
  },
  {
   "cell_type": "code",
   "execution_count": 5,
   "id": "baaa31eb",
   "metadata": {},
   "outputs": [
    {
     "name": "stdout",
     "output_type": "stream",
     "text": [
      "Vocab size: 70\n"
     ]
    }
   ],
   "source": [
    "input_size = len(unique_characters)\n",
    "print(f\"Vocab size: {input_size}\")"
   ]
  },
  {
   "cell_type": "code",
   "execution_count": 6,
   "id": "7801d9ab",
   "metadata": {},
   "outputs": [],
   "source": [
    "token_to_index = {ch: i for i, ch in enumerate(unique_characters)}\n",
    "index_to_token = {i: ch for i, ch in enumerate(unique_characters)}"
   ]
  },
  {
   "cell_type": "code",
   "execution_count": 7,
   "id": "a3eab1fd",
   "metadata": {},
   "outputs": [
    {
     "name": "stdout",
     "output_type": "stream",
     "text": [
      "[17, 16, 23, 21, 0, 46, 43, 50, 47, 52, 39, 12, 0, 54, 56, 53, 60, 47, 57, 47, 53, 52, 39, 50, 0, 42, 43, 57, 47, 45, 52, 39, 58, 47, 53, 52, 0, 17, 25, 18, 22, 0, 57, 41, 12, 0, 47, 57, 0, 39, 0, 57, 58, 53, 52, 63, 0, 43, 53, 57, 0, 39, 57, 58, 43, 56, 53, 47, 42, 0, 44, 56, 53, 51, 0, 58, 46, 43, 0, 53, 59, 58, 43, 56, 0, 56, 43, 45, 47, 53, 52, 57, 0, 53, 44, 0, 58, 46, 43, 0, 39, 57, 58, 43, 56, 53, 47, 42, 0, 40, 43, 50, 58, 12, 0, 39, 54, 54, 56, 53, 62, 47, 51, 39, 58, 43, 50, 63, 0, 19, 20, 0, 49, 47, 50, 53, 51, 43, 58, 43, 56, 57, 0, 8, 18, 17, 0, 51, 47, 50, 43, 57, 9, 0, 47, 52, 0, 42, 47, 39, 51, 43, 58, 43, 56, 14, 0, 47, 58, 0, 61, 39, 57, 0, 42, 47, 57, 41, 53, 60, 43, 56, 43, 42, 0, 53, 52, 0, 18, 25, 0, 57, 43, 54, 58, 43, 51, 40, 43, 56, 0, 17, 25, 18, 22, 12, 0, 40, 63, 0, 39, 57, 58, 56, 53, 52, 53, 51, 43, 56, 0, 45, 56, 47, 45, 53, 56, 63, 0, 52, 43, 59, 48, 51, 47, 52, 0, 39, 58, 0, 58, 46, 43, 0, 57, 47, 51, 43, 47, 64, 0, 53, 40, 57, 43, 56, 60, 39, 58, 53, 56, 63, 0, 53, 52, 0, 58, 46, 43, 0, 41, 56, 47, 51, 43, 39, 52, 0, 54, 43, 52, 47, 52, 57, 59, 50, 39, 14, 0, 58, 46, 43, 0, 39, 57, 58, 43, 56, 53, 47, 42, 0, 61, 39, 57, 0, 52, 39, 51, 43, 42, 0, 39, 44, 58, 43, 56, 0, 58, 46, 43, 0, 42, 47, 57, 41, 53, 60, 43, 56, 43, 56, 7, 57, 0, 57, 53, 52, 12, 0, 46, 43, 50, 47, 48, 0, 52, 43, 59, 48, 51, 47, 52, 14, 0, 46, 43, 50, 47, 52, 39, 0, 47, 57, 0, 39, 0, 51, 43, 51, 40, 43, 56, 0, 58, 46, 43, 0, 43, 53, 57, 0, 44, 39, 51, 47, 50, 63, 0, 8, 22, 16, 22, 9, 12, 0, 58, 46, 43, 0, 50, 39, 56, 45, 43, 57, 58, 0, 39, 57, 58, 43, 56, 53, 47, 42, 0, 44, 39, 51, 47, 50, 63, 0, 53, 44, 0, 58, 46, 43, 0, 53, 59, 58, 43, 56, 0, 51, 39, 47, 52, 0, 40, 43, 50, 58, 0, 41, 53, 52, 57, 47, 57, 58, 47, 52, 45, 0, 53, 44, 0, 52, 43, 39, 56, 50, 63, 0, 17, 16, 12, 16, 16, 16, 0, 39, 57, 58, 43, 56, 53, 47, 42, 57, 14, 26, 0, 18, 19, 0, 47, 58, 0, 53, 56, 40, 47, 58, 57, 0, 58, 46, 43, 0, 57, 59, 52, 0, 47, 52, 0, 58, 46, 43, 0, 53, 59, 58, 43, 56, 0, 39, 57, 58, 43, 56, 53, 47, 42, 0, 40, 43, 50, 58, 0, 39, 58, 0, 39, 0, 42, 47, 57, 58, 39, 52, 41, 43, 0, 53, 44, 0, 18, 14, 23, 19, 14, 20, 0, 39, 59, 0, 53, 52, 41, 43, 0, 43, 60, 43, 56, 63, 0, 21, 0, 63, 43, 39, 56, 57, 0, 39, 52, 42, 0, 19, 0, 51, 53, 52, 58, 46, 57, 0, 8, 17, 12, 25, 16, 25, 0, 42, 39, 63, 57, 27, 0, 57, 43, 51, 47, 13, 51, 39, 48, 53, 56, 0, 39, 62, 47, 57, 0, 53, 44, 0, 19, 14, 16, 17, 0, 39, 59, 9, 14, 0, 47, 58, 57, 0, 53, 56, 40, 47, 58, 0, 46, 39, 57, 0, 39, 52, 0, 43, 41, 41, 43, 52, 58, 56, 47, 41, 47, 58, 63, 0, 53, 44, 0, 16, 14, 17, 17, 0, 39, 52, 42, 0, 39, 52, 0, 47, 52, 41, 50, 47, 52, 39, 58, 47, 53, 52, 0, 53, 44, 0, 17, 18, 0, 61, 47, 58, 46, 0, 56, 43, 57, 54, 43, 41, 58, 0, 58, 53, 0, 58, 46, 43, 0, 43, 41, 50, 47, 54, 58, 47, 41, 14, 0, 58, 46, 43, 0, 39, 57, 58, 43, 56, 53, 47, 42, 0, 61, 39, 57, 0, 44, 47, 56, 57, 58, 0, 47, 42, 43, 52, 58, 47, 44, 47, 43, 42, 0, 39, 57, 0, 39, 25, 16, 22, 0, 63, 45, 0, 39, 58, 0, 46, 43, 47, 42, 43, 50, 40, 43, 56, 45, 0, 53, 40, 57, 43, 56, 60, 39, 58, 53, 56, 63, 0, 47, 52, 0, 42, 43, 41, 43, 51, 40, 43, 56, 0, 17, 25, 16, 22, 14, 0, 58, 46, 43, 0, 40, 53, 42, 63, 7, 57, 0, 53, 40, 57, 43, 56, 60, 39, 58, 47, 53, 52, 0, 39, 56, 41, 0, 40, 43, 45, 47, 52, 57, 0, 39, 58, 0, 57, 47, 51, 43, 47, 64, 0, 53, 40, 57, 43, 56, 60, 39, 58, 53, 56, 63, 0, 47, 52, 0, 53, 41, 58, 53, 40, 43, 56, 0, 17, 25, 18, 22, 12, 0, 52, 47, 52, 43, 0, 42, 39, 63, 57, 0, 39, 44, 58, 43, 56, 0, 47, 58, 57, 0, 53, 44, 44, 47, 41, 47, 39, 50, 0, 42, 47, 57, 41, 53, 60, 43, 56, 63, 0, 53, 40, 57, 43, 56, 60, 39, 58, 47, 53, 52, 14, 0, 58, 46, 47, 57, 0, 51, 47, 52, 53, 56, 0, 54, 50, 39, 52, 43, 58, 0, 61, 39, 57, 0, 52, 39, 51, 43, 42, 0, 39, 44, 58, 43, 56, 0, 46, 43, 50, 47, 48, 0, 45, 56, 47, 45, 53, 56, 43, 60, 47, 41, 46, 0, 52, 43, 59, 48, 51, 47, 52, 0, 8, 17, 25, 17, 16, 17, 25, 24, 18, 9, 12, 0, 39, 0, 57, 53, 52, 0, 53, 44, 0, 42, 47, 57, 41, 53, 60, 43, 56, 43, 56, 0, 45, 56, 47, 45, 53, 56, 63, 0, 52, 43, 59, 48, 51, 47, 52, 14, 0, 58, 46, 43, 0, 39, 59, 58, 46, 53, 56, 0, 53, 44, 0, 58, 46, 43, 0, 42, 47, 41, 58, 47, 53, 52, 39, 56, 63, 0, 53, 44, 0, 51, 47, 52, 53, 56, 0, 54, 50, 39, 52, 43, 58, 0, 52, 39, 51, 43, 57, 12, 0, 50, 59, 58, 64, 0, 57, 41, 46, 51, 39, 42, 43, 50, 0, 50, 43, 39, 56, 52, 43, 42, 0, 39, 40, 53, 59, 58, 0, 58, 46, 43, 0, 52, 39, 51, 47, 52, 45, 0, 41, 47, 56, 41, 59, 51, 57, 58, 39, 52, 41, 43, 57, 0, 44, 56, 53, 51, 0, 41, 56, 47, 51, 43, 39, 52, 0, 39, 57, 58, 56, 53, 52, 53, 51, 43, 56, 57, 0, 47, 14, 0, 47, 14, 0, 52, 43, 63, 39, 41, 46, 43, 52, 49, 53, 0, 39, 52, 42, 0, 52, 14, 0, 57, 14, 0, 41, 46, 43, 56, 52, 63, 49, 46, 0, 8, 57, 43, 43, 0, 18, 19, 18, 21, 0, 41, 46, 43, 56, 52, 63, 49, 46, 9, 14, 0, 47, 52, 0, 58, 46, 43, 0, 58, 46, 53, 50, 43, 52, 0, 41, 50, 39, 57, 57, 47, 44, 47, 41, 39, 58, 47, 53, 52, 12, 0, 46, 43, 50, 47, 52, 39, 0, 47, 57, 0, 39, 0, 57, 58, 53, 52, 63, 0, 57, 13, 58, 63, 54, 43, 0, 39, 57, 58, 43, 56, 53, 47, 42, 0, 61, 47, 58, 46, 0, 39, 52, 0, 59, 52, 59, 57, 59, 39, 50, 0, 57, 54, 43, 41, 58, 56, 39, 0, 8, 57, 59, 9, 14, 0, 47, 52, 0, 51, 39, 56, 41, 46, 0, 18, 16, 17, 19, 12, 0, 39, 0, 56, 53, 58, 39, 58, 47, 53, 52, 39, 50, 0, 50, 47, 45, 46, 58, 41, 59, 56, 60, 43, 0, 53, 44, 0, 46, 43, 50, 47, 52, 39, 0, 61, 39, 57, 0, 53, 40, 58, 39, 47, 52, 43, 42, 0, 44, 56, 53, 51, 0, 54, 46, 53, 58, 53, 51, 43, 58, 56, 47, 41, 0, 53, 40, 57, 43, 56, 60, 39, 58, 47, 53, 52, 57, 0, 47, 52, 0, 58, 46, 43, 0, 56, 13, 40, 39, 52, 42, 0, 40, 63, 0, 39, 57, 58, 56, 53, 52, 53, 51, 43, 56, 57, 0, 39, 58, 0, 58, 46, 43, 0, 54, 39, 50, 53, 51, 39, 56, 0, 58, 56, 39, 52, 57, 47, 43, 52, 58, 0, 44, 39, 41, 58, 53, 56, 63, 0, 47, 52, 0, 41, 39, 50, 47, 44, 53, 56, 52, 47, 39, 14, 0, 50, 47, 45, 46, 58, 41, 59, 56, 60, 43, 0, 39, 52, 39, 50, 63, 57, 47, 57, 0, 45, 39, 60, 43, 0, 39, 0, 56, 53, 58, 39, 58, 47, 53, 52, 0, 54, 43, 56, 47, 53, 42, 0, 53, 44, 0, 20, 20, 14, 21, 21, 20, 0, 46, 53, 59, 56, 57, 0, 61, 47, 58, 46, 0, 39, 0, 40, 56, 47, 45, 46, 58, 52, 43, 57, 57, 0, 60, 39, 56, 47, 39, 58, 47, 53, 52, 0, 53, 44, 0, 16, 14, 25, 17, 0, 51, 39, 45, 52, 47, 58, 59, 42, 43, 0, 8, 59, 29, 18, 9, 14, 0, 47, 52, 0, 39, 54, 56, 47, 50, 0, 18, 16, 17, 19, 12, 0, 43, 59, 56, 53, 54, 43, 39, 52, 0, 39, 51, 39, 58, 43, 59, 56, 0, 39, 57, 58, 56, 53, 52, 53, 51, 43, 56, 57, 0, 51, 39, 58, 58, 46, 47, 43, 59, 0, 40, 39, 41, 46, 57, 41, 46, 51, 47, 42, 58, 12, 0, 54, 39, 59, 50, 0, 49, 56, 39, 44, 44, 58, 12, 0, 53, 50, 47, 60, 47, 43, 56, 0, 45, 43, 56, 58, 43, 47, 57, 12, 0, 46, 59, 40, 43, 56, 58, 0, 45, 59, 50, 50, 63, 0, 39, 52, 42, 0, 50, 59, 41, 0, 39, 56, 52, 53, 50, 42, 0, 51, 43, 39, 57, 59, 56, 43, 42, 0, 39, 0, 54, 43, 56, 47, 53, 42, 0, 53, 44, 0, 20, 20, 14, 25, 0, 46, 53, 59, 56, 57, 0, 61, 47, 58, 46, 0, 39, 52, 0, 39, 51, 54, 50, 47, 58, 59, 42, 43, 0, 53, 44, 0, 16, 14, 22, 20, 0, 51, 39, 45, 52, 47, 58, 59, 42, 43, 0, 8, 59, 29, 19, 13, 9, 14, 0, 61, 46, 47, 50, 43, 0, 52, 53, 58, 0, 40, 43, 47, 52, 45, 0, 39, 0, 57, 50, 53, 61, 0, 56, 53, 58, 39, 58, 53, 56, 12, 0, 46, 43, 50, 47, 52, 39, 0, 46, 39, 57, 0, 39, 0, 50, 53, 52, 45, 43, 56, 13, 58, 46, 39, 52, 0, 39, 60, 43, 56, 39, 45, 43, 0, 54, 43, 56, 47, 53, 42, 14, 0, 47, 58, 57, 0, 46, 47, 45, 46, 0, 40, 56, 47, 45, 46, 58, 52, 43, 57, 57, 0, 39, 51, 54, 50, 47, 58, 59, 42, 43, 0, 47, 57, 0, 39, 50, 57, 53, 0, 47, 52, 42, 47, 41, 39, 58, 47, 60, 43, 0, 44, 53, 56, 0, 39, 52, 0, 43, 50, 53, 52, 45, 39, 58, 43, 42, 0, 53, 56, 0, 47, 56, 56, 43, 45, 59, 50, 39, 56, 0, 57, 46, 39, 54, 43, 12, 0, 56, 39, 58, 46, 43, 56, 0, 58, 46, 39, 52, 0, 39, 0, 57, 54, 46, 43, 56, 47, 41, 39, 50, 0, 53, 52, 43, 14, 0, 58, 46, 43, 0, 39, 57, 58, 43, 56, 53, 47, 42, 7, 57, 0, 50, 47, 45, 46, 58, 41, 59, 56, 60, 43, 0, 46, 39, 57, 0, 39, 50, 57, 53, 0, 40, 43, 43, 52, 0, 51, 53, 42, 43, 50, 43, 42, 0, 57, 43, 60, 43, 56, 39, 50, 0, 58, 47, 51, 43, 57, 14, 0, 47, 58, 0, 45, 39, 60, 43, 0, 39, 0, 41, 53, 52, 41, 59, 56, 56, 47, 52, 45, 0, 54, 43, 56, 47, 53, 42, 0, 53, 44, 0, 20, 20, 14, 22, 23, 22, 24, 0, 39, 52, 42, 0, 20, 20, 14, 22, 23, 23, 0, 46, 53, 59, 56, 57, 12, 0, 56, 43, 57, 54, 43, 41, 58, 47, 60, 43, 50, 63, 14, 0, 51, 53, 42, 43, 50, 50, 47, 52, 45, 0, 47, 52, 0, 58, 46, 43, 0, 18, 16, 17, 24, 13, 57, 58, 59, 42, 63, 0, 39, 50, 57, 53, 0, 45, 39, 60, 43, 0, 58, 61, 53, 0, 57, 54, 47, 52, 0, 39, 62, 47, 57, 0, 53, 44, 0, 8, 17, 18, 23, 14, 16, 12, 0, 20, 19, 14, 16, 14, 16, 9, 0, 39, 52, 42, 0, 8, 18, 24, 16, 14, 16, 12, 0, 20, 20, 14, 16, 9, 0, 47, 52, 0, 43, 41, 50, 47, 54, 58, 47, 41, 0, 41, 53, 53, 56, 42, 47, 52, 39, 58, 43, 57, 0, 8, 12, 0, 9, 14, 0, 39, 41, 41, 53, 56, 42, 47, 52, 45, 0, 58, 53, 0, 58, 46, 43, 0, 57, 59, 56, 60, 43, 63, 57, 0, 41, 39, 56, 56, 47, 43, 42, 0, 53, 59, 58, 0, 40, 63, 0, 58, 46, 43, 0, 47, 52, 44, 56, 39, 56, 43, 42, 0, 39, 57, 58, 56, 53, 52, 53, 51, 47, 41, 39, 50, 0, 57, 39, 58, 43, 50, 50, 47, 58, 43, 0, 47, 56, 39, 57, 12, 0, 58, 46, 43, 0, 48, 39, 54, 39, 52, 43, 57, 43, 0, 39, 49, 39, 56, 47, 0, 57, 39, 58, 43, 50, 50, 47, 58, 43, 0, 39, 52, 42, 0, 58, 46, 43, 0, 52, 43, 53, 61, 47, 57, 43, 0, 51, 47, 57, 57, 47, 53, 52, 0, 53, 44, 0, 52, 39, 57, 39, 7, 57, 0, 61, 47, 42, 43, 13, 44, 47, 43, 50, 42, 0, 47, 52, 44, 56, 39, 56, 43, 42, 0, 57, 59, 56, 60, 43, 63, 0, 43, 62, 54, 50, 53, 56, 43, 56, 12, 0, 46, 43, 50, 47, 52, 39, 0, 51, 43, 39, 57, 59, 56, 43, 57, 0, 40, 43, 58, 61, 43, 43, 52, 0, 18, 22, 14, 17, 25, 24, 0, 39, 52, 42, 0, 19, 23, 14, 25, 19, 0, 49, 47, 50, 53, 51, 43, 58, 43, 56, 57, 0, 47, 52, 0, 42, 47, 39, 51, 43, 58, 43, 56, 0, 39, 52, 42, 0, 47, 58, 57, 0, 57, 59, 56, 44, 39, 41, 43, 0, 46, 39, 57, 0, 39, 52, 0, 39, 50, 40, 43, 42, 53, 0, 40, 43, 58, 61, 43, 43, 52, 0, 16, 14, 17, 17, 0, 39, 52, 42, 0, 16, 14, 17, 18, 25, 14, 0, 58, 46, 43, 0, 41, 53, 50, 50, 39, 40, 53, 56, 39, 58, 47, 60, 43, 0, 39, 57, 58, 43, 56, 53, 47, 42, 0, 50, 47, 45, 46, 58, 41, 59, 56, 60, 43, 0, 50, 47, 52, 49, 0, 39, 42, 53, 54, 58, 57, 0, 58, 46, 43, 0, 56, 43, 57, 59, 50, 58, 57, 0, 53, 40, 58, 39, 47, 52, 43, 42, 0, 40, 63, 0, 47, 56, 39, 57, 12, 0, 58, 46, 39, 58, 0, 47, 57, 0, 39, 52, 0, 39, 50, 40, 43, 42, 53, 0, 53, 44, 0, 16, 14, 17, 18, 18, 16, 0, 39, 52, 42, 0, 39, 0, 42, 47, 39, 51, 43, 58, 43, 56, 0, 53, 44, 0, 19, 21, 14, 21, 18, 0, 49, 47, 50, 53, 51, 43, 58, 43, 56, 57, 0, 40, 39, 57, 43, 42, 0, 53, 52, 0, 39, 52, 0, 39, 40, 57, 53, 50, 59, 58, 43, 0, 51, 39, 45, 52, 47, 58, 59, 42, 43, 0, 53, 44, 0, 17, 16, 14, 17, 21, 14, 0, 50, 47, 45, 46, 58, 41, 59, 56, 60, 43, 0, 42, 39, 58, 39, 40, 39, 57, 43, 0, 55, 59, 43, 56, 63, 0, 8, 50, 41, 42, 40, 9, 12, 0, 39, 58, 0, 61, 61, 61, 14, 51, 47, 52, 53, 56, 54, 50, 39, 52, 43, 58, 14, 47, 52, 44, 53, 0, 42, 47, 41, 58, 47, 53, 52, 39, 56, 63, 0, 53, 44, 0, 51, 47, 52, 53, 56, 0, 54, 50, 39, 52, 43, 58, 0, 52, 39, 51, 43, 57, 12, 0, 45, 53, 53, 45, 50, 43, 0, 40, 53, 53, 49, 57, 0, 39, 57, 58, 43, 56, 53, 47, 42, 57, 0, 39, 52, 42, 0, 41, 53, 51, 43, 58, 57, 0, 56, 53, 58, 39, 58, 47, 53, 52, 0, 41, 59, 56, 60, 43, 57, 12, 0, 41, 42, 56, 0, 0, 45, 43, 52, 43, 60, 39, 0, 53, 40, 57, 43, 56, 60, 39, 58, 53, 56, 63, 12, 0, 56, 39, 53, 59, 50, 0, 40, 43, 46, 56, 43, 52, 42, 0, 42, 47, 57, 41, 53, 60, 43, 56, 63, 0, 41, 47, 56, 41, 59, 51, 57, 58, 39, 52, 41, 43, 57, 26, 0, 52, 59, 51, 40, 43, 56, 43, 42, 0, 51, 47, 52, 53, 56, 0, 54, 50, 39, 52, 43, 58, 57, 0, 8, 17, 9, 13, 8, 21, 16, 16, 16, 9, 0, 0, 51, 47, 52, 53, 56, 0, 54, 50, 39, 52, 43, 58, 0, 41, 43, 52, 58, 43, 56, 0, 17, 16, 23, 21, 0, 46, 43, 50, 47, 52, 39, 0, 39, 58, 0, 39, 57, 58, 42, 63, 57, 13, 18, 12, 0, 39, 57, 58, 43, 56, 53, 47, 42, 57, 42, 63, 52, 39, 51, 47, 41, 0, 57, 47, 58, 43, 0, 43, 54, 46, 43, 51, 43, 56, 47, 57, 0, 0, 53, 40, 57, 43, 56, 60, 39, 58, 47, 53, 52, 0, 54, 56, 43, 42, 47, 41, 58, 47, 53, 52, 0, 0, 53, 56, 40, 47, 58, 39, 50, 0, 47, 52, 44, 53, 0, 0, 54, 56, 53, 54, 43, 56, 0, 43, 50, 43, 51, 43, 52, 58, 57, 0, 0, 53, 40, 57, 43, 56, 60, 39, 58, 47, 53, 52, 39, 50, 0, 47, 52, 44, 53, 0, 17, 16, 23, 21, 0, 46, 43, 50, 47, 52, 39, 0, 39, 58, 0, 58, 46, 43, 0, 48, 54, 50, 0, 57, 51, 39, 50, 50, 13, 40, 53, 42, 63, 0, 42, 39, 58, 39, 40, 39, 57, 43, 69]\n"
     ]
    }
   ],
   "source": [
    "sequences = []\n",
    "for article in corpus:\n",
    "    # Convert article characters to token indices\n",
    "    sequence = [token_to_index[token] for token in article]\n",
    "    # Append the end-of-sequence token index\n",
    "    sequence.append(token_to_index[eos])\n",
    "    # Add the complete sequence to the list of sequences\n",
    "    sequences.append(sequence)\n",
    "\n",
    "print(sequences[0])"
   ]
  },
  {
   "cell_type": "code",
   "execution_count": 8,
   "id": "5f6e9e21",
   "metadata": {},
   "outputs": [],
   "source": [
    "input_size = len(unique_characters)\n",
    "hidden_size = 100\n",
    "output_size = len(unique_characters)\n",
    "model = RNN(input_size=input_size, hidden_size=hidden_size, output_size=output_size,\n",
    "            token_to_index=token_to_index, index_to_token=index_to_token,\n",
    "            index_to_embedding=None, one_hot=True, eos=eos)"
   ]
  },
  {
   "cell_type": "code",
   "execution_count": null,
   "id": "5278c7cf",
   "metadata": {},
   "outputs": [
    {
     "name": "stderr",
     "output_type": "stream",
     "text": [
      "Epoch:   0%|          | 0/2000 [00:00<?, ?it/s]"
     ]
    }
   ],
   "source": [
    "checkpoints = model.train(sequences=sequences, epochs=2000, checkpoints=[500, 1000, 2000])"
   ]
  },
  {
   "cell_type": "code",
   "execution_count": null,
   "id": "e08bd4ce",
   "metadata": {},
   "outputs": [],
   "source": [
    "for i in range(3):\n",
    "    model.load_checkpoint(checkpoint = checkpoints[i])\n",
    "    text_example = \"The U.S is the root of all evil in the\"\n",
    "    output = model.predict(input_sequence=sequences[0][:100])\n",
    "    print(f\"Experiment with {i} iterations:\\n{output}\")"
   ]
  },
  {
   "cell_type": "markdown",
   "id": "acd03997",
   "metadata": {},
   "source": [
    "# Word tokens"
   ]
  },
  {
   "cell_type": "code",
   "execution_count": null,
   "id": "49b81a9c",
   "metadata": {},
   "outputs": [],
   "source": []
  }
 ],
 "metadata": {
  "kernelspec": {
   "display_name": ".venv",
   "language": "python",
   "name": "python3"
  },
  "language_info": {
   "codemirror_mode": {
    "name": "ipython",
    "version": 3
   },
   "file_extension": ".py",
   "mimetype": "text/x-python",
   "name": "python",
   "nbconvert_exporter": "python",
   "pygments_lexer": "ipython3",
   "version": "3.11.11"
  }
 },
 "nbformat": 4,
 "nbformat_minor": 5
}
