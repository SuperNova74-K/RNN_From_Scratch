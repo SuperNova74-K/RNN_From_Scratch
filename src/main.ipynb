{
 "cells": [
  {
   "cell_type": "markdown",
   "id": "e814826d",
   "metadata": {},
   "source": [
    "# RNN from scratch"
   ]
  },
  {
   "cell_type": "code",
   "execution_count": 6,
   "id": "7709c312",
   "metadata": {},
   "outputs": [],
   "source": [
    "import glob\n",
    "import torch\n",
    "from importlib import reload\n",
    "\n",
    "# %load_ext autoreload\n",
    "# %autoreload 2\n",
    "import utils\n",
    "reload(utils)\n",
    "from utils.files import *"
   ]
  },
  {
   "cell_type": "markdown",
   "id": "dffd59f2",
   "metadata": {},
   "source": [
    "# Data preparation"
   ]
  },
  {
   "cell_type": "code",
   "execution_count": 7,
   "id": "9fe7319b",
   "metadata": {},
   "outputs": [
    {
     "name": "stdout",
     "output_type": "stream",
     "text": [
      "1085\n",
      "1075 Helina, provisional designation 1926 SC, is a stony Eos asteroid from the outer regions of the \n"
     ]
    }
   ],
   "source": [
    "article_paths = glob.glob(\"data/articles/*.txt\")\n",
    "\n",
    "corpus = [\n",
    "    read_file(article_path) for article_path in article_paths\n",
    "]\n",
    "\n",
    "print(len(corpus))\n",
    "print(corpus[0][:100])"
   ]
  },
  {
   "cell_type": "code",
   "execution_count": 37,
   "id": "c1b2de75",
   "metadata": {},
   "outputs": [
    {
     "name": "stdout",
     "output_type": "stream",
     "text": [
      "Vocab size: 95\n"
     ]
    }
   ],
   "source": [
    "full_text = ' '.join(corpus)\n",
    "\n",
    "full_text = ' '.join(c for c in full_text if ord(c) < 128)\n",
    "\n",
    "unique_characters = sorted(list(set(full_text)))\n",
    "\n",
    "input_size = len(unique_characters)\n",
    "print(f\"Vocab size: {input_size}\")"
   ]
  },
  {
   "cell_type": "code",
   "execution_count": 38,
   "id": "7801d9ab",
   "metadata": {},
   "outputs": [],
   "source": [
    "token_to_index = {ch: i for i, ch in enumerate(unique_characters)}\n",
    "index_to_token = {i: ch for i, ch in enumerate(unique_characters)}"
   ]
  },
  {
   "cell_type": "code",
   "execution_count": null,
   "id": "0b3641e7",
   "metadata": {},
   "outputs": [
    {
     "ename": "ValueError",
     "evalue": "too many dimensions 'str'",
     "output_type": "error",
     "traceback": [
      "\u001b[31m---------------------------------------------------------------------------\u001b[39m",
      "\u001b[31mValueError\u001b[39m                                Traceback (most recent call last)",
      "\u001b[36mCell\u001b[39m\u001b[36m \u001b[39m\u001b[32mIn[40]\u001b[39m\u001b[32m, line 10\u001b[39m\n\u001b[32m      7\u001b[39m     sequences.append(seq)\n\u001b[32m      8\u001b[39m     targets.append(target)\n\u001b[32m---> \u001b[39m\u001b[32m10\u001b[39m sequences_tensor = \u001b[43mtorch\u001b[49m\u001b[43m.\u001b[49m\u001b[43mLongTensor\u001b[49m\u001b[43m(\u001b[49m\u001b[43msequences\u001b[49m\u001b[43m)\u001b[49m\n\u001b[32m     11\u001b[39m targets_tensor = torch.LongTensor(targets)    \n\u001b[32m     13\u001b[39m \u001b[38;5;28mprint\u001b[39m(targets[\u001b[32m0\u001b[39m])\n",
      "\u001b[31mValueError\u001b[39m: too many dimensions 'str'"
     ]
    }
   ],
   "source": [
    "seq_length = 15\n",
    "sequences = []\n",
    "targets = []\n",
    "for i in range(len(full_text) - seq_length - 1):\n",
    "    seq = full_text[i:i + seq_length]\n",
    "    target = full_text[i + seq_length + 1]\n",
    "    sequences.append(seq)\n",
    "    targets.append(target)\n",
    "\n",
    "print(targets[0])\n",
    "print(sequences[0])"
   ]
  },
  {
   "cell_type": "code",
   "execution_count": null,
   "id": "a3eab1fd",
   "metadata": {},
   "outputs": [],
   "source": []
  }
 ],
 "metadata": {
  "kernelspec": {
   "display_name": ".venv",
   "language": "python",
   "name": "python3"
  },
  "language_info": {
   "codemirror_mode": {
    "name": "ipython",
    "version": 3
   },
   "file_extension": ".py",
   "mimetype": "text/x-python",
   "name": "python",
   "nbconvert_exporter": "python",
   "pygments_lexer": "ipython3",
   "version": "3.11.11"
  }
 },
 "nbformat": 4,
 "nbformat_minor": 5
}
