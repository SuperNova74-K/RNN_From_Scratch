{
 "cells": [
  {
   "cell_type": "code",
   "execution_count": 14,
   "id": "eb601624",
   "metadata": {},
   "outputs": [],
   "source": [
    "import wikipedia\n",
    "import re\n",
    "import os\n",
    "import time\n",
    "import json\n",
    "from tqdm import tqdm"
   ]
  },
  {
   "cell_type": "code",
   "execution_count": 15,
   "id": "064714dd",
   "metadata": {},
   "outputs": [],
   "source": [
    "# Define the path for the tracking file\n",
    "TRACKING_FILE = \"data/scraped_articles.json\"\n",
    "\n",
    "# Load previously scraped articles from JSON file\n",
    "def load_scraped_articles():\n",
    "    if os.path.exists(TRACKING_FILE):\n",
    "        try:\n",
    "            with open(TRACKING_FILE, 'r', encoding='utf-8') as f:\n",
    "                data = json.load(f)\n",
    "                return set(data.get('articles', []))\n",
    "        except Exception as e:\n",
    "            print(f\"Error loading tracking file: {e}\")\n",
    "            return set()\n",
    "    else:\n",
    "        # Create empty tracking file if it doesn't exist\n",
    "        with open(TRACKING_FILE, 'w', encoding='utf-8') as f:\n",
    "            json.dump({\"articles\": []}, f)\n",
    "        return set()\n",
    "\n",
    "# Save scraped articles to JSON file\n",
    "def save_scraped_articles(scraped_articles):\n",
    "    try:\n",
    "        with open(TRACKING_FILE, 'w', encoding='utf-8') as f:\n",
    "            json.dump({\"articles\": list(scraped_articles)}, f, indent=2)\n",
    "        return True\n",
    "    except Exception as e:\n",
    "        print(f\"Error saving tracking file: {e}\")\n",
    "        return False"
   ]
  },
  {
   "cell_type": "code",
   "execution_count": 16,
   "id": "a539960c",
   "metadata": {},
   "outputs": [],
   "source": [
    "def extract_wikipedia_text(article_titles, output_dir=\"data/articles\", sleep_time=2):\n",
    "    # Create output directory if it doesn't exist\n",
    "    if not os.path.exists(output_dir):\n",
    "        os.makedirs(output_dir)\n",
    "    \n",
    "    # Load previously scraped articles\n",
    "    scraped_articles = load_scraped_articles()\n",
    "    \n",
    "    # Set Wikipedia language\n",
    "    wikipedia.set_lang(\"en\")\n",
    "    \n",
    "    results = {}\n",
    "    \n",
    "    for title in tqdm(article_titles):\n",
    "        try:\n",
    "            # Get the article content\n",
    "            page = wikipedia.page(title, auto_suggest=False)\n",
    "            \n",
    "            # Extract the content\n",
    "            content = page.content\n",
    "            \n",
    "            # Clean the text\n",
    "            # Remove section headings (== Section title ==)\n",
    "            content = re.sub(r'==+\\s*[^=]+\\s*==+', '', content)\n",
    "            \n",
    "            # Remove citations like [1], [2], etc.\n",
    "            content = re.sub(r'\\[\\d+\\]', '', content)\n",
    "            \n",
    "            # Remove text inside parentheses (often contains pronunciation guides or additional info)\n",
    "            # content = re.sub(r'\\([^)]*\\)', '', content)  # Optional, may remove important content\n",
    "            \n",
    "            # Remove extra whitespace\n",
    "            content = re.sub(r'\\s+', ' ', content).strip()\n",
    "            \n",
    "            # Check if content has at least 3 periods (dots)\n",
    "            if content.count('.') < 3:\n",
    "                print(f\"Rejecting '{title}' - insufficient sentences (less than 3 periods)\")\n",
    "                continue\n",
    "\n",
    "            # Save to file\n",
    "            clean_title = re.sub(r'[^\\w\\s-]', '', title).strip().replace(' ', '_')\n",
    "            file_path = os.path.join(output_dir, f\"{clean_title}.txt\")\n",
    "            \n",
    "            with open(file_path, 'w', encoding='utf-8') as f:\n",
    "                f.write(content)\n",
    "            \n",
    "            # Store in dictionary\n",
    "            results[title] = content\n",
    "            \n",
    "            # Add to scraped articles and save tracking file\n",
    "            scraped_articles.add(title)\n",
    "            save_scraped_articles(scraped_articles)\n",
    "            print(f\"Saved article: '{title}' and updated tracking file\")\n",
    "            \n",
    "            # Sleep to avoid rate limiting\n",
    "            time.sleep(sleep_time)\n",
    "            \n",
    "        except wikipedia.exceptions.DisambiguationError as e:\n",
    "            print(f\"DisambiguationError for '{title}': {e}\")\n",
    "            print(f\"Suggestions: {e.options[:5]}\")\n",
    "            \n",
    "        except wikipedia.exceptions.PageError:\n",
    "            print(f\"PageError: '{title}' does not match any pages. Try another title!\")\n",
    "            \n",
    "        except Exception as e:\n",
    "            print(f\"Error processing '{title}': {e}\")\n",
    "    \n",
    "    return results"
   ]
  },
  {
   "cell_type": "code",
   "execution_count": 17,
   "id": "aeba44b5",
   "metadata": {},
   "outputs": [],
   "source": [
    "from utils.files import *\n",
    "# Read the file\n",
    "wiki_articles_names = read_file(\"data/wikiArticleTitleList.txt\")"
   ]
  },
  {
   "cell_type": "code",
   "execution_count": 18,
   "id": "a18e290a",
   "metadata": {},
   "outputs": [
    {
     "name": "stdout",
     "output_type": "stream",
     "text": [
      "!\n",
      "!!\n",
      "!!!\n",
      "!!!Fuck_You!!!\n",
      "!!!Fuck_You!!!_And_Then_So\n"
     ]
    }
   ],
   "source": [
    "print(wiki_articles_names[:50])"
   ]
  },
  {
   "cell_type": "code",
   "execution_count": 19,
   "id": "5ad566ee",
   "metadata": {},
   "outputs": [],
   "source": [
    "def is_ascii(s):\n",
    "    try:\n",
    "        s.encode('ascii').decode('ascii')\n",
    "    except UnicodeEncodeError:\n",
    "        return False\n",
    "    else:\n",
    "        return True"
   ]
  },
  {
   "cell_type": "code",
   "execution_count": 20,
   "id": "21c3853a",
   "metadata": {},
   "outputs": [],
   "source": [
    "wiki_articles_names = wiki_articles_names.split(\"\\n\")"
   ]
  },
  {
   "cell_type": "code",
   "execution_count": 21,
   "id": "2604e23e",
   "metadata": {},
   "outputs": [
    {
     "name": "stdout",
     "output_type": "stream",
     "text": [
      "['!', '!!', '!!!', '!!!Fuck_You!!!', '!!!Fuck_You!!!_And_Then_Some']\n"
     ]
    }
   ],
   "source": [
    "print(wiki_articles_names[:5])  # Print the first 5 article titles for verification"
   ]
  },
  {
   "cell_type": "code",
   "execution_count": 22,
   "id": "2985be40",
   "metadata": {},
   "outputs": [
    {
     "name": "stdout",
     "output_type": "stream",
     "text": [
      "Found 395 previously scraped articles\n",
      "14846581 articles remaining after removing already scraped ones\n"
     ]
    }
   ],
   "source": [
    "# Filter articles that have already been scraped\n",
    "scraped_articles = load_scraped_articles()\n",
    "print(f\"Found {len(scraped_articles)} previously scraped articles\")\n",
    "\n",
    "# Filter out already scraped articles\n",
    "wiki_articles_names = [name for name in wiki_articles_names if name not in scraped_articles]\n",
    "print(f\"{len(wiki_articles_names)} articles remaining after removing already scraped ones\")"
   ]
  },
  {
   "cell_type": "code",
   "execution_count": 23,
   "id": "0b117542",
   "metadata": {},
   "outputs": [],
   "source": [
    "def is_valid_windows_filename(filename):\n",
    "    reserved_chars = r'[<>:\"/\\\\|?*]'\n",
    "    # Reserved names in Windows\n",
    "    reserved_names = [\n",
    "        \"CON\", \"PRN\", \"AUX\", \"NUL\", \"COM1\", \"COM2\", \"COM3\", \"COM4\",\n",
    "        \"COM5\", \"COM6\", \"COM7\", \"COM8\", \"COM9\", \"LPT1\", \"LPT2\", \"LPT3\",\n",
    "        \"LPT4\", \"LPT5\", \"LPT6\", \"LPT7\", \"LPT8\", \"LPT9\"\n",
    "    ]\n",
    "\n",
    "    # Check for invalid characters\n",
    "    if re.search(reserved_chars, filename):\n",
    "        return False\n",
    "\n",
    "    # Check for reserved names (case-insensitive)\n",
    "    if filename.upper() in reserved_names:\n",
    "        return False\n",
    "\n",
    "    # Check if the filename ends with a period or space\n",
    "    if filename.endswith(\".\") or filename.endswith(\" \"):\n",
    "        return False\n",
    "\n",
    "    # Check if the filename is too long (Windows has a limit of 255 characters for the full path)\n",
    "    if len(filename) > 255:\n",
    "        return False\n",
    "\n",
    "    return True"
   ]
  },
  {
   "cell_type": "code",
   "execution_count": 24,
   "id": "b6ae1ffd",
   "metadata": {},
   "outputs": [],
   "source": [
    "wiki_articles_names = [name for name in wiki_articles_names if is_valid_windows_filename(name)]"
   ]
  },
  {
   "cell_type": "code",
   "execution_count": 25,
   "id": "0288bba2",
   "metadata": {},
   "outputs": [],
   "source": [
    "import random\n",
    "random.shuffle(wiki_articles_names)\n",
    "\n",
    "N_ARTICLES = 1000\n",
    "\n",
    "wiki_articles_names = wiki_articles_names[:N_ARTICLES]  # Limit to 1000 articles for testing"
   ]
  },
  {
   "cell_type": "code",
   "execution_count": 26,
   "id": "2a212faf",
   "metadata": {},
   "outputs": [
    {
     "name": "stderr",
     "output_type": "stream",
     "text": [
      "  0%|          | 0/1000 [00:00<?, ?it/s]"
     ]
    },
    {
     "name": "stdout",
     "output_type": "stream",
     "text": [
      "Saved article: 'Jewish_Channel' and updated tracking file\n"
     ]
    },
    {
     "name": "stderr",
     "output_type": "stream",
     "text": [
      "  0%|          | 2/1000 [00:04<31:20,  1.88s/it]  "
     ]
    },
    {
     "name": "stdout",
     "output_type": "stream",
     "text": [
      "Error processing 'C%C3%A9sar_Roux': 'fullurl'\n",
      "Saved article: 'Mesarfelta' and updated tracking file\n"
     ]
    },
    {
     "name": "stderr",
     "output_type": "stream",
     "text": [
      "  0%|          | 3/1000 [00:07<41:43,  2.51s/it]"
     ]
    },
    {
     "name": "stdout",
     "output_type": "stream",
     "text": [
      "Saved article: 'Prince_Abbas_Mirza_Farman_Farmaian' and updated tracking file\n"
     ]
    },
    {
     "name": "stderr",
     "output_type": "stream",
     "text": [
      "  0%|          | 5/1000 [00:11<35:25,  2.14s/it]"
     ]
    },
    {
     "name": "stdout",
     "output_type": "stream",
     "text": [
      "Error processing 'Chappell_%26_Company': 'fullurl'\n",
      "Saved article: 'Session_description_protocol' and updated tracking file\n"
     ]
    },
    {
     "name": "stderr",
     "output_type": "stream",
     "text": [
      "  1%|          | 6/1000 [00:15<44:34,  2.69s/it]"
     ]
    },
    {
     "name": "stdout",
     "output_type": "stream",
     "text": [
      "Saved article: 'Schutzenwiese_Stadion' and updated tracking file\n"
     ]
    },
    {
     "name": "stderr",
     "output_type": "stream",
     "text": [
      "  1%|          | 7/1000 [00:19<50:26,  3.05s/it]"
     ]
    },
    {
     "name": "stdout",
     "output_type": "stream",
     "text": [
      "Saved article: 'Second_Battle_of_Guam' and updated tracking file\n"
     ]
    },
    {
     "name": "stderr",
     "output_type": "stream",
     "text": [
      "  1%|          | 8/1000 [00:23<54:14,  3.28s/it]"
     ]
    },
    {
     "name": "stdout",
     "output_type": "stream",
     "text": [
      "Saved article: 'PSC_Inter_Baku' and updated tracking file\n"
     ]
    },
    {
     "name": "stderr",
     "output_type": "stream",
     "text": [
      "  1%|          | 10/1000 [00:27<42:08,  2.55s/it]"
     ]
    },
    {
     "name": "stdout",
     "output_type": "stream",
     "text": [
      "Error processing '%2BATR': 'fullurl'\n",
      "Saved article: 'Henry_Brougham_(rugby_union)' and updated tracking file\n"
     ]
    },
    {
     "name": "stderr",
     "output_type": "stream",
     "text": [
      "  1%|          | 12/1000 [00:32<36:23,  2.21s/it]"
     ]
    },
    {
     "name": "stdout",
     "output_type": "stream",
     "text": [
      "Error processing 'Marco_Ant%C3%B4nio_Boiadeiro': 'fullurl'\n"
     ]
    },
    {
     "name": "stderr",
     "output_type": "stream",
     "text": [
      "  1%|▏         | 13/1000 [00:32<28:10,  1.71s/it]"
     ]
    },
    {
     "name": "stdout",
     "output_type": "stream",
     "text": [
      "Error processing 'D%C3%BCndar': 'fullurl'\n"
     ]
    },
    {
     "name": "stderr",
     "output_type": "stream",
     "text": [
      "  1%|▏         | 14/1000 [00:33<22:25,  1.36s/it]"
     ]
    },
    {
     "name": "stdout",
     "output_type": "stream",
     "text": [
      "Error processing '%F0%9F%9B%A2': 'fullurl'\n",
      "Saved article: 'Terracina_(Coatesville,_Pennsylvania)' and updated tracking file\n"
     ]
    },
    {
     "name": "stderr",
     "output_type": "stream",
     "text": [
      "  2%|▏         | 15/1000 [00:36<31:16,  1.91s/it]"
     ]
    },
    {
     "name": "stdout",
     "output_type": "stream",
     "text": [
      "Saved article: 'Ancestral_name' and updated tracking file\n"
     ]
    },
    {
     "name": "stderr",
     "output_type": "stream",
     "text": [
      "  2%|▏         | 16/1000 [00:40<41:20,  2.52s/it]"
     ]
    },
    {
     "name": "stdout",
     "output_type": "stream",
     "text": [
      "Saved article: 'Doha_College' and updated tracking file\n"
     ]
    },
    {
     "name": "stderr",
     "output_type": "stream",
     "text": [
      "  2%|▏         | 18/1000 [00:43<33:48,  2.07s/it]"
     ]
    },
    {
     "name": "stdout",
     "output_type": "stream",
     "text": [
      "Error processing '%F0%9F%A4%AE': 'fullurl'\n",
      "Saved article: 'List_of_Latin_place_names_in_Spain' and updated tracking file\n"
     ]
    },
    {
     "name": "stderr",
     "output_type": "stream",
     "text": [
      "  2%|▏         | 19/1000 [00:47<42:02,  2.57s/it]"
     ]
    },
    {
     "name": "stdout",
     "output_type": "stream",
     "text": [
      "Saved article: 'Pasila_(TV_series)' and updated tracking file\n"
     ]
    },
    {
     "name": "stderr",
     "output_type": "stream",
     "text": [
      "  2%|▏         | 21/1000 [00:52<36:14,  2.22s/it]"
     ]
    },
    {
     "name": "stdout",
     "output_type": "stream",
     "text": [
      "Error processing 'Cheshmeh_Sorkheh-ye_Dara%27i': 'fullurl'\n"
     ]
    },
    {
     "name": "stderr",
     "output_type": "stream",
     "text": [
      "  2%|▏         | 22/1000 [00:52<28:05,  1.72s/it]"
     ]
    },
    {
     "name": "stdout",
     "output_type": "stream",
     "text": [
      "Error processing '%F0%9F%A6%97': 'fullurl'\n",
      "Saved article: 'The_Mirror_Conspiracy_(song)' and updated tracking file\n"
     ]
    },
    {
     "name": "stderr",
     "output_type": "stream",
     "text": [
      "  2%|▏         | 24/1000 [00:57<33:38,  2.07s/it]"
     ]
    },
    {
     "name": "stdout",
     "output_type": "stream",
     "text": [
      "DisambiguationError for 'Sumatra_(disambiguation)': \"Sumatra_(disambiguation)\" may refer to: \n",
      "ornamental fish\n",
      "Sumatra chicken\n",
      "Arabica coffee\n",
      "Sumatra, Florida\n",
      "Sumatra PDF\n",
      "Sumatra (song)\n",
      "Serbian\n",
      "Sumatra (HBC vessel)\n",
      "HNLMS Sumatra (1890)\n",
      "HNLMS Sumatra (1920)\n",
      "Sumatriptan\n",
      "Suggestions: ['ornamental fish', 'Sumatra chicken', 'Arabica coffee', 'Sumatra, Florida', 'Sumatra PDF']\n",
      "Saved article: 'List_of_Jersey_Shore_episodes' and updated tracking file\n"
     ]
    },
    {
     "name": "stderr",
     "output_type": "stream",
     "text": [
      "  3%|▎         | 26/1000 [01:01<30:14,  1.86s/it]"
     ]
    },
    {
     "name": "stdout",
     "output_type": "stream",
     "text": [
      "Error processing '%F0%9F%A7%9A': 'fullurl'\n",
      "Saved article: 'Arnold_Amet' and updated tracking file\n"
     ]
    },
    {
     "name": "stderr",
     "output_type": "stream",
     "text": [
      "  3%|▎         | 27/1000 [01:04<36:41,  2.26s/it]"
     ]
    },
    {
     "name": "stdout",
     "output_type": "stream",
     "text": [
      "Saved article: 'Roger_Neilson' and updated tracking file\n"
     ]
    },
    {
     "name": "stderr",
     "output_type": "stream",
     "text": [
      "  3%|▎         | 28/1000 [01:08<41:16,  2.55s/it]"
     ]
    },
    {
     "name": "stdout",
     "output_type": "stream",
     "text": [
      "Saved article: 'Elle_me_controle' and updated tracking file\n"
     ]
    },
    {
     "name": "stderr",
     "output_type": "stream",
     "text": [
      "  3%|▎         | 30/1000 [01:14<46:13,  2.86s/it]"
     ]
    },
    {
     "name": "stdout",
     "output_type": "stream",
     "text": [
      "Rejecting 'Abdollahabad-e_Do' - insufficient sentences (less than 3 periods)\n",
      "Saved article: 'Norra_Kvill' and updated tracking file\n"
     ]
    },
    {
     "name": "stderr",
     "output_type": "stream",
     "text": [
      "  3%|▎         | 31/1000 [01:18<50:37,  3.13s/it]"
     ]
    },
    {
     "name": "stdout",
     "output_type": "stream",
     "text": [
      "Saved article: 'WNSS_(AM)' and updated tracking file\n"
     ]
    },
    {
     "name": "stderr",
     "output_type": "stream",
     "text": [
      "  3%|▎         | 32/1000 [01:22<54:09,  3.36s/it]"
     ]
    },
    {
     "name": "stdout",
     "output_type": "stream",
     "text": [
      "Saved article: 'Mikhail_Khorobrit' and updated tracking file\n"
     ]
    },
    {
     "name": "stderr",
     "output_type": "stream",
     "text": [
      "  3%|▎         | 33/1000 [01:25<53:55,  3.35s/it]"
     ]
    },
    {
     "name": "stdout",
     "output_type": "stream",
     "text": [
      "Saved article: 'Analytical_chemists' and updated tracking file\n"
     ]
    },
    {
     "name": "stderr",
     "output_type": "stream",
     "text": [
      "  4%|▎         | 35/1000 [01:31<48:50,  3.04s/it]"
     ]
    },
    {
     "name": "stdout",
     "output_type": "stream",
     "text": [
      "DisambiguationError for 'Dungeons_and_Dragons_film': \"Dungeons & Dragons (disambiguation)\" may refer to: \n",
      "Dungeons & Dragons (1974)\n",
      "Dungeons & Dragons (TV series)\n",
      "Dungeons & Dragons (film series)\n",
      "Dungeons & Dragons (2000 film)\n",
      "Dungeons & Dragons: Wrath of the Dragon God\n",
      "Dungeons & Dragons: Honor Among Thieves\n",
      "Dungeons & Dragons (IDW Publishing)\n",
      "Dungeons & Dragons novels\n",
      "Dead Alewives\n",
      "Dungeons & Dragons (album)\n",
      "Dungeons & Dragons\n",
      "Advanced Dungeons & Dragons\n",
      "D&D (disambiguation)\n",
      "List of Dungeons & Dragons video games\n",
      "List of Wizards of the Coast products\n",
      "Suggestions: ['Dungeons & Dragons (1974)', 'Dungeons & Dragons (TV series)', 'Dungeons & Dragons (film series)', 'Dungeons & Dragons (2000 film)', 'Dungeons & Dragons: Wrath of the Dragon God']\n",
      "Saved article: 'Macomo_Ranger' and updated tracking file\n"
     ]
    },
    {
     "name": "stderr",
     "output_type": "stream",
     "text": [
      "  4%|▎         | 36/1000 [01:35<53:07,  3.31s/it]"
     ]
    },
    {
     "name": "stdout",
     "output_type": "stream",
     "text": [
      "Saved article: 'Exline' and updated tracking file\n"
     ]
    },
    {
     "name": "stderr",
     "output_type": "stream",
     "text": [
      "  4%|▎         | 37/1000 [01:39<57:02,  3.55s/it]"
     ]
    },
    {
     "name": "stdout",
     "output_type": "stream",
     "text": [
      "Saved article: 'Creel_committee' and updated tracking file\n"
     ]
    },
    {
     "name": "stderr",
     "output_type": "stream",
     "text": [
      "  4%|▍         | 38/1000 [01:43<58:31,  3.65s/it]"
     ]
    },
    {
     "name": "stdout",
     "output_type": "stream",
     "text": [
      "Saved article: 'Duhovschinskii_Raion' and updated tracking file\n"
     ]
    },
    {
     "name": "stderr",
     "output_type": "stream",
     "text": [
      "  4%|▍         | 39/1000 [01:47<58:56,  3.68s/it]"
     ]
    },
    {
     "name": "stdout",
     "output_type": "stream",
     "text": [
      "Saved article: '4_Alone' and updated tracking file\n"
     ]
    },
    {
     "name": "stderr",
     "output_type": "stream",
     "text": [
      "  4%|▍         | 41/1000 [01:52<50:08,  3.14s/it]"
     ]
    },
    {
     "name": "stdout",
     "output_type": "stream",
     "text": [
      "Rejecting 'Luftenberg' - insufficient sentences (less than 3 periods)\n",
      "Saved article: 'Lightning_Conductor_(film)' and updated tracking file\n"
     ]
    },
    {
     "name": "stderr",
     "output_type": "stream",
     "text": [
      "  4%|▍         | 42/1000 [01:56<53:27,  3.35s/it]"
     ]
    },
    {
     "name": "stdout",
     "output_type": "stream",
     "text": [
      "Saved article: 'Kotodama_-_Spiritual_Curse' and updated tracking file\n"
     ]
    },
    {
     "name": "stderr",
     "output_type": "stream",
     "text": [
      "  4%|▍         | 43/1000 [02:00<55:16,  3.47s/it]"
     ]
    },
    {
     "name": "stdout",
     "output_type": "stream",
     "text": [
      "Saved article: 'Johanna_Quandt' and updated tracking file\n"
     ]
    },
    {
     "name": "stderr",
     "output_type": "stream",
     "text": [
      "  4%|▍         | 45/1000 [02:03<40:15,  2.53s/it]"
     ]
    },
    {
     "name": "stdout",
     "output_type": "stream",
     "text": [
      "PageError: 'SimonDelivers' does not match any pages. Try another title!\n",
      "Saved article: 'FCAR_(gene)' and updated tracking file\n"
     ]
    },
    {
     "name": "stderr",
     "output_type": "stream",
     "text": [
      "  5%|▍         | 47/1000 [02:09<40:56,  2.58s/it]"
     ]
    },
    {
     "name": "stdout",
     "output_type": "stream",
     "text": [
      "Rejecting 'Antoni_Gelabert' - insufficient sentences (less than 3 periods)\n",
      "Saved article: 'Zacorisca_seramica' and updated tracking file\n"
     ]
    },
    {
     "name": "stderr",
     "output_type": "stream",
     "text": [
      "  5%|▍         | 48/1000 [02:12<43:42,  2.75s/it]"
     ]
    },
    {
     "name": "stdout",
     "output_type": "stream",
     "text": [
      "Saved article: 'Kenevis' and updated tracking file\n"
     ]
    },
    {
     "name": "stderr",
     "output_type": "stream",
     "text": [
      "  5%|▍         | 49/1000 [02:16<48:26,  3.06s/it]"
     ]
    },
    {
     "name": "stdout",
     "output_type": "stream",
     "text": [
      "Saved article: 'Jump_cut' and updated tracking file\n"
     ]
    },
    {
     "name": "stderr",
     "output_type": "stream",
     "text": [
      "  5%|▌         | 51/1000 [02:21<43:37,  2.76s/it]"
     ]
    },
    {
     "name": "stdout",
     "output_type": "stream",
     "text": [
      "Rejecting 'Nikolay_Tsygan' - insufficient sentences (less than 3 periods)\n"
     ]
    },
    {
     "name": "stderr",
     "output_type": "stream",
     "text": [
      "  5%|▌         | 52/1000 [02:23<36:59,  2.34s/it]"
     ]
    },
    {
     "name": "stdout",
     "output_type": "stream",
     "text": [
      "Rejecting 'Mehmet_Hayri_Bey' - insufficient sentences (less than 3 periods)\n",
      "Saved article: 'East_Rumelia' and updated tracking file\n"
     ]
    },
    {
     "name": "stderr",
     "output_type": "stream",
     "text": [
      "  5%|▌         | 54/1000 [02:27<33:15,  2.11s/it]"
     ]
    },
    {
     "name": "stdout",
     "output_type": "stream",
     "text": [
      "Error processing '%F0%9F%9A%92': 'fullurl'\n",
      "Saved article: 'Saint_Roger_Niger' and updated tracking file\n"
     ]
    },
    {
     "name": "stderr",
     "output_type": "stream",
     "text": [
      "  6%|▌         | 56/1000 [02:33<37:36,  2.39s/it]"
     ]
    },
    {
     "name": "stdout",
     "output_type": "stream",
     "text": [
      "DisambiguationError for 'Khurd_(disambiguation)': \"Khurd_(disambiguation)\" may refer to: \n",
      "Khurd\n",
      "Khurd, Sultanpur Lodhi\n",
      "Berote Khurd\n",
      "Hurd\n",
      "Kalan (disambiguation)\n",
      "Suggestions: ['Khurd', 'Khurd, Sultanpur Lodhi', 'Berote Khurd', 'Hurd', 'Kalan (disambiguation)']\n",
      "Saved article: 'Dokis_9' and updated tracking file\n"
     ]
    },
    {
     "name": "stderr",
     "output_type": "stream",
     "text": [
      "  6%|▌         | 57/1000 [02:37<44:03,  2.80s/it]"
     ]
    },
    {
     "name": "stdout",
     "output_type": "stream",
     "text": [
      "Saved article: 'Atenisi_Institute' and updated tracking file\n"
     ]
    },
    {
     "name": "stderr",
     "output_type": "stream",
     "text": [
      "  6%|▌         | 58/1000 [02:40<48:40,  3.10s/it]"
     ]
    },
    {
     "name": "stdout",
     "output_type": "stream",
     "text": [
      "Saved article: 'Oh_the_Deep,_Deep_Love_of_Jesus' and updated tracking file\n"
     ]
    },
    {
     "name": "stderr",
     "output_type": "stream",
     "text": [
      "  6%|▌         | 60/1000 [02:46<45:39,  2.91s/it]"
     ]
    },
    {
     "name": "stdout",
     "output_type": "stream",
     "text": [
      "Rejecting 'Albionella_chickeringi' - insufficient sentences (less than 3 periods)\n",
      "Saved article: 'Otto_Siffling' and updated tracking file\n"
     ]
    },
    {
     "name": "stderr",
     "output_type": "stream",
     "text": [
      "  6%|▌         | 62/1000 [02:50<35:23,  2.26s/it]"
     ]
    },
    {
     "name": "stdout",
     "output_type": "stream",
     "text": [
      "Error processing '2012_American_Express_%E2%80%93_TED_Open_%E2%80%93_Singles': 'fullurl'\n",
      "Saved article: 'Yericho_Christiantoko' and updated tracking file\n"
     ]
    },
    {
     "name": "stderr",
     "output_type": "stream",
     "text": [
      "  6%|▋         | 64/1000 [02:55<36:52,  2.36s/it]"
     ]
    },
    {
     "name": "stdout",
     "output_type": "stream",
     "text": [
      "DisambiguationError for 'Sacral_(disambiguation)': \"Sacral\" may refer to: \n",
      "Sacred\n",
      "sacrum\n",
      "All pages with titles beginning with Sacral \n",
      "Suggestions: ['Sacred', 'sacrum', 'All pages with titles beginning with Sacral ']\n"
     ]
    },
    {
     "name": "stderr",
     "output_type": "stream",
     "text": [
      "  6%|▋         | 65/1000 [02:56<29:07,  1.87s/it]"
     ]
    },
    {
     "name": "stdout",
     "output_type": "stream",
     "text": [
      "Error processing '%F0%9F%A4%B1': 'fullurl'\n"
     ]
    },
    {
     "name": "stderr",
     "output_type": "stream",
     "text": [
      "  7%|▋         | 66/1000 [02:58<28:36,  1.84s/it]"
     ]
    },
    {
     "name": "stdout",
     "output_type": "stream",
     "text": [
      "Rejecting 'List_of_n-alkanes' - insufficient sentences (less than 3 periods)\n",
      "Saved article: 'Hilltopper_(Amtrak)' and updated tracking file\n"
     ]
    },
    {
     "name": "stderr",
     "output_type": "stream",
     "text": [
      "  7%|▋         | 67/1000 [03:01<37:32,  2.41s/it]"
     ]
    },
    {
     "name": "stdout",
     "output_type": "stream",
     "text": [
      "Saved article: 'Emmanuel_Armand_de_Mendieta' and updated tracking file\n"
     ]
    },
    {
     "name": "stderr",
     "output_type": "stream",
     "text": [
      "  7%|▋         | 68/1000 [03:05<43:46,  2.82s/it]"
     ]
    },
    {
     "name": "stdout",
     "output_type": "stream",
     "text": [
      "Saved article: 'Lucius_Albinius_Paterculus' and updated tracking file\n"
     ]
    },
    {
     "name": "stderr",
     "output_type": "stream",
     "text": [
      "  7%|▋         | 70/1000 [03:09<36:07,  2.33s/it]"
     ]
    },
    {
     "name": "stdout",
     "output_type": "stream",
     "text": [
      "Error processing '%F0%9F%A4%B5': 'fullurl'\n",
      "Saved article: 'HIP_41378_b' and updated tracking file\n"
     ]
    },
    {
     "name": "stderr",
     "output_type": "stream",
     "text": [
      "  7%|▋         | 72/1000 [03:13<30:32,  1.98s/it]"
     ]
    },
    {
     "name": "stdout",
     "output_type": "stream",
     "text": [
      "PageError: 'Hasan_Al_Shammari' does not match any pages. Try another title!\n"
     ]
    },
    {
     "name": "stderr",
     "output_type": "stream",
     "text": [
      "  7%|▋         | 73/1000 [03:14<26:53,  1.74s/it]"
     ]
    },
    {
     "name": "stdout",
     "output_type": "stream",
     "text": [
      "Rejecting 'Kunimitsu' - insufficient sentences (less than 3 periods)\n",
      "Saved article: 'Arrest_Warrant_in_the_Czech_Republic' and updated tracking file\n"
     ]
    },
    {
     "name": "stderr",
     "output_type": "stream",
     "text": [
      "  8%|▊         | 75/1000 [03:19<28:22,  1.84s/it]"
     ]
    },
    {
     "name": "stdout",
     "output_type": "stream",
     "text": [
      "Error processing 'Sears_Roebuck_de_M%C3%A9xico': 'fullurl'\n"
     ]
    },
    {
     "name": "stderr",
     "output_type": "stream",
     "text": [
      "  8%|▊         | 76/1000 [03:19<22:27,  1.46s/it]"
     ]
    },
    {
     "name": "stdout",
     "output_type": "stream",
     "text": [
      "Error processing 'Cuia%C8%99': 'fullurl'\n",
      "Saved article: 'Fox_Rothschild' and updated tracking file\n"
     ]
    },
    {
     "name": "stderr",
     "output_type": "stream",
     "text": [
      "  8%|▊         | 78/1000 [03:23<23:53,  1.55s/it]"
     ]
    },
    {
     "name": "stdout",
     "output_type": "stream",
     "text": [
      "Error processing 'Papal_election,_1268%E2%80%9371': 'fullurl'\n",
      "Saved article: 'Zachary_Boucher' and updated tracking file\n"
     ]
    },
    {
     "name": "stderr",
     "output_type": "stream",
     "text": [
      "  8%|▊         | 79/1000 [03:27<34:27,  2.24s/it]"
     ]
    },
    {
     "name": "stdout",
     "output_type": "stream",
     "text": [
      "Saved article: 'Swear_to_God_(Fat_Joe_and_Remy_Ma_song)' and updated tracking file\n"
     ]
    },
    {
     "name": "stderr",
     "output_type": "stream",
     "text": [
      "  8%|▊         | 80/1000 [03:31<41:22,  2.70s/it]"
     ]
    },
    {
     "name": "stdout",
     "output_type": "stream",
     "text": [
      "Saved article: 'Racine,_wi' and updated tracking file\n"
     ]
    },
    {
     "name": "stderr",
     "output_type": "stream",
     "text": [
      "  8%|▊         | 81/1000 [03:35<46:35,  3.04s/it]"
     ]
    },
    {
     "name": "stdout",
     "output_type": "stream",
     "text": [
      "Saved article: 'Electoral_district_of_Darlinghurst' and updated tracking file\n"
     ]
    },
    {
     "name": "stderr",
     "output_type": "stream",
     "text": [
      "  8%|▊         | 82/1000 [03:38<47:13,  3.09s/it]"
     ]
    },
    {
     "name": "stdout",
     "output_type": "stream",
     "text": [
      "Saved article: 'EC_3.4.17.8' and updated tracking file\n"
     ]
    },
    {
     "name": "stderr",
     "output_type": "stream",
     "text": [
      "  8%|▊         | 84/1000 [03:42<37:47,  2.47s/it]"
     ]
    },
    {
     "name": "stdout",
     "output_type": "stream",
     "text": [
      "Error processing '%F0%9F%A6%8E': 'fullurl'\n"
     ]
    },
    {
     "name": "stderr",
     "output_type": "stream",
     "text": [
      "  8%|▊         | 85/1000 [03:43<32:39,  2.14s/it]"
     ]
    },
    {
     "name": "stdout",
     "output_type": "stream",
     "text": [
      "DisambiguationError for 'WJSU': \"WJSU\" may refer to: \n",
      "WGWW\n",
      "WJSU-FM\n",
      "Suggestions: ['WGWW', 'WJSU-FM']\n",
      "Saved article: 'List_of_musicians_of_Hardcore_punk' and updated tracking file\n"
     ]
    },
    {
     "name": "stderr",
     "output_type": "stream",
     "text": [
      "  9%|▊         | 87/1000 [03:48<31:45,  2.09s/it]"
     ]
    },
    {
     "name": "stdout",
     "output_type": "stream",
     "text": [
      "Error processing '%F0%96%AB%9C': 'fullurl'\n",
      "Saved article: 'U_135_(1918)' and updated tracking file\n"
     ]
    },
    {
     "name": "stderr",
     "output_type": "stream",
     "text": [
      "  9%|▉         | 88/1000 [03:53<43:28,  2.86s/it]"
     ]
    },
    {
     "name": "stdout",
     "output_type": "stream",
     "text": [
      "Saved article: 'Guru_Nanak_Fifth_Centenary_School' and updated tracking file\n"
     ]
    },
    {
     "name": "stderr",
     "output_type": "stream",
     "text": [
      "  9%|▉         | 90/1000 [03:57<33:57,  2.24s/it]"
     ]
    },
    {
     "name": "stdout",
     "output_type": "stream",
     "text": [
      "Error processing '%F0%9F%A6%8D': 'fullurl'\n"
     ]
    },
    {
     "name": "stderr",
     "output_type": "stream",
     "text": [
      "  9%|▉         | 91/1000 [03:57<26:14,  1.73s/it]"
     ]
    },
    {
     "name": "stdout",
     "output_type": "stream",
     "text": [
      "Error processing '%F0%9F%99%A4': 'fullurl'\n",
      "Saved article: 'Sporangial' and updated tracking file\n"
     ]
    },
    {
     "name": "stderr",
     "output_type": "stream",
     "text": [
      "  9%|▉         | 93/1000 [04:02<27:32,  1.82s/it]"
     ]
    },
    {
     "name": "stdout",
     "output_type": "stream",
     "text": [
      "Error processing 'Arakan_Campaign_1942%E2%80%9343': 'fullurl'\n",
      "Saved article: 'Curetis_solita' and updated tracking file\n"
     ]
    },
    {
     "name": "stderr",
     "output_type": "stream",
     "text": [
      "  9%|▉         | 94/1000 [04:05<36:13,  2.40s/it]"
     ]
    },
    {
     "name": "stdout",
     "output_type": "stream",
     "text": [
      "Saved article: 'Hohle_Fels_Flute' and updated tracking file\n"
     ]
    },
    {
     "name": "stderr",
     "output_type": "stream",
     "text": [
      " 10%|▉         | 95/1000 [04:09<42:25,  2.81s/it]"
     ]
    },
    {
     "name": "stdout",
     "output_type": "stream",
     "text": [
      "Saved article: 'M3A1_Grease_Gun' and updated tracking file\n"
     ]
    },
    {
     "name": "stderr",
     "output_type": "stream",
     "text": [
      " 10%|▉         | 97/1000 [04:14<38:45,  2.57s/it]"
     ]
    },
    {
     "name": "stdout",
     "output_type": "stream",
     "text": [
      "DisambiguationError for 'Robert_Keller': \"Robert_Keller\" may refer to: \n",
      "Robert Keller (botanist)\n",
      "Robert Keller (music editor)\n",
      "Robert J. Keller\n",
      "Robert P. Keller\n",
      "Suggestions: ['Robert Keller (botanist)', 'Robert Keller (music editor)', 'Robert J. Keller', 'Robert P. Keller']\n"
     ]
    },
    {
     "name": "stderr",
     "output_type": "stream",
     "text": [
      " 10%|▉         | 98/1000 [04:15<29:35,  1.97s/it]"
     ]
    },
    {
     "name": "stdout",
     "output_type": "stream",
     "text": [
      "Error processing '%F0%9F%A6%8A': 'fullurl'\n",
      "Saved article: 'Lavendon_Castle' and updated tracking file\n"
     ]
    },
    {
     "name": "stderr",
     "output_type": "stream",
     "text": [
      " 10%|▉         | 99/1000 [04:18<35:03,  2.33s/it]"
     ]
    },
    {
     "name": "stdout",
     "output_type": "stream",
     "text": [
      "Saved article: 'Toyo_Jiyuto' and updated tracking file\n"
     ]
    },
    {
     "name": "stderr",
     "output_type": "stream",
     "text": [
      " 10%|█         | 100/1000 [04:22<41:31,  2.77s/it]"
     ]
    },
    {
     "name": "stdout",
     "output_type": "stream",
     "text": [
      "Saved article: 'Abbeville_Athletics' and updated tracking file\n"
     ]
    },
    {
     "name": "stderr",
     "output_type": "stream",
     "text": [
      " 10%|█         | 101/1000 [04:25<43:43,  2.92s/it]"
     ]
    },
    {
     "name": "stdout",
     "output_type": "stream",
     "text": [
      "Saved article: 'The_Sydney_Bulletin' and updated tracking file\n"
     ]
    },
    {
     "name": "stderr",
     "output_type": "stream",
     "text": [
      " 10%|█         | 103/1000 [04:30<38:36,  2.58s/it]"
     ]
    },
    {
     "name": "stdout",
     "output_type": "stream",
     "text": [
      "Rejecting 'Kobylarnia,_Greater_Poland_Voivodeship' - insufficient sentences (less than 3 periods)\n",
      "Saved article: 'Special_K_Daley' and updated tracking file\n"
     ]
    },
    {
     "name": "stderr",
     "output_type": "stream",
     "text": [
      " 10%|█         | 105/1000 [04:34<33:14,  2.23s/it]"
     ]
    },
    {
     "name": "stdout",
     "output_type": "stream",
     "text": [
      "Error processing '%F0%9F%A7%A3': 'fullurl'\n",
      "Saved article: 'Blood_pH' and updated tracking file\n"
     ]
    },
    {
     "name": "stderr",
     "output_type": "stream",
     "text": [
      " 11%|█         | 106/1000 [04:38<40:28,  2.72s/it]"
     ]
    },
    {
     "name": "stdout",
     "output_type": "stream",
     "text": [
      "Saved article: 'David_Grant_(singer)' and updated tracking file\n"
     ]
    },
    {
     "name": "stderr",
     "output_type": "stream",
     "text": [
      " 11%|█         | 107/1000 [04:41<42:33,  2.86s/it]"
     ]
    },
    {
     "name": "stdout",
     "output_type": "stream",
     "text": [
      "Saved article: 'Sister_Mary_Elaine_Gentemann' and updated tracking file\n"
     ]
    },
    {
     "name": "stderr",
     "output_type": "stream",
     "text": [
      " 11%|█         | 109/1000 [04:46<35:03,  2.36s/it]"
     ]
    },
    {
     "name": "stdout",
     "output_type": "stream",
     "text": [
      "PageError: 'Ford_Erika_Platform' does not match any pages. Try another title!\n"
     ]
    },
    {
     "name": "stderr",
     "output_type": "stream",
     "text": [
      " 11%|█         | 110/1000 [04:47<29:14,  1.97s/it]"
     ]
    },
    {
     "name": "stdout",
     "output_type": "stream",
     "text": [
      "Error processing 'Corob%C4%83i': 'fullurl'\n",
      "Saved article: 'Bacterial_organelle' and updated tracking file\n"
     ]
    },
    {
     "name": "stderr",
     "output_type": "stream",
     "text": [
      " 11%|█         | 111/1000 [04:51<37:43,  2.55s/it]"
     ]
    },
    {
     "name": "stdout",
     "output_type": "stream",
     "text": [
      "Saved article: '116_U.S._307' and updated tracking file\n"
     ]
    },
    {
     "name": "stderr",
     "output_type": "stream",
     "text": [
      " 11%|█         | 112/1000 [04:54<43:05,  2.91s/it]"
     ]
    },
    {
     "name": "stdout",
     "output_type": "stream",
     "text": [
      "Saved article: 'Western_macdonnel_ranges' and updated tracking file\n"
     ]
    },
    {
     "name": "stderr",
     "output_type": "stream",
     "text": [
      " 11%|█▏        | 114/1000 [05:00<41:51,  2.84s/it]"
     ]
    },
    {
     "name": "stdout",
     "output_type": "stream",
     "text": [
      "Rejecting 'Cladycnis_insignis' - insufficient sentences (less than 3 periods)\n",
      "Saved article: 'Last_Ride_Match' and updated tracking file\n"
     ]
    },
    {
     "name": "stderr",
     "output_type": "stream",
     "text": [
      " 12%|█▏        | 116/1000 [05:06<41:13,  2.80s/it]"
     ]
    },
    {
     "name": "stdout",
     "output_type": "stream",
     "text": [
      "Rejecting 'Shuiquliu_Railway_Station' - insufficient sentences (less than 3 periods)\n",
      "Saved article: 'Ludwig_Kohl-Larsen' and updated tracking file\n"
     ]
    },
    {
     "name": "stderr",
     "output_type": "stream",
     "text": [
      " 12%|█▏        | 117/1000 [05:09<42:52,  2.91s/it]"
     ]
    },
    {
     "name": "stdout",
     "output_type": "stream",
     "text": [
      "Saved article: 'Jaimini_Bhagwati' and updated tracking file\n"
     ]
    },
    {
     "name": "stderr",
     "output_type": "stream",
     "text": [
      " 12%|█▏        | 119/1000 [05:14<38:42,  2.64s/it]"
     ]
    },
    {
     "name": "stdout",
     "output_type": "stream",
     "text": [
      "Rejecting 'Attack_of_the_Five_Foot_Ten_Woman_(SATC_episode)' - insufficient sentences (less than 3 periods)\n",
      "Saved article: 'Jerome_Elston_Scott' and updated tracking file\n"
     ]
    },
    {
     "name": "stderr",
     "output_type": "stream",
     "text": [
      " 12%|█▏        | 121/1000 [05:19<35:40,  2.44s/it]"
     ]
    },
    {
     "name": "stdout",
     "output_type": "stream",
     "text": [
      "Rejecting 'Coivert' - insufficient sentences (less than 3 periods)\n"
     ]
    },
    {
     "name": "stderr",
     "output_type": "stream",
     "text": [
      " 12%|█▏        | 122/1000 [05:20<27:22,  1.87s/it]"
     ]
    },
    {
     "name": "stdout",
     "output_type": "stream",
     "text": [
      "PageError: 'AAnn' does not match any pages. Try another title!\n",
      "Saved article: 'Steep_Creek,_Nova_Scotia' and updated tracking file\n"
     ]
    },
    {
     "name": "stderr",
     "output_type": "stream",
     "text": [
      " 12%|█▏        | 123/1000 [05:23<33:03,  2.26s/it]"
     ]
    },
    {
     "name": "stdout",
     "output_type": "stream",
     "text": [
      "Saved article: 'The_Neutrino_Factory' and updated tracking file\n"
     ]
    },
    {
     "name": "stderr",
     "output_type": "stream",
     "text": [
      " 12%|█▏        | 124/1000 [05:27<39:31,  2.71s/it]"
     ]
    },
    {
     "name": "stdout",
     "output_type": "stream",
     "text": [
      "Saved article: 'Johannes_Janssen' and updated tracking file\n"
     ]
    },
    {
     "name": "stderr",
     "output_type": "stream",
     "text": [
      " 12%|█▎        | 125/1000 [05:30<41:50,  2.87s/it]"
     ]
    },
    {
     "name": "stdout",
     "output_type": "stream",
     "text": [
      "Saved article: 'Northrop-Grumman_B-2A_Spirit' and updated tracking file\n"
     ]
    },
    {
     "name": "stderr",
     "output_type": "stream",
     "text": [
      " 13%|█▎        | 126/1000 [05:34<46:43,  3.21s/it]"
     ]
    },
    {
     "name": "stdout",
     "output_type": "stream",
     "text": [
      "Saved article: 'Virtual_Business' and updated tracking file\n"
     ]
    },
    {
     "name": "stderr",
     "output_type": "stream",
     "text": [
      " 13%|█▎        | 127/1000 [05:38<49:02,  3.37s/it]"
     ]
    },
    {
     "name": "stdout",
     "output_type": "stream",
     "text": [
      "Saved article: 'Howard_Hanson_Dam' and updated tracking file\n"
     ]
    },
    {
     "name": "stderr",
     "output_type": "stream",
     "text": [
      " 13%|█▎        | 128/1000 [05:42<50:41,  3.49s/it]"
     ]
    },
    {
     "name": "stdout",
     "output_type": "stream",
     "text": [
      "Saved article: 'T-diaeresis' and updated tracking file\n"
     ]
    },
    {
     "name": "stderr",
     "output_type": "stream",
     "text": [
      " 13%|█▎        | 130/1000 [05:46<39:12,  2.70s/it]"
     ]
    },
    {
     "name": "stdout",
     "output_type": "stream",
     "text": [
      "Error processing 'Texas_A%26M-Tarleton_Texans': 'fullurl'\n",
      "Saved article: 'Vi_over_60' and updated tracking file\n"
     ]
    },
    {
     "name": "stderr",
     "output_type": "stream",
     "text": [
      " 13%|█▎        | 131/1000 [05:50<43:03,  2.97s/it]"
     ]
    },
    {
     "name": "stdout",
     "output_type": "stream",
     "text": [
      "Saved article: 'Kristen_Andersen_Lopez' and updated tracking file\n"
     ]
    },
    {
     "name": "stderr",
     "output_type": "stream",
     "text": [
      " 13%|█▎        | 133/1000 [05:54<35:39,  2.47s/it]"
     ]
    },
    {
     "name": "stdout",
     "output_type": "stream",
     "text": [
      "Error processing 'Th%C3%B4nes': 'fullurl'\n",
      "Saved article: 'Kitsilano,_British_Columbia' and updated tracking file\n"
     ]
    },
    {
     "name": "stderr",
     "output_type": "stream",
     "text": [
      " 14%|█▎        | 135/1000 [06:00<37:09,  2.58s/it]"
     ]
    },
    {
     "name": "stdout",
     "output_type": "stream",
     "text": [
      "DisambiguationError for 'Page,_Sarah': \"Sarah Page\" may refer to: \n",
      "Primeval\n",
      "Sarah Page (prohibitionist)\n",
      "Dick Rowland\n",
      "Suggestions: ['Primeval', 'Sarah Page (prohibitionist)', 'Dick Rowland']\n",
      "Saved article: 'Cypress_Park,_Los_Angeles' and updated tracking file\n"
     ]
    },
    {
     "name": "stderr",
     "output_type": "stream",
     "text": [
      " 14%|█▎        | 137/1000 [06:05<34:22,  2.39s/it]"
     ]
    },
    {
     "name": "stdout",
     "output_type": "stream",
     "text": [
      "Error processing '%F0%9F%9A%B5': 'fullurl'\n",
      "Saved article: 'Bernardo_carvalho' and updated tracking file\n"
     ]
    },
    {
     "name": "stderr",
     "output_type": "stream",
     "text": [
      " 14%|█▍        | 138/1000 [06:08<40:08,  2.79s/it]"
     ]
    },
    {
     "name": "stdout",
     "output_type": "stream",
     "text": [
      "Saved article: 'Aachen_Cathedral_Treasury' and updated tracking file\n"
     ]
    },
    {
     "name": "stderr",
     "output_type": "stream",
     "text": [
      " 14%|█▍        | 140/1000 [06:12<31:28,  2.20s/it]"
     ]
    },
    {
     "name": "stdout",
     "output_type": "stream",
     "text": [
      "Error processing 'Istv%C3%A1n_Kniezsa': 'fullurl'\n"
     ]
    },
    {
     "name": "stderr",
     "output_type": "stream",
     "text": [
      " 14%|█▍        | 141/1000 [06:13<24:24,  1.70s/it]"
     ]
    },
    {
     "name": "stdout",
     "output_type": "stream",
     "text": [
      "Error processing '%F0%9F%A4%BE': 'fullurl'\n",
      "Saved article: 'Bozel' and updated tracking file\n"
     ]
    },
    {
     "name": "stderr",
     "output_type": "stream",
     "text": [
      " 14%|█▍        | 143/1000 [06:16<23:52,  1.67s/it]"
     ]
    },
    {
     "name": "stdout",
     "output_type": "stream",
     "text": [
      "Error processing 'Canada_national_women%27s_squash_team': 'fullurl'\n",
      "Saved article: 'Texas_State_Highway_204_(1939)' and updated tracking file\n"
     ]
    },
    {
     "name": "stderr",
     "output_type": "stream",
     "text": [
      " 14%|█▍        | 144/1000 [06:20<32:53,  2.31s/it]"
     ]
    },
    {
     "name": "stdout",
     "output_type": "stream",
     "text": [
      "Saved article: 'James_Cafiero' and updated tracking file\n"
     ]
    },
    {
     "name": "stderr",
     "output_type": "stream",
     "text": [
      " 14%|█▍        | 145/1000 [06:23<36:38,  2.57s/it]"
     ]
    },
    {
     "name": "stdout",
     "output_type": "stream",
     "text": [
      "Saved article: 'ATC_code_D01BA01' and updated tracking file\n"
     ]
    },
    {
     "name": "stderr",
     "output_type": "stream",
     "text": [
      " 15%|█▍        | 146/1000 [06:27<41:43,  2.93s/it]"
     ]
    },
    {
     "name": "stdout",
     "output_type": "stream",
     "text": [
      "Saved article: 'Cynops_wolterstorffi' and updated tracking file\n"
     ]
    },
    {
     "name": "stderr",
     "output_type": "stream",
     "text": [
      " 15%|█▍        | 147/1000 [06:31<45:20,  3.19s/it]"
     ]
    },
    {
     "name": "stdout",
     "output_type": "stream",
     "text": [
      "Saved article: 'North_Mediterranean_Eurasian_skylark' and updated tracking file\n"
     ]
    },
    {
     "name": "stderr",
     "output_type": "stream",
     "text": [
      " 15%|█▍        | 148/1000 [06:35<49:40,  3.50s/it]"
     ]
    },
    {
     "name": "stdout",
     "output_type": "stream",
     "text": [
      "Saved article: 'Moscow_Country_Club_Russian_Open' and updated tracking file\n"
     ]
    },
    {
     "name": "stderr",
     "output_type": "stream",
     "text": [
      " 15%|█▍        | 149/1000 [06:39<50:43,  3.58s/it]"
     ]
    },
    {
     "name": "stdout",
     "output_type": "stream",
     "text": [
      "Saved article: 'Mid-air_retrieval' and updated tracking file\n"
     ]
    },
    {
     "name": "stderr",
     "output_type": "stream",
     "text": [
      " 15%|█▌        | 150/1000 [06:42<49:51,  3.52s/it]"
     ]
    },
    {
     "name": "stdout",
     "output_type": "stream",
     "text": [
      "Saved article: 'Plogoff' and updated tracking file\n"
     ]
    },
    {
     "name": "stderr",
     "output_type": "stream",
     "text": [
      " 15%|█▌        | 151/1000 [06:46<49:03,  3.47s/it]"
     ]
    },
    {
     "name": "stdout",
     "output_type": "stream",
     "text": [
      "Saved article: 'Brutus_of_Britain' and updated tracking file\n"
     ]
    },
    {
     "name": "stderr",
     "output_type": "stream",
     "text": [
      " 15%|█▌        | 152/1000 [06:49<50:11,  3.55s/it]"
     ]
    },
    {
     "name": "stdout",
     "output_type": "stream",
     "text": [
      "Saved article: 'Barry_Livingston' and updated tracking file\n"
     ]
    },
    {
     "name": "stderr",
     "output_type": "stream",
     "text": [
      " 15%|█▌        | 153/1000 [06:53<48:33,  3.44s/it]"
     ]
    },
    {
     "name": "stdout",
     "output_type": "stream",
     "text": [
      "Saved article: 'Villa_Walle' and updated tracking file\n"
     ]
    },
    {
     "name": "stderr",
     "output_type": "stream",
     "text": [
      " 16%|█▌        | 155/1000 [06:57<37:16,  2.65s/it]"
     ]
    },
    {
     "name": "stdout",
     "output_type": "stream",
     "text": [
      "Error processing '2004%E2%80%9305_Boston_United_F.C._season': 'fullurl'\n"
     ]
    },
    {
     "name": "stderr",
     "output_type": "stream",
     "text": [
      " 16%|█▌        | 156/1000 [06:57<28:26,  2.02s/it]"
     ]
    },
    {
     "name": "stdout",
     "output_type": "stream",
     "text": [
      "Error processing '%F0%9F%A5%A7': 'fullurl'\n",
      "Saved article: '(C7)-CP_47,497' and updated tracking file\n"
     ]
    },
    {
     "name": "stderr",
     "output_type": "stream",
     "text": [
      " 16%|█▌        | 157/1000 [07:01<36:07,  2.57s/it]"
     ]
    },
    {
     "name": "stdout",
     "output_type": "stream",
     "text": [
      "Saved article: 'Customs_House,_Brisbane' and updated tracking file\n"
     ]
    },
    {
     "name": "stderr",
     "output_type": "stream",
     "text": [
      " 16%|█▌        | 158/1000 [07:05<39:09,  2.79s/it]"
     ]
    },
    {
     "name": "stdout",
     "output_type": "stream",
     "text": [
      "Saved article: 'National_Cat_Day' and updated tracking file\n"
     ]
    },
    {
     "name": "stderr",
     "output_type": "stream",
     "text": [
      " 16%|█▌        | 160/1000 [07:08<31:08,  2.22s/it]"
     ]
    },
    {
     "name": "stdout",
     "output_type": "stream",
     "text": [
      "Error processing '%F0%9F%99%8C%F0%9F%8F%BB': 'fullurl'\n",
      "Saved article: 'Gustav_Friedrich_Dinter' and updated tracking file\n"
     ]
    },
    {
     "name": "stderr",
     "output_type": "stream",
     "text": [
      " 16%|█▌        | 161/1000 [07:12<35:02,  2.51s/it]"
     ]
    },
    {
     "name": "stdout",
     "output_type": "stream",
     "text": [
      "Saved article: 'Fourth_Federal_Electoral_District_of_Yucatan' and updated tracking file\n"
     ]
    },
    {
     "name": "stderr",
     "output_type": "stream",
     "text": [
      " 16%|█▌        | 162/1000 [07:15<40:21,  2.89s/it]"
     ]
    },
    {
     "name": "stdout",
     "output_type": "stream",
     "text": [
      "Saved article: 'University_of_Nebraska_Dental_School' and updated tracking file\n"
     ]
    },
    {
     "name": "stderr",
     "output_type": "stream",
     "text": [
      " 16%|█▋        | 163/1000 [07:19<43:58,  3.15s/it]"
     ]
    },
    {
     "name": "stdout",
     "output_type": "stream",
     "text": [
      "Saved article: 'Lithocolletis_heegeriella' and updated tracking file\n"
     ]
    },
    {
     "name": "stderr",
     "output_type": "stream",
     "text": [
      " 16%|█▋        | 165/1000 [07:25<37:55,  2.73s/it]"
     ]
    },
    {
     "name": "stdout",
     "output_type": "stream",
     "text": [
      "Error processing 'In_The_Parkin%27_Lot': 'fullurl'\n"
     ]
    },
    {
     "name": "stderr",
     "output_type": "stream",
     "text": [
      " 17%|█▋        | 166/1000 [07:25<28:51,  2.08s/it]"
     ]
    },
    {
     "name": "stdout",
     "output_type": "stream",
     "text": [
      "Error processing '%F0%9F%A4%94': 'fullurl'\n"
     ]
    },
    {
     "name": "stderr",
     "output_type": "stream",
     "text": [
      " 17%|█▋        | 167/1000 [07:26<22:30,  1.62s/it]"
     ]
    },
    {
     "name": "stdout",
     "output_type": "stream",
     "text": [
      "Error processing '%F0%9F%A5%A8': 'fullurl'\n"
     ]
    },
    {
     "name": "stderr",
     "output_type": "stream",
     "text": [
      " 17%|█▋        | 168/1000 [07:26<18:02,  1.30s/it]"
     ]
    },
    {
     "name": "stdout",
     "output_type": "stream",
     "text": [
      "Error processing 'Eug%C3%A8ne_Gigout': 'fullurl'\n",
      "Saved article: 'Fresh_Sounds' and updated tracking file\n"
     ]
    },
    {
     "name": "stderr",
     "output_type": "stream",
     "text": [
      " 17%|█▋        | 170/1000 [07:31<22:04,  1.60s/it]"
     ]
    },
    {
     "name": "stdout",
     "output_type": "stream",
     "text": [
      "Error processing 'Podle%C5%A1je': 'fullurl'\n",
      "Saved article: 'John_Lott_(Econometricist)' and updated tracking file\n"
     ]
    },
    {
     "name": "stderr",
     "output_type": "stream",
     "text": [
      " 17%|█▋        | 171/1000 [07:34<31:14,  2.26s/it]"
     ]
    },
    {
     "name": "stdout",
     "output_type": "stream",
     "text": [
      "Saved article: 'List_of_21st_century_lunar_eclipses' and updated tracking file\n"
     ]
    },
    {
     "name": "stderr",
     "output_type": "stream",
     "text": [
      " 17%|█▋        | 173/1000 [07:40<32:11,  2.34s/it]"
     ]
    },
    {
     "name": "stdout",
     "output_type": "stream",
     "text": [
      "DisambiguationError for 'Fallen_Empire': \"Fallen_Empire\" may refer to: \n",
      "Fallen Empire (film)\n",
      "Fallen Empires (Magic: The Gathering)\n",
      "Legions: Overdrive\n",
      "Fallen Empires (2019)\n",
      "Fallen Empires (album)\n",
      "Fallen Empires Tour\n",
      "The Fallen Empire\n",
      "The Fallen Empires\n",
      "Our Last Enemy\n",
      "Diviner\n",
      "Suggestions: ['Fallen Empire (film)', 'Fallen Empires (Magic: The Gathering)', 'Legions: Overdrive', 'Fallen Empires (2019)', 'Fallen Empires (album)']\n"
     ]
    },
    {
     "name": "stderr",
     "output_type": "stream",
     "text": [
      " 17%|█▋        | 174/1000 [07:40<24:47,  1.80s/it]"
     ]
    },
    {
     "name": "stdout",
     "output_type": "stream",
     "text": [
      "Error processing '%F0%9F%A7%92': 'fullurl'\n"
     ]
    },
    {
     "name": "stderr",
     "output_type": "stream",
     "text": [
      " 18%|█▊        | 175/1000 [07:41<19:36,  1.43s/it]"
     ]
    },
    {
     "name": "stdout",
     "output_type": "stream",
     "text": [
      "Error processing '%F0%9F%A6%91': 'fullurl'\n",
      "Saved article: 'Pro_pedophile_activism' and updated tracking file\n"
     ]
    },
    {
     "name": "stderr",
     "output_type": "stream",
     "text": [
      " 18%|█▊        | 176/1000 [07:45<29:23,  2.14s/it]"
     ]
    },
    {
     "name": "stdout",
     "output_type": "stream",
     "text": [
      "Saved article: 'Speckled_chub' and updated tracking file\n"
     ]
    },
    {
     "name": "stderr",
     "output_type": "stream",
     "text": [
      " 18%|█▊        | 178/1000 [07:48<25:49,  1.88s/it]"
     ]
    },
    {
     "name": "stdout",
     "output_type": "stream",
     "text": [
      "Error processing '%F0%9F%9A%8D': 'fullurl'\n",
      "Saved article: 'Canadian_Pacific_Railway_in_BC' and updated tracking file\n"
     ]
    },
    {
     "name": "stderr",
     "output_type": "stream",
     "text": [
      " 18%|█▊        | 179/1000 [07:52<34:12,  2.50s/it]"
     ]
    },
    {
     "name": "stdout",
     "output_type": "stream",
     "text": [
      "Saved article: '1965_NBA_draft' and updated tracking file\n"
     ]
    },
    {
     "name": "stderr",
     "output_type": "stream",
     "text": [
      " 18%|█▊        | 180/1000 [07:56<37:35,  2.75s/it]"
     ]
    },
    {
     "name": "stdout",
     "output_type": "stream",
     "text": [
      "Saved article: 'Nissan_C_engine' and updated tracking file\n"
     ]
    },
    {
     "name": "stderr",
     "output_type": "stream",
     "text": [
      " 18%|█▊        | 181/1000 [07:59<39:19,  2.88s/it]"
     ]
    },
    {
     "name": "stdout",
     "output_type": "stream",
     "text": [
      "Saved article: 'Daniel_A._Keim' and updated tracking file\n"
     ]
    },
    {
     "name": "stderr",
     "output_type": "stream",
     "text": [
      " 18%|█▊        | 182/1000 [08:02<40:28,  2.97s/it]"
     ]
    },
    {
     "name": "stdout",
     "output_type": "stream",
     "text": [
      "Saved article: 'Machimia_albula' and updated tracking file\n"
     ]
    },
    {
     "name": "stderr",
     "output_type": "stream",
     "text": [
      " 18%|█▊        | 183/1000 [08:05<41:32,  3.05s/it]"
     ]
    },
    {
     "name": "stdout",
     "output_type": "stream",
     "text": [
      "Saved article: 'Quercus_lamellosa' and updated tracking file\n"
     ]
    },
    {
     "name": "stderr",
     "output_type": "stream",
     "text": [
      " 18%|█▊        | 184/1000 [08:08<42:08,  3.10s/it]"
     ]
    },
    {
     "name": "stdout",
     "output_type": "stream",
     "text": [
      "Saved article: 'Ezbon_Mondiri' and updated tracking file\n"
     ]
    },
    {
     "name": "stderr",
     "output_type": "stream",
     "text": [
      " 18%|█▊        | 185/1000 [08:12<44:53,  3.30s/it]"
     ]
    },
    {
     "name": "stdout",
     "output_type": "stream",
     "text": [
      "Saved article: 'Dand_District' and updated tracking file\n"
     ]
    },
    {
     "name": "stderr",
     "output_type": "stream",
     "text": [
      " 19%|█▊        | 187/1000 [08:17<35:10,  2.60s/it]"
     ]
    },
    {
     "name": "stdout",
     "output_type": "stream",
     "text": [
      "Error processing 'Canada_women%27s_national_under-16_and_under-17_basketball_team': 'fullurl'\n",
      "Saved article: 'Blackboard_(e-learning_platform)' and updated tracking file\n"
     ]
    },
    {
     "name": "stderr",
     "output_type": "stream",
     "text": [
      " 19%|█▉        | 188/1000 [08:20<39:52,  2.95s/it]"
     ]
    },
    {
     "name": "stdout",
     "output_type": "stream",
     "text": [
      "Saved article: 'Ethion' and updated tracking file\n"
     ]
    },
    {
     "name": "stderr",
     "output_type": "stream",
     "text": [
      " 19%|█▉        | 189/1000 [08:24<41:49,  3.09s/it]"
     ]
    },
    {
     "name": "stdout",
     "output_type": "stream",
     "text": [
      "Saved article: 'Medial_longitudinal_fasciculus' and updated tracking file\n"
     ]
    },
    {
     "name": "stderr",
     "output_type": "stream",
     "text": [
      " 19%|█▉        | 190/1000 [08:27<42:08,  3.12s/it]"
     ]
    },
    {
     "name": "stdout",
     "output_type": "stream",
     "text": [
      "Saved article: 'Joe_Comuzzi' and updated tracking file\n"
     ]
    },
    {
     "name": "stderr",
     "output_type": "stream",
     "text": [
      " 19%|█▉        | 191/1000 [08:30<42:20,  3.14s/it]"
     ]
    },
    {
     "name": "stdout",
     "output_type": "stream",
     "text": [
      "Saved article: 'AOC3' and updated tracking file\n"
     ]
    },
    {
     "name": "stderr",
     "output_type": "stream",
     "text": [
      " 19%|█▉        | 192/1000 [08:33<42:25,  3.15s/it]"
     ]
    },
    {
     "name": "stdout",
     "output_type": "stream",
     "text": [
      "Saved article: 'Soviet_geographers' and updated tracking file\n"
     ]
    },
    {
     "name": "stderr",
     "output_type": "stream",
     "text": [
      " 19%|█▉        | 194/1000 [08:38<33:43,  2.51s/it]"
     ]
    },
    {
     "name": "stdout",
     "output_type": "stream",
     "text": [
      "Error processing '%F0%9F%9B%A2': 'fullurl'\n",
      "Saved article: 'Joseph_Maneri' and updated tracking file\n"
     ]
    },
    {
     "name": "stderr",
     "output_type": "stream",
     "text": [
      " 20%|█▉        | 196/1000 [08:42<29:17,  2.19s/it]"
     ]
    },
    {
     "name": "stdout",
     "output_type": "stream",
     "text": [
      "Error processing '2009-10_Atl%C3%A9tico_de_Madrid_season': 'fullurl'\n",
      "Saved article: 'Sunflour_Railroad' and updated tracking file\n"
     ]
    },
    {
     "name": "stderr",
     "output_type": "stream",
     "text": [
      " 20%|█▉        | 197/1000 [08:45<33:26,  2.50s/it]"
     ]
    },
    {
     "name": "stdout",
     "output_type": "stream",
     "text": [
      "Saved article: 'Bicycle_monarch' and updated tracking file\n"
     ]
    },
    {
     "name": "stderr",
     "output_type": "stream",
     "text": [
      " 20%|█▉        | 199/1000 [08:50<29:10,  2.18s/it]"
     ]
    },
    {
     "name": "stdout",
     "output_type": "stream",
     "text": [
      "Error processing '%F0%9F%A5%9C': 'fullurl'\n"
     ]
    },
    {
     "name": "stderr",
     "output_type": "stream",
     "text": [
      " 20%|██        | 200/1000 [08:50<22:41,  1.70s/it]"
     ]
    },
    {
     "name": "stdout",
     "output_type": "stream",
     "text": [
      "Error processing '1983_Volvo_Masters_%E2%80%93_Doubles': 'fullurl'\n",
      "Saved article: 'Birkenhead_Transport_Museum' and updated tracking file\n"
     ]
    },
    {
     "name": "stderr",
     "output_type": "stream",
     "text": [
      " 20%|██        | 201/1000 [08:54<33:12,  2.49s/it]"
     ]
    },
    {
     "name": "stdout",
     "output_type": "stream",
     "text": [
      "Saved article: '312th_Troop_Carrier_Squadron' and updated tracking file\n"
     ]
    },
    {
     "name": "stderr",
     "output_type": "stream",
     "text": [
      " 20%|██        | 202/1000 [08:58<38:19,  2.88s/it]"
     ]
    },
    {
     "name": "stdout",
     "output_type": "stream",
     "text": [
      "Saved article: 'Busted_(U.S._album)' and updated tracking file\n"
     ]
    },
    {
     "name": "stderr",
     "output_type": "stream",
     "text": [
      " 20%|██        | 203/1000 [09:02<41:48,  3.15s/it]"
     ]
    },
    {
     "name": "stdout",
     "output_type": "stream",
     "text": [
      "Saved article: 'Grayman' and updated tracking file\n"
     ]
    },
    {
     "name": "stderr",
     "output_type": "stream",
     "text": [
      " 20%|██        | 204/1000 [09:06<44:28,  3.35s/it]"
     ]
    },
    {
     "name": "stdout",
     "output_type": "stream",
     "text": [
      "Saved article: 'Natalya_Burdyga' and updated tracking file\n"
     ]
    },
    {
     "name": "stderr",
     "output_type": "stream",
     "text": [
      " 20%|██        | 205/1000 [09:10<45:59,  3.47s/it]"
     ]
    },
    {
     "name": "stdout",
     "output_type": "stream",
     "text": [
      "Saved article: 'Sydney_FC' and updated tracking file\n"
     ]
    },
    {
     "name": "stderr",
     "output_type": "stream",
     "text": [
      " 21%|██        | 207/1000 [09:14<36:14,  2.74s/it]"
     ]
    },
    {
     "name": "stdout",
     "output_type": "stream",
     "text": [
      "Rejecting 'Bickford' - insufficient sentences (less than 3 periods)\n",
      "Saved article: 'Aleksei_Isayev' and updated tracking file\n"
     ]
    },
    {
     "name": "stderr",
     "output_type": "stream",
     "text": [
      " 21%|██        | 208/1000 [09:18<40:05,  3.04s/it]"
     ]
    },
    {
     "name": "stdout",
     "output_type": "stream",
     "text": [
      "Saved article: 'Mills_36m' and updated tracking file\n"
     ]
    },
    {
     "name": "stderr",
     "output_type": "stream",
     "text": [
      " 21%|██        | 210/1000 [09:23<33:51,  2.57s/it]"
     ]
    },
    {
     "name": "stdout",
     "output_type": "stream",
     "text": [
      "Error processing 'M%C3%A5l%C3%B8y': 'fullurl'\n",
      "Saved article: 'Decoration_of_Honor_for_Services_to_the_Republic_of_Austria' and updated tracking file\n"
     ]
    },
    {
     "name": "stderr",
     "output_type": "stream",
     "text": [
      " 21%|██        | 211/1000 [09:26<38:27,  2.92s/it]"
     ]
    },
    {
     "name": "stdout",
     "output_type": "stream",
     "text": [
      "Saved article: 'Vengeance_(WWE,_2002)' and updated tracking file\n"
     ]
    },
    {
     "name": "stderr",
     "output_type": "stream",
     "text": [
      " 21%|██        | 212/1000 [09:30<42:03,  3.20s/it]"
     ]
    },
    {
     "name": "stdout",
     "output_type": "stream",
     "text": [
      "Saved article: '1994_RG12' and updated tracking file\n"
     ]
    },
    {
     "name": "stderr",
     "output_type": "stream",
     "text": [
      " 21%|██▏       | 214/1000 [09:36<39:44,  3.03s/it]"
     ]
    },
    {
     "name": "stdout",
     "output_type": "stream",
     "text": [
      "DisambiguationError for 'Attack!': \"Attack\" may refer to: \n",
      "Attack (fencing)\n",
      "Charge (warfare)\n",
      "Offensive (military)\n",
      "Strike (attack)\n",
      "The Attack (novel)\n",
      "Attack No. 1\n",
      "Attack! Books\n",
      "Attack! (publication)\n",
      "Der Angriff\n",
      "criticise\n",
      "Attack! The Battle of New Britain\n",
      "Attack (1956 film)\n",
      "Attack (2016 film)\n",
      "Attack (2022 film)\n",
      "The Attack (1966 film)\n",
      "The Attack (2012 film)\n",
      "\"The Attack\" (Australian Playhouse)\n",
      "season 7 episode of Lego Ninjago: Masters of Spinjitzu\n",
      "Attack Records\n",
      "Attack (music)\n",
      "Attacca\n",
      "Attack (band)\n",
      "The Attack (band)\n",
      "Attack Attack!\n",
      "Attack!!\n",
      "Jah Jah\n",
      "Attack Attack! (album)\n",
      "Attack (AAA album)\n",
      "Attack (Disciple album)\n",
      "The Toys\n",
      "\"Attack\" (Thirty Seconds to Mars song)\n",
      "Hypnotize\n",
      "Engines of Creation\n",
      "HMAS Attack (P 90)\n",
      "HMS Attack\n",
      "Attack-class submarine\n",
      "offense\n",
      "bowling attack\n",
      "Attack! (board game)\n",
      "The Attack (video game)\n",
      "Attack (political party)\n",
      "The Attack (painting)\n",
      "Atack\n",
      "ATTAC\n",
      "^\n",
      "Suggestions: ['Attack (fencing)', 'Charge (warfare)', 'Offensive (military)', 'Strike (attack)', 'The Attack (novel)']\n",
      "Saved article: 'Aakiraahuttaa' and updated tracking file\n"
     ]
    },
    {
     "name": "stderr",
     "output_type": "stream",
     "text": [
      " 22%|██▏       | 216/1000 [09:40<31:56,  2.44s/it]"
     ]
    },
    {
     "name": "stdout",
     "output_type": "stream",
     "text": [
      "Error processing '%C3%89cole_Nationale_Sup%C3%A9rieure_des_Mines_de_Rabat': 'fullurl'\n",
      "Saved article: 'Allmanna_konst-_och_industriutstallningen_(1897)' and updated tracking file\n"
     ]
    },
    {
     "name": "stderr",
     "output_type": "stream",
     "text": [
      " 22%|██▏       | 217/1000 [09:44<36:57,  2.83s/it]"
     ]
    },
    {
     "name": "stdout",
     "output_type": "stream",
     "text": [
      "Saved article: 'Guenter_Verheugen' and updated tracking file\n"
     ]
    },
    {
     "name": "stderr",
     "output_type": "stream",
     "text": [
      " 22%|██▏       | 218/1000 [09:48<40:51,  3.14s/it]"
     ]
    },
    {
     "name": "stdout",
     "output_type": "stream",
     "text": [
      "Saved article: 'Financial_Planning_Association' and updated tracking file\n"
     ]
    },
    {
     "name": "stderr",
     "output_type": "stream",
     "text": [
      " 22%|██▏       | 220/1000 [09:52<30:48,  2.37s/it]"
     ]
    },
    {
     "name": "stdout",
     "output_type": "stream",
     "text": [
      "Error processing '%F0%9F%9A%AF': 'fullurl'\n",
      "Saved article: 'Anthony_Clifford_Grayling' and updated tracking file\n"
     ]
    },
    {
     "name": "stderr",
     "output_type": "stream",
     "text": [
      " 22%|██▏       | 222/1000 [09:56<27:50,  2.15s/it]"
     ]
    },
    {
     "name": "stdout",
     "output_type": "stream",
     "text": [
      "Error processing 'Southpaw_(Gilbert_O%27Sullivan_album)': 'fullurl'\n"
     ]
    },
    {
     "name": "stderr",
     "output_type": "stream",
     "text": [
      " 22%|██▏       | 223/1000 [09:57<21:41,  1.67s/it]"
     ]
    },
    {
     "name": "stdout",
     "output_type": "stream",
     "text": [
      "Error processing 'Stan%C4%8Di%C4%87i_(disambiguation)': 'fullurl'\n",
      "Saved article: 'Fotex_KC_Veszprem' and updated tracking file\n"
     ]
    },
    {
     "name": "stderr",
     "output_type": "stream",
     "text": [
      " 22%|██▏       | 224/1000 [10:01<29:59,  2.32s/it]"
     ]
    },
    {
     "name": "stdout",
     "output_type": "stream",
     "text": [
      "Saved article: 'Charley_Hornbostel' and updated tracking file\n"
     ]
    },
    {
     "name": "stderr",
     "output_type": "stream",
     "text": [
      " 22%|██▎       | 225/1000 [10:04<35:33,  2.75s/it]"
     ]
    },
    {
     "name": "stdout",
     "output_type": "stream",
     "text": [
      "Saved article: 'Encyclopedia_Americana' and updated tracking file\n"
     ]
    },
    {
     "name": "stderr",
     "output_type": "stream",
     "text": [
      " 23%|██▎       | 226/1000 [10:08<37:09,  2.88s/it]"
     ]
    },
    {
     "name": "stdout",
     "output_type": "stream",
     "text": [
      "Saved article: 'Jeonji_of_Baekje' and updated tracking file\n"
     ]
    },
    {
     "name": "stderr",
     "output_type": "stream",
     "text": [
      " 23%|██▎       | 227/1000 [10:11<38:16,  2.97s/it]"
     ]
    },
    {
     "name": "stdout",
     "output_type": "stream",
     "text": [
      "Saved article: 'RapidKL_Light_Rail_Transit' and updated tracking file\n"
     ]
    },
    {
     "name": "stderr",
     "output_type": "stream",
     "text": [
      " 23%|██▎       | 228/1000 [10:15<42:30,  3.30s/it]"
     ]
    },
    {
     "name": "stdout",
     "output_type": "stream",
     "text": [
      "Saved article: 'James_Pickering_(rugby_league)' and updated tracking file\n"
     ]
    },
    {
     "name": "stderr",
     "output_type": "stream",
     "text": [
      " 23%|██▎       | 230/1000 [10:19<31:30,  2.45s/it]"
     ]
    },
    {
     "name": "stdout",
     "output_type": "stream",
     "text": [
      "Error processing 'Mrzovi%C4%87i': 'fullurl'\n"
     ]
    },
    {
     "name": "stderr",
     "output_type": "stream",
     "text": [
      " 23%|██▎       | 231/1000 [10:19<24:12,  1.89s/it]"
     ]
    },
    {
     "name": "stdout",
     "output_type": "stream",
     "text": [
      "PageError: 'Battlerock_Barrage' does not match any pages. Try another title!\n"
     ]
    },
    {
     "name": "stderr",
     "output_type": "stream",
     "text": [
      " 23%|██▎       | 232/1000 [10:21<23:35,  1.84s/it]"
     ]
    },
    {
     "name": "stdout",
     "output_type": "stream",
     "text": [
      "Rejecting 'Wasim_(name)' - insufficient sentences (less than 3 periods)\n",
      "Saved article: 'Runologists' and updated tracking file\n"
     ]
    },
    {
     "name": "stderr",
     "output_type": "stream",
     "text": [
      " 23%|██▎       | 234/1000 [10:26<26:13,  2.05s/it]"
     ]
    },
    {
     "name": "stdout",
     "output_type": "stream",
     "text": [
      "Rejecting 'Xamiatus' - insufficient sentences (less than 3 periods)\n",
      "Saved article: 'Subtropical_Storm_One_(1982)' and updated tracking file\n"
     ]
    },
    {
     "name": "stderr",
     "output_type": "stream",
     "text": [
      " 24%|██▎       | 236/1000 [10:30<25:02,  1.97s/it]"
     ]
    },
    {
     "name": "stdout",
     "output_type": "stream",
     "text": [
      "Error processing '%F0%9F%A7%92': 'fullurl'\n",
      "Saved article: 'Ming-huang_Liu' and updated tracking file\n"
     ]
    },
    {
     "name": "stderr",
     "output_type": "stream",
     "text": [
      " 24%|██▍       | 238/1000 [10:34<24:25,  1.92s/it]"
     ]
    },
    {
     "name": "stdout",
     "output_type": "stream",
     "text": [
      "PageError: 'Ronald_s_mangum' does not match any pages. Try another title!\n",
      "Saved article: 'Ingalls,_OK' and updated tracking file\n"
     ]
    },
    {
     "name": "stderr",
     "output_type": "stream",
     "text": [
      " 24%|██▍       | 239/1000 [10:38<31:24,  2.48s/it]"
     ]
    },
    {
     "name": "stdout",
     "output_type": "stream",
     "text": [
      "Saved article: 'Jupiter_Academy' and updated tracking file\n"
     ]
    },
    {
     "name": "stderr",
     "output_type": "stream",
     "text": [
      " 24%|██▍       | 240/1000 [10:42<36:30,  2.88s/it]"
     ]
    },
    {
     "name": "stdout",
     "output_type": "stream",
     "text": [
      "Saved article: 'Down-Down' and updated tracking file\n"
     ]
    },
    {
     "name": "stderr",
     "output_type": "stream",
     "text": [
      " 24%|██▍       | 242/1000 [10:49<35:59,  2.85s/it]"
     ]
    },
    {
     "name": "stdout",
     "output_type": "stream",
     "text": [
      "Error processing '5%CE%B2-Reductase': 'fullurl'\n",
      "Saved article: 'European_Union_Police_Mission_for_the_Palestinian_Territories' and updated tracking file\n"
     ]
    },
    {
     "name": "stderr",
     "output_type": "stream",
     "text": [
      " 24%|██▍       | 243/1000 [10:53<40:54,  3.24s/it]"
     ]
    },
    {
     "name": "stdout",
     "output_type": "stream",
     "text": [
      "Saved article: 'Ylikersantti' and updated tracking file\n"
     ]
    },
    {
     "name": "stderr",
     "output_type": "stream",
     "text": [
      " 24%|██▍       | 244/1000 [10:57<43:20,  3.44s/it]"
     ]
    },
    {
     "name": "stdout",
     "output_type": "stream",
     "text": [
      "Saved article: 'Olar,_South_Carolina' and updated tracking file\n"
     ]
    },
    {
     "name": "stderr",
     "output_type": "stream",
     "text": [
      " 25%|██▍       | 246/1000 [11:01<34:46,  2.77s/it]"
     ]
    },
    {
     "name": "stdout",
     "output_type": "stream",
     "text": [
      "Rejecting 'Ait_Sedrate_Jbel_El_Oulia' - insufficient sentences (less than 3 periods)\n"
     ]
    },
    {
     "name": "stderr",
     "output_type": "stream",
     "text": [
      " 25%|██▍       | 247/1000 [11:02<26:24,  2.10s/it]"
     ]
    },
    {
     "name": "stdout",
     "output_type": "stream",
     "text": [
      "Error processing '%F0%9F%9D%83': 'fullurl'\n"
     ]
    },
    {
     "name": "stderr",
     "output_type": "stream",
     "text": [
      " 25%|██▍       | 248/1000 [11:04<25:32,  2.04s/it]"
     ]
    },
    {
     "name": "stdout",
     "output_type": "stream",
     "text": [
      "Rejecting 'Lau_Sek-ming' - insufficient sentences (less than 3 periods)\n",
      "Saved article: 'Lyra_(Byzantine)' and updated tracking file\n"
     ]
    },
    {
     "name": "stderr",
     "output_type": "stream",
     "text": [
      " 25%|██▍       | 249/1000 [11:07<31:58,  2.55s/it]"
     ]
    },
    {
     "name": "stdout",
     "output_type": "stream",
     "text": [
      "Saved article: 'Theo_Archibald' and updated tracking file\n"
     ]
    },
    {
     "name": "stderr",
     "output_type": "stream",
     "text": [
      " 25%|██▌       | 250/1000 [11:11<34:22,  2.75s/it]"
     ]
    },
    {
     "name": "stdout",
     "output_type": "stream",
     "text": [
      "Saved article: 'Fritillaria_delphinensis' and updated tracking file\n"
     ]
    },
    {
     "name": "stderr",
     "output_type": "stream",
     "text": [
      " 25%|██▌       | 251/1000 [11:14<38:09,  3.06s/it]"
     ]
    },
    {
     "name": "stdout",
     "output_type": "stream",
     "text": [
      "Saved article: 'Boo_Harvey' and updated tracking file\n"
     ]
    },
    {
     "name": "stderr",
     "output_type": "stream",
     "text": [
      " 25%|██▌       | 252/1000 [11:18<38:33,  3.09s/it]"
     ]
    },
    {
     "name": "stdout",
     "output_type": "stream",
     "text": [
      "Saved article: 'Christiaan_Basson' and updated tracking file\n"
     ]
    },
    {
     "name": "stderr",
     "output_type": "stream",
     "text": [
      " 25%|██▌       | 254/1000 [11:21<29:19,  2.36s/it]"
     ]
    },
    {
     "name": "stdout",
     "output_type": "stream",
     "text": [
      "Error processing '%F0%9F%A7%92%F0%9F%8F%BC': 'fullurl'\n",
      "Saved article: 'Biofuel_in_Italy' and updated tracking file\n"
     ]
    },
    {
     "name": "stderr",
     "output_type": "stream",
     "text": [
      " 26%|██▌       | 255/1000 [11:25<35:02,  2.82s/it]"
     ]
    },
    {
     "name": "stdout",
     "output_type": "stream",
     "text": [
      "Saved article: 'Ontario_Minister_of_Culture' and updated tracking file\n"
     ]
    },
    {
     "name": "stderr",
     "output_type": "stream",
     "text": [
      " 26%|██▌       | 256/1000 [11:29<38:36,  3.11s/it]"
     ]
    },
    {
     "name": "stdout",
     "output_type": "stream",
     "text": [
      "Saved article: 'C._T._Palanichamy' and updated tracking file\n"
     ]
    },
    {
     "name": "stderr",
     "output_type": "stream",
     "text": [
      " 26%|██▌       | 257/1000 [11:32<38:46,  3.13s/it]"
     ]
    },
    {
     "name": "stdout",
     "output_type": "stream",
     "text": [
      "Saved article: 'Auckland_Cenotaph' and updated tracking file\n"
     ]
    },
    {
     "name": "stderr",
     "output_type": "stream",
     "text": [
      " 26%|██▌       | 258/1000 [11:36<41:52,  3.39s/it]"
     ]
    },
    {
     "name": "stdout",
     "output_type": "stream",
     "text": [
      "Saved article: 'Rudi_Assauer' and updated tracking file\n"
     ]
    },
    {
     "name": "stderr",
     "output_type": "stream",
     "text": [
      " 26%|██▌       | 260/1000 [11:40<30:43,  2.49s/it]"
     ]
    },
    {
     "name": "stdout",
     "output_type": "stream",
     "text": [
      "Error processing '%F0%9F%A4%9C': 'fullurl'\n",
      "Saved article: 'Riddles_(Persian)' and updated tracking file\n"
     ]
    },
    {
     "name": "stderr",
     "output_type": "stream",
     "text": [
      " 26%|██▌       | 261/1000 [11:44<35:23,  2.87s/it]"
     ]
    },
    {
     "name": "stdout",
     "output_type": "stream",
     "text": [
      "Saved article: 'Entasi' and updated tracking file\n"
     ]
    },
    {
     "name": "stderr",
     "output_type": "stream",
     "text": [
      " 26%|██▌       | 262/1000 [11:47<36:55,  3.00s/it]"
     ]
    },
    {
     "name": "stdout",
     "output_type": "stream",
     "text": [
      "Saved article: 'Romanian_National_Party' and updated tracking file\n"
     ]
    },
    {
     "name": "stderr",
     "output_type": "stream",
     "text": [
      " 26%|██▋       | 263/1000 [11:50<37:31,  3.06s/it]"
     ]
    },
    {
     "name": "stdout",
     "output_type": "stream",
     "text": [
      "Saved article: 'Vanessa_Hoelsher' and updated tracking file\n"
     ]
    },
    {
     "name": "stderr",
     "output_type": "stream",
     "text": [
      " 26%|██▋       | 264/1000 [11:54<40:10,  3.28s/it]"
     ]
    },
    {
     "name": "stdout",
     "output_type": "stream",
     "text": [
      "Saved article: 'Operation_Jupiter_(Norway)' and updated tracking file\n"
     ]
    },
    {
     "name": "stderr",
     "output_type": "stream",
     "text": [
      " 26%|██▋       | 265/1000 [11:57<39:45,  3.25s/it]"
     ]
    },
    {
     "name": "stdout",
     "output_type": "stream",
     "text": [
      "Saved article: 'English_American' and updated tracking file\n"
     ]
    },
    {
     "name": "stderr",
     "output_type": "stream",
     "text": [
      " 27%|██▋       | 266/1000 [12:01<42:30,  3.47s/it]"
     ]
    },
    {
     "name": "stdout",
     "output_type": "stream",
     "text": [
      "Saved article: 'Zirconia,_North_Carolina' and updated tracking file\n"
     ]
    },
    {
     "name": "stderr",
     "output_type": "stream",
     "text": [
      " 27%|██▋       | 268/1000 [12:05<31:15,  2.56s/it]"
     ]
    },
    {
     "name": "stdout",
     "output_type": "stream",
     "text": [
      "Error processing '%F0%9F%99%A5': 'fullurl'\n",
      "Saved article: 'Mikoyanovsky_City_District' and updated tracking file\n"
     ]
    },
    {
     "name": "stderr",
     "output_type": "stream",
     "text": [
      " 27%|██▋       | 269/1000 [12:09<35:58,  2.95s/it]"
     ]
    },
    {
     "name": "stdout",
     "output_type": "stream",
     "text": [
      "Saved article: 'Lung_Yu_Huang_Hou' and updated tracking file\n"
     ]
    },
    {
     "name": "stderr",
     "output_type": "stream",
     "text": [
      " 27%|██▋       | 270/1000 [12:13<38:47,  3.19s/it]"
     ]
    },
    {
     "name": "stdout",
     "output_type": "stream",
     "text": [
      "Saved article: 'Heaven_in_Islam' and updated tracking file\n"
     ]
    },
    {
     "name": "stderr",
     "output_type": "stream",
     "text": [
      " 27%|██▋       | 272/1000 [12:17<30:47,  2.54s/it]"
     ]
    },
    {
     "name": "stdout",
     "output_type": "stream",
     "text": [
      "Error processing '%F0%9F%9D%83': 'fullurl'\n",
      "Saved article: '1996_Citizen_Cup' and updated tracking file\n"
     ]
    },
    {
     "name": "stderr",
     "output_type": "stream",
     "text": [
      " 27%|██▋       | 273/1000 [12:21<35:07,  2.90s/it]"
     ]
    },
    {
     "name": "stdout",
     "output_type": "stream",
     "text": [
      "Saved article: 'Ridley_Road_Food_Market' and updated tracking file\n"
     ]
    },
    {
     "name": "stderr",
     "output_type": "stream",
     "text": [
      " 28%|██▊       | 275/1000 [12:26<32:01,  2.65s/it]"
     ]
    },
    {
     "name": "stdout",
     "output_type": "stream",
     "text": [
      "Rejecting 'Jalayer,_Tafresh' - insufficient sentences (less than 3 periods)\n"
     ]
    },
    {
     "name": "stderr",
     "output_type": "stream",
     "text": [
      " 28%|██▊       | 276/1000 [12:27<27:36,  2.29s/it]"
     ]
    },
    {
     "name": "stdout",
     "output_type": "stream",
     "text": [
      "DisambiguationError for 'Chicago_Limited': \"Chicago_Limited\" may refer to: \n",
      "Chicago Limited (C&NW train)\n",
      "Chicago Limited (DLW train)\n",
      "Chicago Limited (IC train)\n",
      "Chicago Limited (Monon train)\n",
      "Chicago Limited (PRR train)\n",
      "Chicago Limited (PM train)\n",
      "Suggestions: ['Chicago Limited (C&NW train)', 'Chicago Limited (DLW train)', 'Chicago Limited (IC train)', 'Chicago Limited (Monon train)', 'Chicago Limited (PRR train)']\n"
     ]
    },
    {
     "name": "stderr",
     "output_type": "stream",
     "text": [
      " 28%|██▊       | 277/1000 [12:28<21:42,  1.80s/it]"
     ]
    },
    {
     "name": "stdout",
     "output_type": "stream",
     "text": [
      "Error processing '%F0%9F%A7%93%F0%9F%8F%BD': 'fullurl'\n",
      "Saved article: 'British_Tigris_Corps' and updated tracking file\n"
     ]
    },
    {
     "name": "stderr",
     "output_type": "stream",
     "text": [
      " 28%|██▊       | 278/1000 [12:32<29:00,  2.41s/it]"
     ]
    },
    {
     "name": "stdout",
     "output_type": "stream",
     "text": [
      "Saved article: 'Maryland_Route_639_(former)' and updated tracking file\n"
     ]
    },
    {
     "name": "stderr",
     "output_type": "stream",
     "text": [
      " 28%|██▊       | 279/1000 [12:36<34:28,  2.87s/it]"
     ]
    },
    {
     "name": "stdout",
     "output_type": "stream",
     "text": [
      "Saved article: 'How_Jones_Saw_the_Baseball_Game' and updated tracking file\n"
     ]
    },
    {
     "name": "stderr",
     "output_type": "stream",
     "text": [
      " 28%|██▊       | 280/1000 [12:40<37:36,  3.13s/it]"
     ]
    },
    {
     "name": "stdout",
     "output_type": "stream",
     "text": [
      "Saved article: 'Die_Hard_film_series' and updated tracking file\n"
     ]
    },
    {
     "name": "stderr",
     "output_type": "stream",
     "text": [
      " 28%|██▊       | 281/1000 [12:44<40:02,  3.34s/it]"
     ]
    },
    {
     "name": "stdout",
     "output_type": "stream",
     "text": [
      "Saved article: 'Antoine_de_Jussieu' and updated tracking file\n"
     ]
    },
    {
     "name": "stderr",
     "output_type": "stream",
     "text": [
      " 28%|██▊       | 282/1000 [12:47<39:23,  3.29s/it]"
     ]
    },
    {
     "name": "stdout",
     "output_type": "stream",
     "text": [
      "Saved article: 'Anna_Maria_Ravaschieri_Fieschi_Squarciafico_Pinelli,_3rd_Princess_of_Belmonte' and updated tracking file\n"
     ]
    },
    {
     "name": "stderr",
     "output_type": "stream",
     "text": [
      " 28%|██▊       | 283/1000 [12:50<41:10,  3.45s/it]"
     ]
    },
    {
     "name": "stdout",
     "output_type": "stream",
     "text": [
      "Saved article: 'Noctua_tirrhaea' and updated tracking file\n"
     ]
    },
    {
     "name": "stderr",
     "output_type": "stream",
     "text": [
      " 28%|██▊       | 284/1000 [12:54<42:44,  3.58s/it]"
     ]
    },
    {
     "name": "stdout",
     "output_type": "stream",
     "text": [
      "Saved article: 'Manuel_Garcia_(baritone)' and updated tracking file\n"
     ]
    },
    {
     "name": "stderr",
     "output_type": "stream",
     "text": [
      " 28%|██▊       | 285/1000 [12:58<43:24,  3.64s/it]"
     ]
    },
    {
     "name": "stdout",
     "output_type": "stream",
     "text": [
      "Saved article: 'Knee_hammer' and updated tracking file\n"
     ]
    },
    {
     "name": "stderr",
     "output_type": "stream",
     "text": [
      " 29%|██▊       | 286/1000 [13:02<45:23,  3.81s/it]"
     ]
    },
    {
     "name": "stdout",
     "output_type": "stream",
     "text": [
      "Saved article: 'Chrysochares_asiaticus' and updated tracking file\n"
     ]
    },
    {
     "name": "stderr",
     "output_type": "stream",
     "text": [
      " 29%|██▊       | 287/1000 [13:06<43:11,  3.63s/it]"
     ]
    },
    {
     "name": "stdout",
     "output_type": "stream",
     "text": [
      "Saved article: 'Ellipsoid' and updated tracking file\n"
     ]
    },
    {
     "name": "stderr",
     "output_type": "stream",
     "text": [
      " 29%|██▉       | 289/1000 [13:10<31:25,  2.65s/it]"
     ]
    },
    {
     "name": "stdout",
     "output_type": "stream",
     "text": [
      "Error processing '%27Alawi': 'fullurl'\n",
      "Saved article: 'University_of_California,_Berkeley_School_of_Law' and updated tracking file\n"
     ]
    },
    {
     "name": "stderr",
     "output_type": "stream",
     "text": [
      " 29%|██▉       | 290/1000 [13:13<35:55,  3.04s/it]"
     ]
    },
    {
     "name": "stdout",
     "output_type": "stream",
     "text": [
      "Saved article: 'Phrasing_(DJ)' and updated tracking file\n"
     ]
    },
    {
     "name": "stderr",
     "output_type": "stream",
     "text": [
      " 29%|██▉       | 292/1000 [13:19<32:07,  2.72s/it]"
     ]
    },
    {
     "name": "stdout",
     "output_type": "stream",
     "text": [
      "DisambiguationError for 'Kim_Jin-gyu': \"Kim Jin-kyu (disambiguation)\" may refer to: \n",
      "Kim Jin-kyu (actor)\n",
      "Kim Jin-kyu (footballer, born 1997)\n",
      "Suggestions: ['Kim Jin-kyu (actor)', 'Kim Jin-kyu (footballer, born 1997)']\n"
     ]
    },
    {
     "name": "stderr",
     "output_type": "stream",
     "text": [
      " 29%|██▉       | 293/1000 [13:19<24:36,  2.09s/it]"
     ]
    },
    {
     "name": "stdout",
     "output_type": "stream",
     "text": [
      "Error processing 'Ro%C5%BEi%C4%8D_Vrh': 'fullurl'\n",
      "Saved article: 'Daniel_Ddu_o_Geredigion' and updated tracking file\n"
     ]
    },
    {
     "name": "stderr",
     "output_type": "stream",
     "text": [
      " 29%|██▉       | 294/1000 [13:23<30:36,  2.60s/it]"
     ]
    },
    {
     "name": "stdout",
     "output_type": "stream",
     "text": [
      "Saved article: 'Sayang_Naman' and updated tracking file\n"
     ]
    },
    {
     "name": "stderr",
     "output_type": "stream",
     "text": [
      " 30%|██▉       | 296/1000 [13:27<26:20,  2.25s/it]"
     ]
    },
    {
     "name": "stdout",
     "output_type": "stream",
     "text": [
      "Error processing '%F0%9F%A5%81': 'fullurl'\n",
      "Saved article: 'Farmery_estate_brewery' and updated tracking file\n"
     ]
    },
    {
     "name": "stderr",
     "output_type": "stream",
     "text": [
      " 30%|██▉       | 298/1000 [13:32<24:09,  2.06s/it]"
     ]
    },
    {
     "name": "stdout",
     "output_type": "stream",
     "text": [
      "Error processing '%F0%9F%A7%91%F0%9F%8F%BC': 'fullurl'\n",
      "Saved article: 'Sporting_Club_de_Bruxelles' and updated tracking file\n"
     ]
    },
    {
     "name": "stderr",
     "output_type": "stream",
     "text": [
      " 30%|███       | 300/1000 [13:35<21:42,  1.86s/it]"
     ]
    },
    {
     "name": "stdout",
     "output_type": "stream",
     "text": [
      "Error processing 'Darreh_Zhan_Pa%27in': 'fullurl'\n"
     ]
    },
    {
     "name": "stderr",
     "output_type": "stream",
     "text": [
      " 30%|███       | 301/1000 [13:36<17:09,  1.47s/it]"
     ]
    },
    {
     "name": "stdout",
     "output_type": "stream",
     "text": [
      "Error processing '%F0%9F%98%97': 'fullurl'\n",
      "Saved article: 'Kai_Althoff' and updated tracking file\n"
     ]
    },
    {
     "name": "stderr",
     "output_type": "stream",
     "text": [
      " 30%|███       | 303/1000 [13:40<18:08,  1.56s/it]"
     ]
    },
    {
     "name": "stdout",
     "output_type": "stream",
     "text": [
      "Error processing '1987_Men%27s_South_American_Volleyball_Championship': 'fullurl'\n",
      "Saved article: 'Zetchoshu' and updated tracking file\n"
     ]
    },
    {
     "name": "stderr",
     "output_type": "stream",
     "text": [
      " 30%|███       | 305/1000 [13:45<23:07,  2.00s/it]"
     ]
    },
    {
     "name": "stdout",
     "output_type": "stream",
     "text": [
      "DisambiguationError for 'Diva_(disambiguation)': \"Diva_(disambiguation)\" may refer to: \n",
      "Diva Montelaba\n",
      "Diva More\n",
      "Diva Tarkas\n",
      "Diva Zappa\n",
      "H.W.A.\n",
      "Diva (José de Alencar novel)\n",
      "Diva (Odier novel)\n",
      "character in the anime series Blood+\n",
      "Stormwatch\n",
      "Diva (magazine)\n",
      "The Diva\n",
      "Cyber Team in Akihabara\n",
      "Diva (1981 film)\n",
      "Diva (2007 film)\n",
      "Diva (2020 film)\n",
      "\"Diva\" (Glee)\n",
      "Diva (TV series)\n",
      "Diva (TV network)\n",
      "Diva TV\n",
      "Diva (Romanian TV Channel)\n",
      "Diva (South Korean band)\n",
      "Diva (Japanese band)\n",
      "Diva Records\n",
      "VH1 Divas\n",
      "Diva (Marcia Hines album)\n",
      "Diva (Ivy Queen album)\n",
      "Diva (Jelena Karleuša album)\n",
      "Diva (Annie Lennox album)\n",
      "Diva (My Sister's Machine album)\n",
      "\"Diva\" (After School song)\n",
      "\"Diva\" (Beyoncé song)\n",
      "\"Diva\" (Cir.Cuz song)\n",
      "\"Diva\" (Dana International song)\n",
      "\"Diva\" (Lali song)\n",
      "\"Diva\" (The Kid Laroi song)\n",
      "@@@@@\n",
      "Amor Adolescente\n",
      "DIVA vaccines\n",
      "DIVA skin test\n",
      "Diagnostic Interview for ADHD in Adults\n",
      "Digital Interface for Video and Audio\n",
      "Diva (car manufacturer)\n",
      "DIVA software\n",
      "DTA Diva\n",
      "Lada Niva\n",
      "D.Va\n",
      "Hatsune Miku: Project DIVA\n",
      "D.C. Divas\n",
      "menstrual cup\n",
      "Castro (clothing)\n",
      "Diva Junction railway station\n",
      "DIVA Museum for Diamonds, Jewellery and Silver\n",
      "WWE Diva\n",
      "Maharashtra\n",
      "Deva (disambiguation)\n",
      "Devi (disambiguation)\n",
      "Divo (disambiguation)\n",
      "La Diva (disambiguation)\n",
      "All pages with titles beginning with Diva\n",
      "All pages with titles containing diva\n",
      "Suggestions: ['Diva Montelaba', 'Diva More', 'Diva Tarkas', 'Diva Zappa', 'H.W.A.']\n"
     ]
    },
    {
     "name": "stderr",
     "output_type": "stream",
     "text": [
      " 31%|███       | 306/1000 [13:46<18:06,  1.57s/it]"
     ]
    },
    {
     "name": "stdout",
     "output_type": "stream",
     "text": [
      "Error processing 'Youcef_Bela%C3%AFli': 'fullurl'\n",
      "Saved article: 'Dearne_District_Light_Railways' and updated tracking file\n"
     ]
    },
    {
     "name": "stderr",
     "output_type": "stream",
     "text": [
      " 31%|███       | 307/1000 [13:49<25:48,  2.24s/it]"
     ]
    },
    {
     "name": "stdout",
     "output_type": "stream",
     "text": [
      "Saved article: 'French_elections_2007' and updated tracking file\n"
     ]
    },
    {
     "name": "stderr",
     "output_type": "stream",
     "text": [
      " 31%|███       | 308/1000 [13:53<32:00,  2.78s/it]"
     ]
    },
    {
     "name": "stdout",
     "output_type": "stream",
     "text": [
      "Saved article: 'Schnappi,_das_kleine_Krokodil' and updated tracking file\n"
     ]
    },
    {
     "name": "stderr",
     "output_type": "stream",
     "text": [
      " 31%|███       | 309/1000 [13:57<33:23,  2.90s/it]"
     ]
    },
    {
     "name": "stdout",
     "output_type": "stream",
     "text": [
      "Saved article: 'Lilibet_Foster' and updated tracking file\n"
     ]
    },
    {
     "name": "stderr",
     "output_type": "stream",
     "text": [
      " 31%|███       | 311/1000 [14:00<25:50,  2.25s/it]"
     ]
    },
    {
     "name": "stdout",
     "output_type": "stream",
     "text": [
      "Error processing '%F0%9F%A4%91': 'fullurl'\n",
      "Saved article: 'Madard' and updated tracking file\n"
     ]
    },
    {
     "name": "stderr",
     "output_type": "stream",
     "text": [
      " 31%|███       | 312/1000 [14:04<31:31,  2.75s/it]"
     ]
    },
    {
     "name": "stdout",
     "output_type": "stream",
     "text": [
      "Saved article: 'Adelaide_Law_Review' and updated tracking file\n"
     ]
    },
    {
     "name": "stderr",
     "output_type": "stream",
     "text": [
      " 31%|███▏      | 313/1000 [14:07<33:01,  2.88s/it]"
     ]
    },
    {
     "name": "stdout",
     "output_type": "stream",
     "text": [
      "Saved article: 'Truth_and_Reconciliation_Commission_of_South_Korea' and updated tracking file\n"
     ]
    },
    {
     "name": "stderr",
     "output_type": "stream",
     "text": [
      " 31%|███▏      | 314/1000 [14:11<36:47,  3.22s/it]"
     ]
    },
    {
     "name": "stdout",
     "output_type": "stream",
     "text": [
      "Saved article: 'Sherwood_Shores,_Texas' and updated tracking file\n"
     ]
    },
    {
     "name": "stderr",
     "output_type": "stream",
     "text": [
      " 32%|███▏      | 315/1000 [14:15<37:52,  3.32s/it]"
     ]
    },
    {
     "name": "stdout",
     "output_type": "stream",
     "text": [
      "Saved article: 'Sadhashivnagar' and updated tracking file\n"
     ]
    },
    {
     "name": "stderr",
     "output_type": "stream",
     "text": [
      " 32%|███▏      | 316/1000 [14:19<39:36,  3.47s/it]"
     ]
    },
    {
     "name": "stdout",
     "output_type": "stream",
     "text": [
      "Saved article: 'Cross_of_Jumonville' and updated tracking file\n"
     ]
    },
    {
     "name": "stderr",
     "output_type": "stream",
     "text": [
      " 32%|███▏      | 317/1000 [14:23<40:28,  3.56s/it]"
     ]
    },
    {
     "name": "stdout",
     "output_type": "stream",
     "text": [
      "Saved article: 'Fort_de_Possel' and updated tracking file\n"
     ]
    },
    {
     "name": "stderr",
     "output_type": "stream",
     "text": [
      " 32%|███▏      | 318/1000 [14:26<39:06,  3.44s/it]"
     ]
    },
    {
     "name": "stdout",
     "output_type": "stream",
     "text": [
      "Saved article: 'Pere_Cheney,_Michigan' and updated tracking file\n"
     ]
    },
    {
     "name": "stderr",
     "output_type": "stream",
     "text": [
      " 32%|███▏      | 319/1000 [14:29<38:11,  3.37s/it]"
     ]
    },
    {
     "name": "stdout",
     "output_type": "stream",
     "text": [
      "Saved article: 'Biblis_hesperia' and updated tracking file\n"
     ]
    },
    {
     "name": "stderr",
     "output_type": "stream",
     "text": [
      " 32%|███▏      | 321/1000 [14:35<34:17,  3.03s/it]"
     ]
    },
    {
     "name": "stdout",
     "output_type": "stream",
     "text": [
      "DisambiguationError for 'Darlo_(disambiguation)': \"Darlo\" may refer to: \n",
      "Darlington\n",
      "Darlington F.C.\n",
      "Darlinghurst, New South Wales\n",
      "Darlo (band)\n",
      "Suggestions: ['Darlington', 'Darlington F.C.', 'Darlinghurst, New South Wales', 'Darlo (band)']\n"
     ]
    },
    {
     "name": "stderr",
     "output_type": "stream",
     "text": [
      " 32%|███▏      | 322/1000 [14:35<26:01,  2.30s/it]"
     ]
    },
    {
     "name": "stdout",
     "output_type": "stream",
     "text": [
      "Error processing '%F0%9F%9B%91': 'fullurl'\n",
      "Saved article: 'The_Taunton_Gazette' and updated tracking file\n"
     ]
    },
    {
     "name": "stderr",
     "output_type": "stream",
     "text": [
      " 32%|███▏      | 323/1000 [14:39<31:04,  2.75s/it]"
     ]
    },
    {
     "name": "stdout",
     "output_type": "stream",
     "text": [
      "Saved article: 'ABCN-1' and updated tracking file\n"
     ]
    },
    {
     "name": "stderr",
     "output_type": "stream",
     "text": [
      " 32%|███▎      | 325/1000 [14:45<31:01,  2.76s/it]"
     ]
    },
    {
     "name": "stdout",
     "output_type": "stream",
     "text": [
      "DisambiguationError for 'Country_Life_(album)': \"Country Life\" may refer to: \n",
      "Rural lifestyle\n",
      "Country Life (books)\n",
      "Country Life (magazine)\n",
      "Country Life in America\n",
      "The Country Life\n",
      "Peter Ackroyd\n",
      "Country Life (Roxy Music album)\n",
      "Country Life (Show of Hands album)\n",
      "Country Life (film)\n",
      "Saputo Dairy UK\n",
      "Country life movement\n",
      "All pages with titles containing Country Life\n",
      "Suggestions: ['Rural lifestyle', 'Country Life (books)', 'Country Life (magazine)', 'Country Life in America', 'The Country Life']\n"
     ]
    },
    {
     "name": "stderr",
     "output_type": "stream",
     "text": [
      " 33%|███▎      | 326/1000 [14:45<23:32,  2.10s/it]"
     ]
    },
    {
     "name": "stdout",
     "output_type": "stream",
     "text": [
      "Error processing 'Alejandro_Urgell%C3%A9s_Guibot': 'fullurl'\n",
      "Saved article: 'Indiana_Invaders' and updated tracking file\n"
     ]
    },
    {
     "name": "stderr",
     "output_type": "stream",
     "text": [
      " 33%|███▎      | 327/1000 [14:49<27:07,  2.42s/it]"
     ]
    },
    {
     "name": "stdout",
     "output_type": "stream",
     "text": [
      "Saved article: 'Diudiu_River' and updated tracking file\n"
     ]
    },
    {
     "name": "stderr",
     "output_type": "stream",
     "text": [
      " 33%|███▎      | 329/1000 [14:54<26:01,  2.33s/it]"
     ]
    },
    {
     "name": "stdout",
     "output_type": "stream",
     "text": [
      "Rejecting 'Cylindera_bigemina' - insufficient sentences (less than 3 periods)\n",
      "Saved article: 'Lee_L._Driver' and updated tracking file\n"
     ]
    },
    {
     "name": "stderr",
     "output_type": "stream",
     "text": [
      " 33%|███▎      | 330/1000 [14:57<28:55,  2.59s/it]"
     ]
    },
    {
     "name": "stdout",
     "output_type": "stream",
     "text": [
      "Saved article: 'Wes_Lysack' and updated tracking file\n"
     ]
    },
    {
     "name": "stderr",
     "output_type": "stream",
     "text": [
      " 33%|███▎      | 331/1000 [15:00<30:48,  2.76s/it]"
     ]
    },
    {
     "name": "stdout",
     "output_type": "stream",
     "text": [
      "Saved article: 'Muhammad_Muhammad_Mursi_Isa_al-Ayyat' and updated tracking file\n"
     ]
    },
    {
     "name": "stderr",
     "output_type": "stream",
     "text": [
      " 33%|███▎      | 332/1000 [15:04<34:25,  3.09s/it]"
     ]
    },
    {
     "name": "stdout",
     "output_type": "stream",
     "text": [
      "Saved article: 'List_of_parks_in_Alberta' and updated tracking file\n"
     ]
    },
    {
     "name": "stderr",
     "output_type": "stream",
     "text": [
      " 33%|███▎      | 334/1000 [15:08<27:42,  2.50s/it]"
     ]
    },
    {
     "name": "stdout",
     "output_type": "stream",
     "text": [
      "Error processing 'J%C3%B8rgen_Aukland': 'fullurl'\n",
      "Saved article: 'Dustin_Lee_Abraham' and updated tracking file\n"
     ]
    },
    {
     "name": "stderr",
     "output_type": "stream",
     "text": [
      " 34%|███▎      | 335/1000 [15:11<30:00,  2.71s/it]"
     ]
    },
    {
     "name": "stdout",
     "output_type": "stream",
     "text": [
      "Saved article: 'USS_Talbot_(TB-15)' and updated tracking file\n"
     ]
    },
    {
     "name": "stderr",
     "output_type": "stream",
     "text": [
      " 34%|███▎      | 336/1000 [15:15<31:30,  2.85s/it]"
     ]
    },
    {
     "name": "stdout",
     "output_type": "stream",
     "text": [
      "Saved article: 'Jesse_Rugge' and updated tracking file\n"
     ]
    },
    {
     "name": "stderr",
     "output_type": "stream",
     "text": [
      " 34%|███▎      | 337/1000 [15:18<34:26,  3.12s/it]"
     ]
    },
    {
     "name": "stdout",
     "output_type": "stream",
     "text": [
      "Saved article: 'Wally_Edwards_(politician)' and updated tracking file\n"
     ]
    },
    {
     "name": "stderr",
     "output_type": "stream",
     "text": [
      " 34%|███▍      | 338/1000 [15:22<36:33,  3.31s/it]"
     ]
    },
    {
     "name": "stdout",
     "output_type": "stream",
     "text": [
      "Saved article: 'Endotoxin' and updated tracking file\n"
     ]
    },
    {
     "name": "stderr",
     "output_type": "stream",
     "text": [
      " 34%|███▍      | 339/1000 [15:26<38:14,  3.47s/it]"
     ]
    },
    {
     "name": "stdout",
     "output_type": "stream",
     "text": [
      "Saved article: 'Desperate_Religion_(ATB)' and updated tracking file\n"
     ]
    },
    {
     "name": "stderr",
     "output_type": "stream",
     "text": [
      " 34%|███▍      | 340/1000 [15:30<39:07,  3.56s/it]"
     ]
    },
    {
     "name": "stdout",
     "output_type": "stream",
     "text": [
      "Saved article: 'Royal_University_of_Pest' and updated tracking file\n"
     ]
    },
    {
     "name": "stderr",
     "output_type": "stream",
     "text": [
      " 34%|███▍      | 341/1000 [15:33<39:44,  3.62s/it]"
     ]
    },
    {
     "name": "stdout",
     "output_type": "stream",
     "text": [
      "Saved article: 'Archduchess_Maria_Isabella,_Princess_of_Tuscany' and updated tracking file\n"
     ]
    },
    {
     "name": "stderr",
     "output_type": "stream",
     "text": [
      " 34%|███▍      | 342/1000 [15:37<40:15,  3.67s/it]"
     ]
    },
    {
     "name": "stdout",
     "output_type": "stream",
     "text": [
      "Saved article: 'Deana_sericea' and updated tracking file\n"
     ]
    },
    {
     "name": "stderr",
     "output_type": "stream",
     "text": [
      " 34%|███▍      | 343/1000 [15:41<40:38,  3.71s/it]"
     ]
    },
    {
     "name": "stdout",
     "output_type": "stream",
     "text": [
      "Saved article: 'Science_Ninja_Team_Gatchaman_II' and updated tracking file\n"
     ]
    },
    {
     "name": "stderr",
     "output_type": "stream",
     "text": [
      " 34%|███▍      | 344/1000 [15:45<40:48,  3.73s/it]"
     ]
    },
    {
     "name": "stdout",
     "output_type": "stream",
     "text": [
      "Saved article: 'US_House_of_Representatives' and updated tracking file\n"
     ]
    },
    {
     "name": "stderr",
     "output_type": "stream",
     "text": [
      " 34%|███▍      | 345/1000 [15:49<41:30,  3.80s/it]"
     ]
    },
    {
     "name": "stdout",
     "output_type": "stream",
     "text": [
      "Saved article: 'Food_of_the_gods_(plant)' and updated tracking file\n"
     ]
    },
    {
     "name": "stderr",
     "output_type": "stream",
     "text": [
      " 35%|███▍      | 346/1000 [15:53<41:16,  3.79s/it]"
     ]
    },
    {
     "name": "stdout",
     "output_type": "stream",
     "text": [
      "Saved article: 'Nuella_Njubigbo' and updated tracking file\n"
     ]
    },
    {
     "name": "stderr",
     "output_type": "stream",
     "text": [
      " 35%|███▍      | 347/1000 [15:56<39:25,  3.62s/it]"
     ]
    },
    {
     "name": "stdout",
     "output_type": "stream",
     "text": [
      "Saved article: 'November_Group_(German)' and updated tracking file\n"
     ]
    },
    {
     "name": "stderr",
     "output_type": "stream",
     "text": [
      " 35%|███▍      | 348/1000 [15:59<38:09,  3.51s/it]"
     ]
    },
    {
     "name": "stdout",
     "output_type": "stream",
     "text": [
      "Saved article: 'Warm_edge' and updated tracking file\n"
     ]
    },
    {
     "name": "stderr",
     "output_type": "stream",
     "text": [
      " 35%|███▌      | 350/1000 [16:03<27:44,  2.56s/it]"
     ]
    },
    {
     "name": "stdout",
     "output_type": "stream",
     "text": [
      "Error processing '1986%E2%80%9387_Frauen_DFB_Pokal': 'fullurl'\n",
      "Saved article: 'USS_Pittsburg' and updated tracking file\n"
     ]
    },
    {
     "name": "stderr",
     "output_type": "stream",
     "text": [
      " 35%|███▌      | 351/1000 [16:07<31:34,  2.92s/it]"
     ]
    },
    {
     "name": "stdout",
     "output_type": "stream",
     "text": [
      "Saved article: 'Neston_High_School' and updated tracking file\n"
     ]
    },
    {
     "name": "stderr",
     "output_type": "stream",
     "text": [
      " 35%|███▌      | 352/1000 [16:10<32:17,  2.99s/it]"
     ]
    },
    {
     "name": "stdout",
     "output_type": "stream",
     "text": [
      "Saved article: 'Dale_Ahlquist' and updated tracking file\n"
     ]
    },
    {
     "name": "stderr",
     "output_type": "stream",
     "text": [
      " 35%|███▌      | 354/1000 [16:13<24:47,  2.30s/it]"
     ]
    },
    {
     "name": "stdout",
     "output_type": "stream",
     "text": [
      "Error processing '%F0%9F%A5%84': 'fullurl'\n"
     ]
    },
    {
     "name": "stderr",
     "output_type": "stream",
     "text": [
      " 36%|███▌      | 355/1000 [16:14<19:07,  1.78s/it]"
     ]
    },
    {
     "name": "stdout",
     "output_type": "stream",
     "text": [
      "Error processing '%F0%9F%99%8C%F0%9F%8F%BD': 'fullurl'\n",
      "Saved article: 'Mary_Flagler_Cary' and updated tracking file\n"
     ]
    },
    {
     "name": "stderr",
     "output_type": "stream",
     "text": [
      " 36%|███▌      | 356/1000 [16:18<25:27,  2.37s/it]"
     ]
    },
    {
     "name": "stdout",
     "output_type": "stream",
     "text": [
      "Saved article: 'Alfonso_Diaz' and updated tracking file\n"
     ]
    },
    {
     "name": "stderr",
     "output_type": "stream",
     "text": [
      " 36%|███▌      | 358/1000 [16:22<21:20,  1.99s/it]"
     ]
    },
    {
     "name": "stdout",
     "output_type": "stream",
     "text": [
      "Error processing 'Qal%27a_Surkhi': 'fullurl'\n",
      "Saved article: 'Free_bording' and updated tracking file\n"
     ]
    },
    {
     "name": "stderr",
     "output_type": "stream",
     "text": [
      " 36%|███▌      | 360/1000 [16:26<20:49,  1.95s/it]"
     ]
    },
    {
     "name": "stdout",
     "output_type": "stream",
     "text": [
      "Error processing 'Ky%C3%B4to_Prefecture': 'fullurl'\n"
     ]
    },
    {
     "name": "stderr",
     "output_type": "stream",
     "text": [
      " 36%|███▌      | 361/1000 [16:28<20:04,  1.88s/it]"
     ]
    },
    {
     "name": "stdout",
     "output_type": "stream",
     "text": [
      "Rejecting 'Mayor_of_Launceston' - insufficient sentences (less than 3 periods)\n",
      "Saved article: 'John_B._Lacson_Colleges_Foundation-Bacolod' and updated tracking file\n"
     ]
    },
    {
     "name": "stderr",
     "output_type": "stream",
     "text": [
      " 36%|███▌      | 362/1000 [16:31<26:07,  2.46s/it]"
     ]
    },
    {
     "name": "stdout",
     "output_type": "stream",
     "text": [
      "Saved article: 'Stenoma_carbasea' and updated tracking file\n"
     ]
    },
    {
     "name": "stderr",
     "output_type": "stream",
     "text": [
      " 36%|███▋      | 363/1000 [16:35<30:24,  2.86s/it]"
     ]
    },
    {
     "name": "stdout",
     "output_type": "stream",
     "text": [
      "Saved article: '1991_South_American_Youth_Championship' and updated tracking file\n"
     ]
    },
    {
     "name": "stderr",
     "output_type": "stream",
     "text": [
      " 36%|███▋      | 364/1000 [16:39<33:09,  3.13s/it]"
     ]
    },
    {
     "name": "stdout",
     "output_type": "stream",
     "text": [
      "Saved article: 'Givira_eureca' and updated tracking file\n"
     ]
    },
    {
     "name": "stderr",
     "output_type": "stream",
     "text": [
      " 36%|███▋      | 365/1000 [16:42<33:12,  3.14s/it]"
     ]
    },
    {
     "name": "stdout",
     "output_type": "stream",
     "text": [
      "Saved article: 'Jean-Luc_Vayssiere' and updated tracking file\n"
     ]
    },
    {
     "name": "stderr",
     "output_type": "stream",
     "text": [
      " 37%|███▋      | 366/1000 [16:46<35:08,  3.33s/it]"
     ]
    },
    {
     "name": "stdout",
     "output_type": "stream",
     "text": [
      "Saved article: 'Spiny_mintbush' and updated tracking file\n"
     ]
    },
    {
     "name": "stderr",
     "output_type": "stream",
     "text": [
      " 37%|███▋      | 367/1000 [16:50<37:31,  3.56s/it]"
     ]
    },
    {
     "name": "stdout",
     "output_type": "stream",
     "text": [
      "Saved article: 'Armored_frigate' and updated tracking file\n"
     ]
    },
    {
     "name": "stderr",
     "output_type": "stream",
     "text": [
      " 37%|███▋      | 368/1000 [16:54<38:49,  3.69s/it]"
     ]
    },
    {
     "name": "stdout",
     "output_type": "stream",
     "text": [
      "Saved article: 'Sanka' and updated tracking file\n"
     ]
    },
    {
     "name": "stderr",
     "output_type": "stream",
     "text": [
      " 37%|███▋      | 369/1000 [16:57<37:14,  3.54s/it]"
     ]
    },
    {
     "name": "stdout",
     "output_type": "stream",
     "text": [
      "Saved article: 'MS_Kungsholm_(1965)' and updated tracking file\n"
     ]
    },
    {
     "name": "stderr",
     "output_type": "stream",
     "text": [
      " 37%|███▋      | 370/1000 [17:01<38:43,  3.69s/it]"
     ]
    },
    {
     "name": "stdout",
     "output_type": "stream",
     "text": [
      "Saved article: 'Rativates' and updated tracking file\n"
     ]
    },
    {
     "name": "stderr",
     "output_type": "stream",
     "text": [
      " 37%|███▋      | 372/1000 [17:06<31:37,  3.02s/it]"
     ]
    },
    {
     "name": "stdout",
     "output_type": "stream",
     "text": [
      "Error processing '%F0%9F%9A%8C': 'fullurl'\n",
      "Saved article: 'Stockholm-Skavsta_Airport' and updated tracking file\n"
     ]
    },
    {
     "name": "stderr",
     "output_type": "stream",
     "text": [
      " 37%|███▋      | 373/1000 [17:11<35:32,  3.40s/it]"
     ]
    },
    {
     "name": "stdout",
     "output_type": "stream",
     "text": [
      "Saved article: 'Rockman_x8' and updated tracking file\n"
     ]
    },
    {
     "name": "stderr",
     "output_type": "stream",
     "text": [
      " 37%|███▋      | 374/1000 [17:14<36:36,  3.51s/it]"
     ]
    },
    {
     "name": "stdout",
     "output_type": "stream",
     "text": [
      "Saved article: '2nd_Oberliga_Suedwest' and updated tracking file\n"
     ]
    },
    {
     "name": "stderr",
     "output_type": "stream",
     "text": [
      " 38%|███▊      | 376/1000 [17:19<28:59,  2.79s/it]"
     ]
    },
    {
     "name": "stdout",
     "output_type": "stream",
     "text": [
      "Error processing '%F0%9F%98%85': 'fullurl'\n"
     ]
    },
    {
     "name": "stderr",
     "output_type": "stream",
     "text": [
      " 38%|███▊      | 377/1000 [17:20<22:01,  2.12s/it]"
     ]
    },
    {
     "name": "stdout",
     "output_type": "stream",
     "text": [
      "Error processing 'Atl%C3%A9tico_F%C3%A9nix': 'fullurl'\n"
     ]
    },
    {
     "name": "stderr",
     "output_type": "stream",
     "text": [
      " 38%|███▊      | 378/1000 [17:20<17:06,  1.65s/it]"
     ]
    },
    {
     "name": "stdout",
     "output_type": "stream",
     "text": [
      "Error processing '%F0%9F%99%A8': 'fullurl'\n"
     ]
    },
    {
     "name": "stderr",
     "output_type": "stream",
     "text": [
      " 38%|███▊      | 379/1000 [17:21<13:40,  1.32s/it]"
     ]
    },
    {
     "name": "stdout",
     "output_type": "stream",
     "text": [
      "Error processing '%F0%9F%A5%93': 'fullurl'\n",
      "Saved article: 'Kuchyna_Air_Base' and updated tracking file\n"
     ]
    },
    {
     "name": "stderr",
     "output_type": "stream",
     "text": [
      " 38%|███▊      | 380/1000 [17:25<22:12,  2.15s/it]"
     ]
    },
    {
     "name": "stdout",
     "output_type": "stream",
     "text": [
      "Saved article: 'Furcipus' and updated tracking file\n"
     ]
    },
    {
     "name": "stderr",
     "output_type": "stream",
     "text": [
      " 38%|███▊      | 382/1000 [17:30<21:29,  2.09s/it]"
     ]
    },
    {
     "name": "stdout",
     "output_type": "stream",
     "text": [
      "Error processing '%F0%9F%9A%86': 'fullurl'\n",
      "Saved article: 'Sons_of_butcher' and updated tracking file\n"
     ]
    },
    {
     "name": "stderr",
     "output_type": "stream",
     "text": [
      " 38%|███▊      | 383/1000 [17:33<26:51,  2.61s/it]"
     ]
    },
    {
     "name": "stdout",
     "output_type": "stream",
     "text": [
      "Saved article: 'Chaman_Lal_Chaman' and updated tracking file\n"
     ]
    },
    {
     "name": "stderr",
     "output_type": "stream",
     "text": [
      " 38%|███▊      | 385/1000 [17:38<25:15,  2.46s/it]"
     ]
    },
    {
     "name": "stdout",
     "output_type": "stream",
     "text": [
      "Rejecting 'Galugan' - insufficient sentences (less than 3 periods)\n"
     ]
    },
    {
     "name": "stderr",
     "output_type": "stream",
     "text": [
      " 39%|███▊      | 386/1000 [17:39<19:19,  1.89s/it]"
     ]
    },
    {
     "name": "stdout",
     "output_type": "stream",
     "text": [
      "Error processing 'Gyul%CA%BCbakhor': 'fullurl'\n",
      "Saved article: 'Revised_edition_of_the_statutes' and updated tracking file\n"
     ]
    },
    {
     "name": "stderr",
     "output_type": "stream",
     "text": [
      " 39%|███▊      | 387/1000 [17:42<23:16,  2.28s/it]"
     ]
    },
    {
     "name": "stdout",
     "output_type": "stream",
     "text": [
      "Saved article: 'Margaret_Hilda_Roberts_Thatcher' and updated tracking file\n"
     ]
    },
    {
     "name": "stderr",
     "output_type": "stream",
     "text": [
      " 39%|███▉      | 388/1000 [17:46<28:32,  2.80s/it]"
     ]
    },
    {
     "name": "stdout",
     "output_type": "stream",
     "text": [
      "Saved article: 'Devan_Carroll' and updated tracking file\n"
     ]
    },
    {
     "name": "stderr",
     "output_type": "stream",
     "text": [
      " 39%|███▉      | 389/1000 [17:49<29:45,  2.92s/it]"
     ]
    },
    {
     "name": "stdout",
     "output_type": "stream",
     "text": [
      "Saved article: 'PS_Bruselas_(1911)' and updated tracking file\n"
     ]
    },
    {
     "name": "stderr",
     "output_type": "stream",
     "text": [
      " 39%|███▉      | 390/1000 [17:53<30:26,  2.99s/it]"
     ]
    },
    {
     "name": "stdout",
     "output_type": "stream",
     "text": [
      "Saved article: 'Mendieta,_William' and updated tracking file\n"
     ]
    },
    {
     "name": "stderr",
     "output_type": "stream",
     "text": [
      " 39%|███▉      | 391/1000 [17:56<32:57,  3.25s/it]"
     ]
    },
    {
     "name": "stdout",
     "output_type": "stream",
     "text": [
      "Saved article: 'Vadym_Rabynovych' and updated tracking file\n"
     ]
    },
    {
     "name": "stderr",
     "output_type": "stream",
     "text": [
      " 39%|███▉      | 392/1000 [18:00<34:44,  3.43s/it]"
     ]
    },
    {
     "name": "stdout",
     "output_type": "stream",
     "text": [
      "Saved article: 'Incremental_Capital-Output_Ratio' and updated tracking file\n"
     ]
    },
    {
     "name": "stderr",
     "output_type": "stream",
     "text": [
      " 39%|███▉      | 393/1000 [18:05<39:13,  3.88s/it]"
     ]
    },
    {
     "name": "stdout",
     "output_type": "stream",
     "text": [
      "Saved article: 'Tito-Subasic_agreement' and updated tracking file\n"
     ]
    },
    {
     "name": "stderr",
     "output_type": "stream",
     "text": [
      " 39%|███▉      | 394/1000 [18:09<39:05,  3.87s/it]"
     ]
    },
    {
     "name": "stdout",
     "output_type": "stream",
     "text": [
      "Saved article: 'Audio_to_video_synchronization' and updated tracking file\n"
     ]
    },
    {
     "name": "stderr",
     "output_type": "stream",
     "text": [
      " 40%|███▉      | 395/1000 [18:13<38:44,  3.84s/it]"
     ]
    },
    {
     "name": "stdout",
     "output_type": "stream",
     "text": [
      "Saved article: 'International_Council_of_Marine_Industry_Associations' and updated tracking file\n"
     ]
    },
    {
     "name": "stderr",
     "output_type": "stream",
     "text": [
      " 40%|███▉      | 396/1000 [18:16<36:43,  3.65s/it]"
     ]
    },
    {
     "name": "stdout",
     "output_type": "stream",
     "text": [
      "Saved article: 'Charles_panici' and updated tracking file\n"
     ]
    },
    {
     "name": "stderr",
     "output_type": "stream",
     "text": [
      " 40%|███▉      | 397/1000 [18:20<37:09,  3.70s/it]"
     ]
    },
    {
     "name": "stdout",
     "output_type": "stream",
     "text": [
      "Saved article: 'Short_bowel_syndrome' and updated tracking file\n"
     ]
    },
    {
     "name": "stderr",
     "output_type": "stream",
     "text": [
      " 40%|███▉      | 398/1000 [18:23<35:34,  3.55s/it]"
     ]
    },
    {
     "name": "stdout",
     "output_type": "stream",
     "text": [
      "Saved article: 'Flatwillow_Crossing,_Montana' and updated tracking file\n"
     ]
    },
    {
     "name": "stderr",
     "output_type": "stream",
     "text": [
      " 40%|███▉      | 399/1000 [18:27<36:20,  3.63s/it]"
     ]
    },
    {
     "name": "stdout",
     "output_type": "stream",
     "text": [
      "Saved article: 'Ballindalloch' and updated tracking file\n"
     ]
    },
    {
     "name": "stderr",
     "output_type": "stream",
     "text": [
      " 40%|████      | 401/1000 [18:31<26:06,  2.61s/it]"
     ]
    },
    {
     "name": "stdout",
     "output_type": "stream",
     "text": [
      "Error processing 'Cavaliere_d%E2%80%99Arpino': 'fullurl'\n",
      "Saved article: 'AACR2' and updated tracking file\n"
     ]
    },
    {
     "name": "stderr",
     "output_type": "stream",
     "text": [
      " 40%|████      | 402/1000 [18:34<29:36,  2.97s/it]"
     ]
    },
    {
     "name": "stdout",
     "output_type": "stream",
     "text": [
      "Saved article: 'Cincinnatti_Kid' and updated tracking file\n"
     ]
    },
    {
     "name": "stderr",
     "output_type": "stream",
     "text": [
      " 40%|████      | 403/1000 [18:39<33:57,  3.41s/it]"
     ]
    },
    {
     "name": "stdout",
     "output_type": "stream",
     "text": [
      "Saved article: 'Petit-Bois_Stadium' and updated tracking file\n"
     ]
    },
    {
     "name": "stderr",
     "output_type": "stream",
     "text": [
      " 40%|████      | 404/1000 [18:42<34:52,  3.51s/it]"
     ]
    },
    {
     "name": "stdout",
     "output_type": "stream",
     "text": [
      "Saved article: 'Lazarivo' and updated tracking file\n"
     ]
    },
    {
     "name": "stderr",
     "output_type": "stream",
     "text": [
      " 41%|████      | 406/1000 [18:47<26:32,  2.68s/it]"
     ]
    },
    {
     "name": "stdout",
     "output_type": "stream",
     "text": [
      "Error processing 'Varl%C4%B1_H%C9%99yat': 'fullurl'\n",
      "Saved article: 'St._Elie_and_St._Gregory_the_Illuminator_Armenian_Catholic_Cathedral,_Beirut' and updated tracking file\n"
     ]
    },
    {
     "name": "stderr",
     "output_type": "stream",
     "text": [
      " 41%|████      | 407/1000 [18:54<39:47,  4.03s/it]"
     ]
    },
    {
     "name": "stdout",
     "output_type": "stream",
     "text": [
      "Saved article: 'Common_chalk_blue' and updated tracking file\n"
     ]
    },
    {
     "name": "stderr",
     "output_type": "stream",
     "text": [
      " 41%|████      | 409/1000 [18:58<28:53,  2.93s/it]"
     ]
    },
    {
     "name": "stdout",
     "output_type": "stream",
     "text": [
      "Error processing 'That%27s_It_For_The_Other_One': 'fullurl'\n",
      "Saved article: 'Lapan-TUBsat' and updated tracking file\n"
     ]
    },
    {
     "name": "stderr",
     "output_type": "stream",
     "text": [
      " 41%|████      | 410/1000 [19:01<29:48,  3.03s/it]"
     ]
    },
    {
     "name": "stdout",
     "output_type": "stream",
     "text": [
      "Saved article: 'Dal_vada' and updated tracking file\n"
     ]
    },
    {
     "name": "stderr",
     "output_type": "stream",
     "text": [
      " 41%|████      | 411/1000 [19:05<31:58,  3.26s/it]"
     ]
    },
    {
     "name": "stdout",
     "output_type": "stream",
     "text": [
      "Saved article: 'Something_in_My_House' and updated tracking file\n"
     ]
    },
    {
     "name": "stderr",
     "output_type": "stream",
     "text": [
      " 41%|████      | 412/1000 [19:08<31:40,  3.23s/it]"
     ]
    },
    {
     "name": "stdout",
     "output_type": "stream",
     "text": [
      "Saved article: 'Twain,_CA' and updated tracking file\n"
     ]
    },
    {
     "name": "stderr",
     "output_type": "stream",
     "text": [
      " 41%|████▏     | 413/1000 [19:12<33:23,  3.41s/it]"
     ]
    },
    {
     "name": "stdout",
     "output_type": "stream",
     "text": [
      "Saved article: 'The_Moth_Who_Came_to_Dinner' and updated tracking file\n"
     ]
    },
    {
     "name": "stderr",
     "output_type": "stream",
     "text": [
      " 41%|████▏     | 414/1000 [19:16<34:39,  3.55s/it]"
     ]
    },
    {
     "name": "stdout",
     "output_type": "stream",
     "text": [
      "Saved article: 'Sonny_Homer' and updated tracking file\n"
     ]
    },
    {
     "name": "stderr",
     "output_type": "stream",
     "text": [
      " 42%|████▏     | 415/1000 [19:19<33:28,  3.43s/it]"
     ]
    },
    {
     "name": "stdout",
     "output_type": "stream",
     "text": [
      "Saved article: 'Basarjik' and updated tracking file\n"
     ]
    },
    {
     "name": "stderr",
     "output_type": "stream",
     "text": [
      " 42%|████▏     | 417/1000 [19:24<27:34,  2.84s/it]"
     ]
    },
    {
     "name": "stdout",
     "output_type": "stream",
     "text": [
      "Rejecting 'Hawk_Nelson_discography' - insufficient sentences (less than 3 periods)\n",
      "Saved article: '268_(year)' and updated tracking file\n"
     ]
    },
    {
     "name": "stderr",
     "output_type": "stream",
     "text": [
      " 42%|████▏     | 418/1000 [19:28<30:15,  3.12s/it]"
     ]
    },
    {
     "name": "stdout",
     "output_type": "stream",
     "text": [
      "Saved article: 'Chris_McCausland' and updated tracking file\n"
     ]
    },
    {
     "name": "stderr",
     "output_type": "stream",
     "text": [
      " 42%|████▏     | 419/1000 [19:31<30:22,  3.14s/it]"
     ]
    },
    {
     "name": "stdout",
     "output_type": "stream",
     "text": [
      "Saved article: 'Echinopsis_mamillosa' and updated tracking file\n"
     ]
    },
    {
     "name": "stderr",
     "output_type": "stream",
     "text": [
      " 42%|████▏     | 420/1000 [19:35<32:12,  3.33s/it]"
     ]
    },
    {
     "name": "stdout",
     "output_type": "stream",
     "text": [
      "Saved article: 'Ellef_Ringnes' and updated tracking file\n"
     ]
    },
    {
     "name": "stderr",
     "output_type": "stream",
     "text": [
      " 42%|████▏     | 421/1000 [19:38<31:58,  3.31s/it]"
     ]
    },
    {
     "name": "stdout",
     "output_type": "stream",
     "text": [
      "Saved article: 'Ki_Bo-bae' and updated tracking file\n"
     ]
    },
    {
     "name": "stderr",
     "output_type": "stream",
     "text": [
      " 42%|████▏     | 422/1000 [19:41<31:38,  3.28s/it]"
     ]
    },
    {
     "name": "stdout",
     "output_type": "stream",
     "text": [
      "Saved article: 'LADEE' and updated tracking file\n"
     ]
    },
    {
     "name": "stderr",
     "output_type": "stream",
     "text": [
      " 42%|████▏     | 423/1000 [19:45<31:30,  3.28s/it]"
     ]
    },
    {
     "name": "stdout",
     "output_type": "stream",
     "text": [
      "Saved article: 'Coke_residue' and updated tracking file\n"
     ]
    },
    {
     "name": "stderr",
     "output_type": "stream",
     "text": [
      " 42%|████▏     | 424/1000 [19:49<33:36,  3.50s/it]"
     ]
    },
    {
     "name": "stdout",
     "output_type": "stream",
     "text": [
      "Saved article: 'Electoral_district_of_mackay' and updated tracking file\n"
     ]
    },
    {
     "name": "stderr",
     "output_type": "stream",
     "text": [
      " 42%|████▎     | 425/1000 [19:52<34:15,  3.57s/it]"
     ]
    },
    {
     "name": "stdout",
     "output_type": "stream",
     "text": [
      "Saved article: 'Tropical_Storm_Kilo_(2015)' and updated tracking file\n"
     ]
    },
    {
     "name": "stderr",
     "output_type": "stream",
     "text": [
      " 43%|████▎     | 426/1000 [19:57<35:31,  3.71s/it]"
     ]
    },
    {
     "name": "stdout",
     "output_type": "stream",
     "text": [
      "Saved article: 'Achilles_Gray' and updated tracking file\n"
     ]
    },
    {
     "name": "stderr",
     "output_type": "stream",
     "text": [
      " 43%|████▎     | 427/1000 [20:00<33:57,  3.56s/it]"
     ]
    },
    {
     "name": "stdout",
     "output_type": "stream",
     "text": [
      "Saved article: 'Rain_Li' and updated tracking file\n"
     ]
    },
    {
     "name": "stderr",
     "output_type": "stream",
     "text": [
      " 43%|████▎     | 428/1000 [20:04<34:42,  3.64s/it]"
     ]
    },
    {
     "name": "stdout",
     "output_type": "stream",
     "text": [
      "Saved article: 'Peripheries_of_Greece' and updated tracking file\n"
     ]
    },
    {
     "name": "stderr",
     "output_type": "stream",
     "text": [
      " 43%|████▎     | 429/1000 [20:11<45:02,  4.73s/it]"
     ]
    },
    {
     "name": "stdout",
     "output_type": "stream",
     "text": [
      "Saved article: 'Crypto-anarchy' and updated tracking file\n"
     ]
    },
    {
     "name": "stderr",
     "output_type": "stream",
     "text": [
      " 43%|████▎     | 430/1000 [20:14<40:39,  4.28s/it]"
     ]
    },
    {
     "name": "stdout",
     "output_type": "stream",
     "text": [
      "Saved article: 'Eubanks,_Christopher' and updated tracking file\n"
     ]
    },
    {
     "name": "stderr",
     "output_type": "stream",
     "text": [
      " 43%|████▎     | 432/1000 [20:20<31:52,  3.37s/it]"
     ]
    },
    {
     "name": "stdout",
     "output_type": "stream",
     "text": [
      "Error processing '%F0%9F%A6%95': 'fullurl'\n"
     ]
    },
    {
     "name": "stderr",
     "output_type": "stream",
     "text": [
      " 43%|████▎     | 433/1000 [20:20<23:51,  2.52s/it]"
     ]
    },
    {
     "name": "stdout",
     "output_type": "stream",
     "text": [
      "Error processing 'Garden_Kingdom_of_Dessau-W%C3%B6rlitz': 'fullurl'\n",
      "Saved article: 'Bishop_(Mormon)' and updated tracking file\n"
     ]
    },
    {
     "name": "stderr",
     "output_type": "stream",
     "text": [
      " 43%|████▎     | 434/1000 [20:25<28:35,  3.03s/it]"
     ]
    },
    {
     "name": "stdout",
     "output_type": "stream",
     "text": [
      "Saved article: 'Consejo_(album)' and updated tracking file\n"
     ]
    },
    {
     "name": "stderr",
     "output_type": "stream",
     "text": [
      " 44%|████▎     | 435/1000 [20:28<28:57,  3.07s/it]"
     ]
    },
    {
     "name": "stdout",
     "output_type": "stream",
     "text": [
      "Saved article: '2021_BC' and updated tracking file\n"
     ]
    },
    {
     "name": "stderr",
     "output_type": "stream",
     "text": [
      " 44%|████▎     | 436/1000 [20:32<30:49,  3.28s/it]"
     ]
    },
    {
     "name": "stdout",
     "output_type": "stream",
     "text": [
      "Saved article: 'Shorter_oxford_english_dictionary' and updated tracking file\n"
     ]
    },
    {
     "name": "stderr",
     "output_type": "stream",
     "text": [
      " 44%|████▎     | 437/1000 [20:36<34:14,  3.65s/it]"
     ]
    },
    {
     "name": "stdout",
     "output_type": "stream",
     "text": [
      "Saved article: 'Deep_Down_(song)' and updated tracking file\n"
     ]
    },
    {
     "name": "stderr",
     "output_type": "stream",
     "text": [
      " 44%|████▍     | 438/1000 [20:39<32:51,  3.51s/it]"
     ]
    },
    {
     "name": "stdout",
     "output_type": "stream",
     "text": [
      "Saved article: 'Pork_cracklin' and updated tracking file\n"
     ]
    },
    {
     "name": "stderr",
     "output_type": "stream",
     "text": [
      " 44%|████▍     | 439/1000 [20:44<35:13,  3.77s/it]"
     ]
    },
    {
     "name": "stdout",
     "output_type": "stream",
     "text": [
      "Saved article: 'Southeast_Houston' and updated tracking file\n"
     ]
    },
    {
     "name": "stderr",
     "output_type": "stream",
     "text": [
      " 44%|████▍     | 441/1000 [20:47<24:56,  2.68s/it]"
     ]
    },
    {
     "name": "stdout",
     "output_type": "stream",
     "text": [
      "Error processing '%F0%9F%99%BF': 'fullurl'\n",
      "Saved article: 'War_And_Remembrance_Miniseries' and updated tracking file\n"
     ]
    },
    {
     "name": "stderr",
     "output_type": "stream",
     "text": [
      " 44%|████▍     | 442/1000 [20:51<28:18,  3.04s/it]"
     ]
    },
    {
     "name": "stdout",
     "output_type": "stream",
     "text": [
      "Saved article: 'Bayt_Suwa' and updated tracking file\n"
     ]
    },
    {
     "name": "stderr",
     "output_type": "stream",
     "text": [
      " 44%|████▍     | 443/1000 [20:55<30:27,  3.28s/it]"
     ]
    },
    {
     "name": "stdout",
     "output_type": "stream",
     "text": [
      "Saved article: 'OFF_System' and updated tracking file\n"
     ]
    },
    {
     "name": "stderr",
     "output_type": "stream",
     "text": [
      " 44%|████▍     | 444/1000 [20:59<32:05,  3.46s/it]"
     ]
    },
    {
     "name": "stdout",
     "output_type": "stream",
     "text": [
      "Saved article: 'Chateauneuf-en-Auxois' and updated tracking file\n"
     ]
    },
    {
     "name": "stderr",
     "output_type": "stream",
     "text": [
      " 44%|████▍     | 445/1000 [21:03<32:47,  3.55s/it]"
     ]
    },
    {
     "name": "stdout",
     "output_type": "stream",
     "text": [
      "Saved article: 'Properties_on_the_Alabama_Register_of_Landmarks_and_Heritage_by_county_(Jefferson-Macon)' and updated tracking file\n"
     ]
    },
    {
     "name": "stderr",
     "output_type": "stream",
     "text": [
      " 45%|████▍     | 447/1000 [21:08<27:29,  2.98s/it]"
     ]
    },
    {
     "name": "stdout",
     "output_type": "stream",
     "text": [
      "DisambiguationError for 'Peale': \"Peale\" may refer to: \n",
      "Albert Charles Peale\n",
      "Anna Claypoole Peale\n",
      "Charles Willson Peale\n",
      "James Peale\n",
      "Margaretta Angelica Peale\n",
      "Maria Peale\n",
      "Mary Jane Peale\n",
      "Norman Vincent Peale\n",
      "Raphaelle Peale\n",
      "Rembrandt Peale\n",
      "Rosalba Carriera Peale\n",
      "Rubens Peale\n",
      "Sarah Miriam Peale\n",
      "Titian Peale\n",
      "John Peale Bishop\n",
      "Charles Peale Polk\n",
      "Peale's dolphin\n",
      "Peale's falcon\n",
      "Peale's free-tailed bat\n",
      "Mount Peale\n",
      "Peale, Pennsylvania\n",
      "Peale House\n",
      "Peale Museum\n",
      "Peale Island\n",
      "Colonial families of Maryland\n",
      "Peel (disambiguation)\n",
      "Peele (disambiguation)\n",
      "Suggestions: ['Albert Charles Peale', 'Anna Claypoole Peale', 'Charles Willson Peale', 'James Peale', 'Margaretta Angelica Peale']\n"
     ]
    },
    {
     "name": "stderr",
     "output_type": "stream",
     "text": [
      " 45%|████▍     | 448/1000 [21:09<21:33,  2.34s/it]"
     ]
    },
    {
     "name": "stdout",
     "output_type": "stream",
     "text": [
      "Error processing 'Adri%C3%A0,_Ferran': 'fullurl'\n",
      "Saved article: 'Black_suit' and updated tracking file\n"
     ]
    },
    {
     "name": "stderr",
     "output_type": "stream",
     "text": [
      " 45%|████▍     | 449/1000 [21:13<25:42,  2.80s/it]"
     ]
    },
    {
     "name": "stdout",
     "output_type": "stream",
     "text": [
      "Saved article: 'Quarrydale_Academy' and updated tracking file\n"
     ]
    },
    {
     "name": "stderr",
     "output_type": "stream",
     "text": [
      " 45%|████▌     | 450/1000 [21:16<26:41,  2.91s/it]"
     ]
    },
    {
     "name": "stdout",
     "output_type": "stream",
     "text": [
      "Saved article: 'Westpool' and updated tracking file\n"
     ]
    },
    {
     "name": "stderr",
     "output_type": "stream",
     "text": [
      " 45%|████▌     | 451/1000 [21:20<29:53,  3.27s/it]"
     ]
    },
    {
     "name": "stdout",
     "output_type": "stream",
     "text": [
      "Saved article: 'Risto_Milosavov' and updated tracking file\n"
     ]
    },
    {
     "name": "stderr",
     "output_type": "stream",
     "text": [
      " 45%|████▌     | 452/1000 [21:23<29:34,  3.24s/it]"
     ]
    },
    {
     "name": "stdout",
     "output_type": "stream",
     "text": [
      "Saved article: 'Ballets_by_Robert_La_Fosse' and updated tracking file\n"
     ]
    },
    {
     "name": "stderr",
     "output_type": "stream",
     "text": [
      " 45%|████▌     | 453/1000 [21:27<31:07,  3.41s/it]"
     ]
    },
    {
     "name": "stdout",
     "output_type": "stream",
     "text": [
      "Saved article: 'Jack_Sandberg' and updated tracking file\n"
     ]
    },
    {
     "name": "stderr",
     "output_type": "stream",
     "text": [
      " 45%|████▌     | 454/1000 [21:30<30:25,  3.34s/it]"
     ]
    },
    {
     "name": "stdout",
     "output_type": "stream",
     "text": [
      "Saved article: 'UEFA_Euro_2012_qualification' and updated tracking file\n"
     ]
    },
    {
     "name": "stderr",
     "output_type": "stream",
     "text": [
      " 46%|████▌     | 456/1000 [21:36<27:08,  2.99s/it]"
     ]
    },
    {
     "name": "stdout",
     "output_type": "stream",
     "text": [
      "Rejecting 'County_Route_55_(Oswego_County,_New_York)' - insufficient sentences (less than 3 periods)\n"
     ]
    },
    {
     "name": "stderr",
     "output_type": "stream",
     "text": [
      " 46%|████▌     | 457/1000 [21:36<20:29,  2.26s/it]"
     ]
    },
    {
     "name": "stdout",
     "output_type": "stream",
     "text": [
      "Error processing '%F0%9F%99%83': 'fullurl'\n",
      "Saved article: 'Tears_to_Forget' and updated tracking file\n"
     ]
    },
    {
     "name": "stderr",
     "output_type": "stream",
     "text": [
      " 46%|████▌     | 458/1000 [21:40<24:28,  2.71s/it]"
     ]
    },
    {
     "name": "stdout",
     "output_type": "stream",
     "text": [
      "Saved article: 'Baimakski' and updated tracking file\n"
     ]
    },
    {
     "name": "stderr",
     "output_type": "stream",
     "text": [
      " 46%|████▌     | 460/1000 [21:46<24:57,  2.77s/it]"
     ]
    },
    {
     "name": "stdout",
     "output_type": "stream",
     "text": [
      "DisambiguationError for 'St._Charles_School_District': \"St._Charles_School_District\" may refer to: \n",
      "St. Charles Community Schools\n",
      "St. Charles Community Unit School District 303\n",
      "St. Charles Parish Public School System\n",
      "St. Charles Public Schools\n",
      "City of St. Charles School District\n",
      "Suggestions: ['St. Charles Community Schools', 'St. Charles Community Unit School District 303', 'St. Charles Parish Public School System', 'St. Charles Public Schools', 'City of St. Charles School District']\n",
      "Saved article: 'Berdyujskiy_District' and updated tracking file\n"
     ]
    },
    {
     "name": "stderr",
     "output_type": "stream",
     "text": [
      " 46%|████▌     | 461/1000 [21:50<27:35,  3.07s/it]"
     ]
    },
    {
     "name": "stdout",
     "output_type": "stream",
     "text": [
      "Saved article: 'Overcast_stitch' and updated tracking file\n"
     ]
    },
    {
     "name": "stderr",
     "output_type": "stream",
     "text": [
      " 46%|████▌     | 462/1000 [21:53<27:46,  3.10s/it]"
     ]
    },
    {
     "name": "stdout",
     "output_type": "stream",
     "text": [
      "Saved article: 'Wilkinsburg_(Amtrak_station)' and updated tracking file\n"
     ]
    },
    {
     "name": "stderr",
     "output_type": "stream",
     "text": [
      " 46%|████▋     | 463/1000 [21:57<29:45,  3.32s/it]"
     ]
    },
    {
     "name": "stdout",
     "output_type": "stream",
     "text": [
      "Saved article: 'LSPS' and updated tracking file\n"
     ]
    },
    {
     "name": "stderr",
     "output_type": "stream",
     "text": [
      " 46%|████▋     | 464/1000 [22:01<31:10,  3.49s/it]"
     ]
    },
    {
     "name": "stdout",
     "output_type": "stream",
     "text": [
      "Saved article: 'Bucanetes_githagineus' and updated tracking file\n"
     ]
    },
    {
     "name": "stderr",
     "output_type": "stream",
     "text": [
      " 46%|████▋     | 465/1000 [22:05<31:53,  3.58s/it]"
     ]
    },
    {
     "name": "stdout",
     "output_type": "stream",
     "text": [
      "Saved article: 'Odd_Hilt' and updated tracking file\n"
     ]
    },
    {
     "name": "stderr",
     "output_type": "stream",
     "text": [
      " 47%|████▋     | 466/1000 [22:08<30:46,  3.46s/it]"
     ]
    },
    {
     "name": "stdout",
     "output_type": "stream",
     "text": [
      "Saved article: 'Holy_Cross,_IA' and updated tracking file\n"
     ]
    },
    {
     "name": "stderr",
     "output_type": "stream",
     "text": [
      " 47%|████▋     | 467/1000 [22:12<31:33,  3.55s/it]"
     ]
    },
    {
     "name": "stdout",
     "output_type": "stream",
     "text": [
      "Saved article: 'William_S_Barber' and updated tracking file\n"
     ]
    },
    {
     "name": "stderr",
     "output_type": "stream",
     "text": [
      " 47%|████▋     | 469/1000 [22:19<29:04,  3.29s/it]"
     ]
    },
    {
     "name": "stdout",
     "output_type": "stream",
     "text": [
      "Rejecting 'Euaresta_jonesi' - insufficient sentences (less than 3 periods)\n",
      "Saved article: 'La_Galatea' and updated tracking file\n"
     ]
    },
    {
     "name": "stderr",
     "output_type": "stream",
     "text": [
      " 47%|████▋     | 470/1000 [22:22<28:49,  3.26s/it]"
     ]
    },
    {
     "name": "stdout",
     "output_type": "stream",
     "text": [
      "Saved article: 'Cardiff_(Pengam_Moors)_Aerodrome' and updated tracking file\n"
     ]
    },
    {
     "name": "stderr",
     "output_type": "stream",
     "text": [
      " 47%|████▋     | 471/1000 [22:26<30:21,  3.44s/it]"
     ]
    },
    {
     "name": "stdout",
     "output_type": "stream",
     "text": [
      "Saved article: 'Karagandinskaya' and updated tracking file\n"
     ]
    },
    {
     "name": "stderr",
     "output_type": "stream",
     "text": [
      " 47%|████▋     | 472/1000 [22:29<30:50,  3.50s/it]"
     ]
    },
    {
     "name": "stdout",
     "output_type": "stream",
     "text": [
      "Saved article: 'Sally_Eaton' and updated tracking file\n"
     ]
    },
    {
     "name": "stderr",
     "output_type": "stream",
     "text": [
      " 47%|████▋     | 474/1000 [22:33<22:38,  2.58s/it]"
     ]
    },
    {
     "name": "stdout",
     "output_type": "stream",
     "text": [
      "Error processing 'Sebasti%C3%A1n_P%C3%A9rez_(bishop)': 'fullurl'\n"
     ]
    },
    {
     "name": "stderr",
     "output_type": "stream",
     "text": [
      " 48%|████▊     | 475/1000 [22:35<19:10,  2.19s/it]"
     ]
    },
    {
     "name": "stdout",
     "output_type": "stream",
     "text": [
      "Rejecting 'Jabaloyas' - insufficient sentences (less than 3 periods)\n",
      "Saved article: 'AU_Optronics' and updated tracking file\n"
     ]
    },
    {
     "name": "stderr",
     "output_type": "stream",
     "text": [
      " 48%|████▊     | 476/1000 [22:38<23:14,  2.66s/it]"
     ]
    },
    {
     "name": "stdout",
     "output_type": "stream",
     "text": [
      "Saved article: 'Nippon_minzoku' and updated tracking file\n"
     ]
    },
    {
     "name": "stderr",
     "output_type": "stream",
     "text": [
      " 48%|████▊     | 478/1000 [22:43<20:15,  2.33s/it]"
     ]
    },
    {
     "name": "stdout",
     "output_type": "stream",
     "text": [
      "Error processing 'Mus%C3%A9e_Pr%C3%A9fectoral_de_Kissidougou': 'fullurl'\n",
      "Saved article: 'Universite_catholique_de_Louvain' and updated tracking file\n"
     ]
    },
    {
     "name": "stderr",
     "output_type": "stream",
     "text": [
      " 48%|████▊     | 479/1000 [22:47<24:20,  2.80s/it]"
     ]
    },
    {
     "name": "stdout",
     "output_type": "stream",
     "text": [
      "Saved article: 'Graduation_tower' and updated tracking file\n"
     ]
    },
    {
     "name": "stderr",
     "output_type": "stream",
     "text": [
      " 48%|████▊     | 480/1000 [22:50<25:14,  2.91s/it]"
     ]
    },
    {
     "name": "stdout",
     "output_type": "stream",
     "text": [
      "Saved article: 'This_Is_Not_The_Album' and updated tracking file\n"
     ]
    },
    {
     "name": "stderr",
     "output_type": "stream",
     "text": [
      " 48%|████▊     | 481/1000 [22:54<27:28,  3.18s/it]"
     ]
    },
    {
     "name": "stdout",
     "output_type": "stream",
     "text": [
      "Saved article: 'Online_Grocery' and updated tracking file\n"
     ]
    },
    {
     "name": "stderr",
     "output_type": "stream",
     "text": [
      " 48%|████▊     | 482/1000 [22:58<29:07,  3.37s/it]"
     ]
    },
    {
     "name": "stdout",
     "output_type": "stream",
     "text": [
      "Saved article: 'List_of_New_Jersey_State_Highways' and updated tracking file\n"
     ]
    },
    {
     "name": "stderr",
     "output_type": "stream",
     "text": [
      " 48%|████▊     | 484/1000 [23:04<26:46,  3.11s/it]"
     ]
    },
    {
     "name": "stdout",
     "output_type": "stream",
     "text": [
      "DisambiguationError for 'Ragnarock_music': \"Ragnarok (disambiguation)\" may refer to: \n",
      "Ragnarok (manhwa)\n",
      "Ragnarok the Animation\n",
      "Sword of the Dark Ones\n",
      "Record of Ragnarok\n",
      "written by Argentine writer Jorge Luis Borges\n",
      "Ragnarok: The Age of Fire and Gravel\n",
      "Ragnarok: The End of the Gods\n",
      "Star Trek: Voyager novel by Nathan Archer\n",
      "Gåten Ragnarok\n",
      "John Hodgman: Ragnarok\n",
      "Thor: Ragnarok\n",
      "Ragnarok (TV series)\n",
      "Ragnarok (video game)\n",
      "Ragnarok (board game)\n",
      "Ragnarok Online\n",
      "Ragnarok Online 2: Legend of the Second\n",
      "Rag'Narok\n",
      "Fate of the Norns\n",
      "God of War Ragnarök\n",
      "Ragnarok (Norwegian band)\n",
      "Ragnarök (Swedish band)\n",
      "Ragnarök (Gwar album)\n",
      "Ragnarok (Týr album)\n",
      "Runaljod – Ragnarok\n",
      "Periphery II: This Time It's Personal\n",
      "Njord\n",
      "Ragnarock\n",
      "Ragnarök (comics)\n",
      "Ragnarok (Soul Eater character)\n",
      "Walt Simonson\n",
      "Project Ragna Rok\n",
      "Ragnarok (gaming event)\n",
      "Ragnarök Festival\n",
      "newer versions of the Opera web browser\n",
      "Bruderschaft des Kreuzes\n",
      "Mega Man Zero 4\n",
      "Suggestions: ['Ragnarok (manhwa)', 'Ragnarok the Animation', 'Sword of the Dark Ones', 'Record of Ragnarok', 'written by Argentine writer Jorge Luis Borges']\n"
     ]
    },
    {
     "name": "stderr",
     "output_type": "stream",
     "text": [
      " 48%|████▊     | 485/1000 [23:04<20:07,  2.35s/it]"
     ]
    },
    {
     "name": "stdout",
     "output_type": "stream",
     "text": [
      "Error processing '%F0%9F%98%B4': 'fullurl'\n",
      "Saved article: 'Western_Region,_Nepal' and updated tracking file\n"
     ]
    },
    {
     "name": "stderr",
     "output_type": "stream",
     "text": [
      " 49%|████▊     | 486/1000 [23:08<24:15,  2.83s/it]"
     ]
    },
    {
     "name": "stdout",
     "output_type": "stream",
     "text": [
      "Saved article: 'Golden_Needle' and updated tracking file\n"
     ]
    },
    {
     "name": "stderr",
     "output_type": "stream",
     "text": [
      " 49%|████▉     | 488/1000 [23:12<20:02,  2.35s/it]"
     ]
    },
    {
     "name": "stdout",
     "output_type": "stream",
     "text": [
      "Error processing '%E4%BA%AC%E9%83%BD%E5%B8%82': 'fullurl'\n"
     ]
    },
    {
     "name": "stderr",
     "output_type": "stream",
     "text": [
      " 49%|████▉     | 489/1000 [23:13<15:26,  1.81s/it]"
     ]
    },
    {
     "name": "stdout",
     "output_type": "stream",
     "text": [
      "PageError: 'Columbia-Chicago_School_of_Economics' does not match any pages. Try another title!\n"
     ]
    },
    {
     "name": "stderr",
     "output_type": "stream",
     "text": [
      " 49%|████▉     | 490/1000 [23:14<12:12,  1.44s/it]"
     ]
    },
    {
     "name": "stdout",
     "output_type": "stream",
     "text": [
      "Error processing '%F0%9F%99%9F': 'fullurl'\n",
      "Saved article: 'Zeek_afridi' and updated tracking file\n"
     ]
    },
    {
     "name": "stderr",
     "output_type": "stream",
     "text": [
      " 49%|████▉     | 491/1000 [23:18<18:28,  2.18s/it]"
     ]
    },
    {
     "name": "stdout",
     "output_type": "stream",
     "text": [
      "Saved article: 'Sextuplet' and updated tracking file\n"
     ]
    },
    {
     "name": "stderr",
     "output_type": "stream",
     "text": [
      " 49%|████▉     | 492/1000 [23:21<22:43,  2.68s/it]"
     ]
    },
    {
     "name": "stdout",
     "output_type": "stream",
     "text": [
      "Saved article: 'Epicontinental' and updated tracking file\n"
     ]
    },
    {
     "name": "stderr",
     "output_type": "stream",
     "text": [
      " 49%|████▉     | 494/1000 [23:26<19:22,  2.30s/it]"
     ]
    },
    {
     "name": "stdout",
     "output_type": "stream",
     "text": [
      "Error processing '%F0%9F%9A%8F': 'fullurl'\n",
      "Saved article: 'List_of_NBA_Head_Coaches' and updated tracking file\n"
     ]
    },
    {
     "name": "stderr",
     "output_type": "stream",
     "text": [
      " 50%|████▉     | 495/1000 [23:30<23:03,  2.74s/it]"
     ]
    },
    {
     "name": "stdout",
     "output_type": "stream",
     "text": [
      "Saved article: 'Synchronized_platform' and updated tracking file\n"
     ]
    },
    {
     "name": "stderr",
     "output_type": "stream",
     "text": [
      " 50%|████▉     | 496/1000 [23:34<26:20,  3.14s/it]"
     ]
    },
    {
     "name": "stdout",
     "output_type": "stream",
     "text": [
      "Saved article: 'Phil_Kelsall' and updated tracking file\n"
     ]
    },
    {
     "name": "stderr",
     "output_type": "stream",
     "text": [
      " 50%|████▉     | 497/1000 [23:37<26:22,  3.15s/it]"
     ]
    },
    {
     "name": "stdout",
     "output_type": "stream",
     "text": [
      "Saved article: 'Nishant_Joke_Singh' and updated tracking file\n"
     ]
    },
    {
     "name": "stderr",
     "output_type": "stream",
     "text": [
      " 50%|████▉     | 498/1000 [23:41<27:50,  3.33s/it]"
     ]
    },
    {
     "name": "stdout",
     "output_type": "stream",
     "text": [
      "Saved article: 'Chittenden-9_Representative_District' and updated tracking file\n"
     ]
    },
    {
     "name": "stderr",
     "output_type": "stream",
     "text": [
      " 50%|█████     | 500/1000 [23:48<29:06,  3.49s/it]"
     ]
    },
    {
     "name": "stdout",
     "output_type": "stream",
     "text": [
      "Rejecting 'John_Beaumont_(sport_shooter)' - insufficient sentences (less than 3 periods)\n",
      "Saved article: 'Lilliane_and_Maurice_Barrard' and updated tracking file\n"
     ]
    },
    {
     "name": "stderr",
     "output_type": "stream",
     "text": [
      " 50%|█████     | 501/1000 [23:53<31:40,  3.81s/it]"
     ]
    },
    {
     "name": "stdout",
     "output_type": "stream",
     "text": [
      "Saved article: 'Marquesses_of_Saluzzo' and updated tracking file\n"
     ]
    },
    {
     "name": "stderr",
     "output_type": "stream",
     "text": [
      " 50%|█████     | 503/1000 [23:57<23:53,  2.88s/it]"
     ]
    },
    {
     "name": "stdout",
     "output_type": "stream",
     "text": [
      "Error processing '%F0%9F%9D%84': 'fullurl'\n",
      "Saved article: '2012_Malaysia_Para_Games' and updated tracking file\n"
     ]
    },
    {
     "name": "stderr",
     "output_type": "stream",
     "text": [
      " 50%|█████     | 504/1000 [24:01<26:54,  3.25s/it]"
     ]
    },
    {
     "name": "stdout",
     "output_type": "stream",
     "text": [
      "Saved article: 'Portugal_at_the_2014_European_Athletics_Championships' and updated tracking file\n"
     ]
    },
    {
     "name": "stderr",
     "output_type": "stream",
     "text": [
      " 51%|█████     | 506/1000 [24:06<23:38,  2.87s/it]"
     ]
    },
    {
     "name": "stdout",
     "output_type": "stream",
     "text": [
      "DisambiguationError for 'Peter_Wood_(disambiguation)': \"Peter Wood\" may refer to: \n",
      "Peter Atte Wode\n",
      "Pete Wood\n",
      "Peter Wood (director)\n",
      "Peter Hill-Wood\n",
      "Peter Wood (businessman)\n",
      "G. Wood, Son & Co.\n",
      "Peter H. Wood\n",
      "Peter K. Wood\n",
      "Peter Wood (politician)\n",
      "Peter Wood (footballer, born 1946)\n",
      "Peter Wood (footballer, born 1939)\n",
      "Peter Wood (cricketer)\n",
      "Peter W. Wood\n",
      "Quiver\n",
      "Peter Wood, 3rd Earl of Halifax\n",
      "Peter's Got Woods\n",
      "Peter Woods (disambiguation)\n",
      "Peter Van Wood\n",
      "Suggestions: ['Peter Atte Wode', 'Pete Wood', 'Peter Wood (director)', 'Peter Hill-Wood', 'Peter Wood (businessman)']\n",
      "Saved article: 'Phanuel_Bishop' and updated tracking file\n"
     ]
    },
    {
     "name": "stderr",
     "output_type": "stream",
     "text": [
      " 51%|█████     | 507/1000 [24:10<24:20,  2.96s/it]"
     ]
    },
    {
     "name": "stdout",
     "output_type": "stream",
     "text": [
      "Saved article: 'Rojakootam' and updated tracking file\n"
     ]
    },
    {
     "name": "stderr",
     "output_type": "stream",
     "text": [
      " 51%|█████     | 508/1000 [24:14<27:45,  3.38s/it]"
     ]
    },
    {
     "name": "stdout",
     "output_type": "stream",
     "text": [
      "Saved article: 'Compton_House,_Liverpool' and updated tracking file\n"
     ]
    },
    {
     "name": "stderr",
     "output_type": "stream",
     "text": [
      " 51%|█████     | 509/1000 [24:17<27:15,  3.33s/it]"
     ]
    },
    {
     "name": "stdout",
     "output_type": "stream",
     "text": [
      "Saved article: 'Edward_L._Giovannucci' and updated tracking file\n"
     ]
    },
    {
     "name": "stderr",
     "output_type": "stream",
     "text": [
      " 51%|█████     | 510/1000 [24:21<29:26,  3.60s/it]"
     ]
    },
    {
     "name": "stdout",
     "output_type": "stream",
     "text": [
      "Saved article: 'William_Durant_Campbell' and updated tracking file\n"
     ]
    },
    {
     "name": "stderr",
     "output_type": "stream",
     "text": [
      " 51%|█████     | 511/1000 [24:25<30:16,  3.71s/it]"
     ]
    },
    {
     "name": "stdout",
     "output_type": "stream",
     "text": [
      "Saved article: 'KMBI_(AM)' and updated tracking file\n"
     ]
    },
    {
     "name": "stderr",
     "output_type": "stream",
     "text": [
      " 51%|█████     | 512/1000 [24:29<30:29,  3.75s/it]"
     ]
    },
    {
     "name": "stdout",
     "output_type": "stream",
     "text": [
      "Saved article: 'Fire_Eel' and updated tracking file\n"
     ]
    },
    {
     "name": "stderr",
     "output_type": "stream",
     "text": [
      " 51%|█████▏    | 513/1000 [24:33<30:25,  3.75s/it]"
     ]
    },
    {
     "name": "stdout",
     "output_type": "stream",
     "text": [
      "Saved article: 'CRB_Ain_Fakroun' and updated tracking file\n"
     ]
    },
    {
     "name": "stderr",
     "output_type": "stream",
     "text": [
      " 51%|█████▏    | 514/1000 [24:37<30:32,  3.77s/it]"
     ]
    },
    {
     "name": "stdout",
     "output_type": "stream",
     "text": [
      "Saved article: 'ISS_Reshetnev' and updated tracking file\n"
     ]
    },
    {
     "name": "stderr",
     "output_type": "stream",
     "text": [
      " 52%|█████▏    | 516/1000 [24:43<26:27,  3.28s/it]"
     ]
    },
    {
     "name": "stdout",
     "output_type": "stream",
     "text": [
      "DisambiguationError for 'Frank_Carney_(disambiguation)': \"Frank Carney\" may refer to: \n",
      "Frank Carney (American football)\n",
      "Frank Carney (playwright)\n",
      "Frank Carney (politician)\n",
      "Dan and Frank Carney\n",
      "Francis Patrick Carney\n",
      "Suggestions: ['Frank Carney (American football)', 'Frank Carney (playwright)', 'Frank Carney (politician)', 'Dan and Frank Carney', 'Francis Patrick Carney']\n",
      "Saved article: 'Macau_passport' and updated tracking file\n"
     ]
    },
    {
     "name": "stderr",
     "output_type": "stream",
     "text": [
      " 52%|█████▏    | 517/1000 [24:47<27:39,  3.44s/it]"
     ]
    },
    {
     "name": "stdout",
     "output_type": "stream",
     "text": [
      "Saved article: 'Lau_Hok_Ming' and updated tracking file\n"
     ]
    },
    {
     "name": "stderr",
     "output_type": "stream",
     "text": [
      " 52%|█████▏    | 518/1000 [24:50<26:55,  3.35s/it]"
     ]
    },
    {
     "name": "stdout",
     "output_type": "stream",
     "text": [
      "Saved article: 'Scaptesyle_dichotoma' and updated tracking file\n"
     ]
    },
    {
     "name": "stderr",
     "output_type": "stream",
     "text": [
      " 52%|█████▏    | 519/1000 [24:53<26:39,  3.33s/it]"
     ]
    },
    {
     "name": "stdout",
     "output_type": "stream",
     "text": [
      "Saved article: 'Yanina_Karolchik' and updated tracking file\n"
     ]
    },
    {
     "name": "stderr",
     "output_type": "stream",
     "text": [
      " 52%|█████▏    | 521/1000 [24:58<22:06,  2.77s/it]"
     ]
    },
    {
     "name": "stdout",
     "output_type": "stream",
     "text": [
      "Rejecting 'Shitfun' - insufficient sentences (less than 3 periods)\n"
     ]
    },
    {
     "name": "stderr",
     "output_type": "stream",
     "text": [
      " 52%|█████▏    | 522/1000 [24:58<16:47,  2.11s/it]"
     ]
    },
    {
     "name": "stdout",
     "output_type": "stream",
     "text": [
      "PageError: 'Grant_Speed' does not match any pages. Try another title!\n",
      "Saved article: 'HMS_Bloxham_(1919)' and updated tracking file\n"
     ]
    },
    {
     "name": "stderr",
     "output_type": "stream",
     "text": [
      " 52%|█████▏    | 523/1000 [25:02<20:43,  2.61s/it]"
     ]
    },
    {
     "name": "stdout",
     "output_type": "stream",
     "text": [
      "Saved article: 'Guardian_(Mal_Duncan)' and updated tracking file\n"
     ]
    },
    {
     "name": "stderr",
     "output_type": "stream",
     "text": [
      " 52%|█████▏    | 524/1000 [25:06<23:24,  2.95s/it]"
     ]
    },
    {
     "name": "stdout",
     "output_type": "stream",
     "text": [
      "Saved article: 'Charia_Hebdo' and updated tracking file\n"
     ]
    },
    {
     "name": "stderr",
     "output_type": "stream",
     "text": [
      " 52%|█████▎    | 525/1000 [25:10<25:25,  3.21s/it]"
     ]
    },
    {
     "name": "stdout",
     "output_type": "stream",
     "text": [
      "Saved article: 'Mahmud_Muftic' and updated tracking file\n"
     ]
    },
    {
     "name": "stderr",
     "output_type": "stream",
     "text": [
      " 53%|█████▎    | 526/1000 [25:14<27:06,  3.43s/it]"
     ]
    },
    {
     "name": "stdout",
     "output_type": "stream",
     "text": [
      "Saved article: 'Bells_Mills,_Pennsylvania' and updated tracking file\n"
     ]
    },
    {
     "name": "stderr",
     "output_type": "stream",
     "text": [
      " 53%|█████▎    | 527/1000 [25:17<26:37,  3.38s/it]"
     ]
    },
    {
     "name": "stdout",
     "output_type": "stream",
     "text": [
      "Saved article: 'Tina,_Guadalcanal' and updated tracking file\n"
     ]
    },
    {
     "name": "stderr",
     "output_type": "stream",
     "text": [
      " 53%|█████▎    | 528/1000 [25:20<26:02,  3.31s/it]"
     ]
    },
    {
     "name": "stdout",
     "output_type": "stream",
     "text": [
      "Saved article: 'Richard_Sharp_Smith_House' and updated tracking file\n"
     ]
    },
    {
     "name": "stderr",
     "output_type": "stream",
     "text": [
      " 53%|█████▎    | 530/1000 [25:24<19:37,  2.51s/it]"
     ]
    },
    {
     "name": "stdout",
     "output_type": "stream",
     "text": [
      "Error processing 'J%C3%BCrgen_Flimm': 'fullurl'\n"
     ]
    },
    {
     "name": "stderr",
     "output_type": "stream",
     "text": [
      " 53%|█████▎    | 531/1000 [25:25<15:03,  1.93s/it]"
     ]
    },
    {
     "name": "stdout",
     "output_type": "stream",
     "text": [
      "Error processing '%F0%9F%9D%82': 'fullurl'\n",
      "Saved article: 'Five_Movements,_Three_Repeats_(ballet)' and updated tracking file\n"
     ]
    },
    {
     "name": "stderr",
     "output_type": "stream",
     "text": [
      " 53%|█████▎    | 533/1000 [25:29<14:46,  1.90s/it]"
     ]
    },
    {
     "name": "stdout",
     "output_type": "stream",
     "text": [
      "Error processing 'Saint-Jean-de-Maru%C3%A9jols-et-Av%C3%A9jan': 'fullurl'\n",
      "Saved article: 'Texas_hog_nose_snake' and updated tracking file\n"
     ]
    },
    {
     "name": "stderr",
     "output_type": "stream",
     "text": [
      " 54%|█████▎    | 535/1000 [25:35<18:08,  2.34s/it]"
     ]
    },
    {
     "name": "stdout",
     "output_type": "stream",
     "text": [
      "DisambiguationError for 'Delyaser': \"Delyasar\" may refer to: \n",
      "Delyasar-e Olya\n",
      "Delyasar-e Sofla\n",
      "Suggestions: ['Delyasar-e Olya', 'Delyasar-e Sofla']\n",
      "Saved article: '78th_parallel_north' and updated tracking file\n"
     ]
    },
    {
     "name": "stderr",
     "output_type": "stream",
     "text": [
      " 54%|█████▎    | 537/1000 [25:39<16:20,  2.12s/it]"
     ]
    },
    {
     "name": "stdout",
     "output_type": "stream",
     "text": [
      "Error processing '%F0%9F%A7%91%F0%9F%8F%BB': 'fullurl'\n",
      "Saved article: 'William_J._Becker' and updated tracking file\n"
     ]
    },
    {
     "name": "stderr",
     "output_type": "stream",
     "text": [
      " 54%|█████▍    | 538/1000 [25:42<18:46,  2.44s/it]"
     ]
    },
    {
     "name": "stdout",
     "output_type": "stream",
     "text": [
      "Saved article: 'US_Burma_relations' and updated tracking file\n"
     ]
    },
    {
     "name": "stderr",
     "output_type": "stream",
     "text": [
      " 54%|█████▍    | 539/1000 [25:46<22:02,  2.87s/it]"
     ]
    },
    {
     "name": "stdout",
     "output_type": "stream",
     "text": [
      "Saved article: 'Rostovskii_District' and updated tracking file\n"
     ]
    },
    {
     "name": "stderr",
     "output_type": "stream",
     "text": [
      " 54%|█████▍    | 541/1000 [25:51<19:28,  2.55s/it]"
     ]
    },
    {
     "name": "stdout",
     "output_type": "stream",
     "text": [
      "Rejecting 'Sfitakantha' - insufficient sentences (less than 3 periods)\n",
      "Saved article: 'Israeli_High_Court' and updated tracking file\n"
     ]
    },
    {
     "name": "stderr",
     "output_type": "stream",
     "text": [
      " 54%|█████▍    | 542/1000 [25:55<22:21,  2.93s/it]"
     ]
    },
    {
     "name": "stdout",
     "output_type": "stream",
     "text": [
      "Saved article: 'Zoila_Chavez' and updated tracking file\n"
     ]
    },
    {
     "name": "stderr",
     "output_type": "stream",
     "text": [
      " 54%|█████▍    | 544/1000 [25:59<18:11,  2.39s/it]"
     ]
    },
    {
     "name": "stdout",
     "output_type": "stream",
     "text": [
      "Error processing '%F0%9F%A4%91': 'fullurl'\n"
     ]
    },
    {
     "name": "stderr",
     "output_type": "stream",
     "text": [
      " 55%|█████▍    | 545/1000 [26:00<13:59,  1.84s/it]"
     ]
    },
    {
     "name": "stdout",
     "output_type": "stream",
     "text": [
      "Error processing 'Hodge_Hill_Girls%27_School': 'fullurl'\n",
      "Saved article: 'Serinus_citrinipectus' and updated tracking file\n"
     ]
    },
    {
     "name": "stderr",
     "output_type": "stream",
     "text": [
      " 55%|█████▍    | 546/1000 [26:04<18:21,  2.43s/it]"
     ]
    },
    {
     "name": "stdout",
     "output_type": "stream",
     "text": [
      "Saved article: 'Commissaire_Jules_Maigret' and updated tracking file\n"
     ]
    },
    {
     "name": "stderr",
     "output_type": "stream",
     "text": [
      " 55%|█████▍    | 547/1000 [26:07<21:18,  2.82s/it]"
     ]
    },
    {
     "name": "stdout",
     "output_type": "stream",
     "text": [
      "Saved article: 'Humpy_Wheeler' and updated tracking file\n"
     ]
    },
    {
     "name": "stderr",
     "output_type": "stream",
     "text": [
      " 55%|█████▍    | 548/1000 [26:11<22:19,  2.96s/it]"
     ]
    },
    {
     "name": "stdout",
     "output_type": "stream",
     "text": [
      "Saved article: 'Allium_tsoongii' and updated tracking file\n"
     ]
    },
    {
     "name": "stderr",
     "output_type": "stream",
     "text": [
      " 55%|█████▍    | 549/1000 [26:15<24:54,  3.31s/it]"
     ]
    },
    {
     "name": "stdout",
     "output_type": "stream",
     "text": [
      "Saved article: 'Malankara_Syrian_Orthodox_Theological_Seminary' and updated tracking file\n"
     ]
    },
    {
     "name": "stderr",
     "output_type": "stream",
     "text": [
      " 55%|█████▌    | 550/1000 [26:18<24:34,  3.28s/it]"
     ]
    },
    {
     "name": "stdout",
     "output_type": "stream",
     "text": [
      "Saved article: 'Give_Thankx' and updated tracking file\n"
     ]
    },
    {
     "name": "stderr",
     "output_type": "stream",
     "text": [
      " 55%|█████▌    | 551/1000 [26:21<24:17,  3.25s/it]"
     ]
    },
    {
     "name": "stdout",
     "output_type": "stream",
     "text": [
      "Saved article: 'Mahmoud_Darwish' and updated tracking file\n"
     ]
    },
    {
     "name": "stderr",
     "output_type": "stream",
     "text": [
      " 55%|█████▌    | 553/1000 [26:25<18:25,  2.47s/it]"
     ]
    },
    {
     "name": "stdout",
     "output_type": "stream",
     "text": [
      "Error processing 'Zahiruddin_Mahomet_B%C4%81bur': 'fullurl'\n",
      "Saved article: 'Paul_Ellwood' and updated tracking file\n"
     ]
    },
    {
     "name": "stderr",
     "output_type": "stream",
     "text": [
      " 56%|█████▌    | 555/1000 [26:31<19:47,  2.67s/it]"
     ]
    },
    {
     "name": "stdout",
     "output_type": "stream",
     "text": [
      "DisambiguationError for 'Abdollahabad,_West_Azerbaijan': \"Abdollahabad\" may refer to: \n",
      "Abdollahabad, East Azerbaijan\n",
      "Abdollahabad, Fars\n",
      "Abdollahabad, Hamadan\n",
      "Abdollahabad, Hormozgan\n",
      "Abdollahabad, Anbarabad\n",
      "Abdollahabad, Bardsir\n",
      "Abdollahabad 1\n",
      "Abdollahabad 2\n",
      "Abdollahabad, Narmashir\n",
      "Abdollahabad, Rafsanjan\n",
      "Abdollahabad, Rudbar-e Jonubi\n",
      "Abdollahabad, Shahr-e Babak\n",
      "Abdollahabad, Zarand\n",
      "Abdollahabad, Mahmudabad\n",
      "Abdollahabad, Nur\n",
      "Abdollahabad, Tonekabon\n",
      "Abdollahabad, Garmkhan\n",
      "Abdollahabad, Raz and Jargalan\n",
      "Abdollahabad, Qom\n",
      "Abdollahabad, Bardaskan\n",
      "Abdollahabad, Firuzeh\n",
      "Abdollahabad, Khoshab\n",
      "Abdollahabad, Mahvelat\n",
      "Abdollahabad, Mashhad\n",
      "Abdollahabad, Nishapur\n",
      "Abdollahabad, Damghan\n",
      "Abdollahabad, Amirabad\n",
      "Abdollahabad-e Bala\n",
      "Abdollahabad, Tehran\n",
      "Abdollahabad-e Ojaq\n",
      "Abdollahabad, Bukan\n",
      "Abdollahabad, Mahabad\n",
      "Abdollahabad, Yazd\n",
      "Suggestions: ['Abdollahabad, East Azerbaijan', 'Abdollahabad, Fars', 'Abdollahabad, Hamadan', 'Abdollahabad, Hormozgan', 'Abdollahabad, Anbarabad']\n",
      "Saved article: 'Hungarian_National_Championship_I_2007-08' and updated tracking file\n"
     ]
    },
    {
     "name": "stderr",
     "output_type": "stream",
     "text": [
      " 56%|█████▌    | 556/1000 [26:35<22:14,  3.00s/it]"
     ]
    },
    {
     "name": "stdout",
     "output_type": "stream",
     "text": [
      "Saved article: 'Brandon_Darner' and updated tracking file\n"
     ]
    },
    {
     "name": "stderr",
     "output_type": "stream",
     "text": [
      " 56%|█████▌    | 557/1000 [26:38<22:37,  3.06s/it]"
     ]
    },
    {
     "name": "stdout",
     "output_type": "stream",
     "text": [
      "Saved article: 'John_Carter_from_Mars' and updated tracking file\n"
     ]
    },
    {
     "name": "stderr",
     "output_type": "stream",
     "text": [
      " 56%|█████▌    | 559/1000 [26:46<22:58,  3.13s/it]"
     ]
    },
    {
     "name": "stdout",
     "output_type": "stream",
     "text": [
      "Error processing '%F0%9F%99%81': 'fullurl'\n",
      "Saved article: 'Fiscal_military_state' and updated tracking file\n"
     ]
    },
    {
     "name": "stderr",
     "output_type": "stream",
     "text": [
      " 56%|█████▌    | 560/1000 [26:49<24:19,  3.32s/it]"
     ]
    },
    {
     "name": "stdout",
     "output_type": "stream",
     "text": [
      "Saved article: '2003-04_Bulgarian_Hockey_League_season' and updated tracking file\n"
     ]
    },
    {
     "name": "stderr",
     "output_type": "stream",
     "text": [
      " 56%|█████▌    | 562/1000 [26:54<19:01,  2.61s/it]"
     ]
    },
    {
     "name": "stdout",
     "output_type": "stream",
     "text": [
      "Error processing '%F0%9F%97%B5': 'fullurl'\n",
      "Saved article: 'Lunasdal' and updated tracking file\n"
     ]
    },
    {
     "name": "stderr",
     "output_type": "stream",
     "text": [
      " 56%|█████▋    | 563/1000 [26:58<21:46,  2.99s/it]"
     ]
    },
    {
     "name": "stdout",
     "output_type": "stream",
     "text": [
      "Saved article: 'Sazdice' and updated tracking file\n"
     ]
    },
    {
     "name": "stderr",
     "output_type": "stream",
     "text": [
      " 56%|█████▋    | 564/1000 [27:01<22:07,  3.05s/it]"
     ]
    },
    {
     "name": "stdout",
     "output_type": "stream",
     "text": [
      "Saved article: 'Solomon_Encel' and updated tracking file\n"
     ]
    },
    {
     "name": "stderr",
     "output_type": "stream",
     "text": [
      " 57%|█████▋    | 566/1000 [27:05<17:46,  2.46s/it]"
     ]
    },
    {
     "name": "stdout",
     "output_type": "stream",
     "text": [
      "Error processing 'David_M%C3%A9nard': 'fullurl'\n",
      "Saved article: 'Precious_Moments_Park_and_Chapel' and updated tracking file\n"
     ]
    },
    {
     "name": "stderr",
     "output_type": "stream",
     "text": [
      " 57%|█████▋    | 568/1000 [27:10<15:51,  2.20s/it]"
     ]
    },
    {
     "name": "stdout",
     "output_type": "stream",
     "text": [
      "Error processing '%F0%9F%9B%92': 'fullurl'\n",
      "Saved article: 'Zsolt_Horvath_(politician,_1964)' and updated tracking file\n"
     ]
    },
    {
     "name": "stderr",
     "output_type": "stream",
     "text": [
      " 57%|█████▋    | 569/1000 [27:14<19:11,  2.67s/it]"
     ]
    },
    {
     "name": "stdout",
     "output_type": "stream",
     "text": [
      "Saved article: 'Grey_Goose_(folk_song)' and updated tracking file\n"
     ]
    },
    {
     "name": "stderr",
     "output_type": "stream",
     "text": [
      " 57%|█████▋    | 570/1000 [27:17<21:29,  3.00s/it]"
     ]
    },
    {
     "name": "stdout",
     "output_type": "stream",
     "text": [
      "Saved article: 'Seehaus' and updated tracking file\n"
     ]
    },
    {
     "name": "stderr",
     "output_type": "stream",
     "text": [
      " 57%|█████▋    | 572/1000 [27:23<20:32,  2.88s/it]"
     ]
    },
    {
     "name": "stdout",
     "output_type": "stream",
     "text": [
      "DisambiguationError for 'Hector_Campos': \"Héctor Campos\" may refer to: \n",
      "Héctor Campos (judoka)\n",
      "Héctor Campos (sailor)\n",
      "Héctor Campos Parsi\n",
      "Suggestions: ['Héctor Campos (judoka)', 'Héctor Campos (sailor)', 'Héctor Campos Parsi']\n",
      "Saved article: 'Hugh_X._Lewis' and updated tracking file\n"
     ]
    },
    {
     "name": "stderr",
     "output_type": "stream",
     "text": [
      " 57%|█████▋    | 573/1000 [27:26<21:08,  2.97s/it]"
     ]
    },
    {
     "name": "stdout",
     "output_type": "stream",
     "text": [
      "Saved article: 'The_Teahouse_of_the_August_Moon_(novel)' and updated tracking file\n"
     ]
    },
    {
     "name": "stderr",
     "output_type": "stream",
     "text": [
      " 57%|█████▋    | 574/1000 [27:30<22:09,  3.12s/it]"
     ]
    },
    {
     "name": "stdout",
     "output_type": "stream",
     "text": [
      "Saved article: 'Bellowitsch' and updated tracking file\n"
     ]
    },
    {
     "name": "stderr",
     "output_type": "stream",
     "text": [
      " 57%|█████▊    | 575/1000 [27:34<23:28,  3.31s/it]"
     ]
    },
    {
     "name": "stdout",
     "output_type": "stream",
     "text": [
      "Saved article: 'Guarambare' and updated tracking file\n"
     ]
    },
    {
     "name": "stderr",
     "output_type": "stream",
     "text": [
      " 58%|█████▊    | 577/1000 [27:39<19:38,  2.79s/it]"
     ]
    },
    {
     "name": "stdout",
     "output_type": "stream",
     "text": [
      "Rejecting 'United_States_congressional_delegations_from_North_Dakota' - insufficient sentences (less than 3 periods)\n",
      "Saved article: 'Fieldlink' and updated tracking file\n"
     ]
    },
    {
     "name": "stderr",
     "output_type": "stream",
     "text": [
      " 58%|█████▊    | 579/1000 [27:43<16:21,  2.33s/it]"
     ]
    },
    {
     "name": "stdout",
     "output_type": "stream",
     "text": [
      "Error processing '%F0%9F%99%86': 'fullurl'\n"
     ]
    },
    {
     "name": "stderr",
     "output_type": "stream",
     "text": [
      " 58%|█████▊    | 580/1000 [27:46<16:56,  2.42s/it]"
     ]
    },
    {
     "name": "stdout",
     "output_type": "stream",
     "text": [
      "DisambiguationError for 'Petr_Hruska': \"Petr Hruška\" may refer to: \n",
      "Petr Hruška (poet)\n",
      "Petr Hruška (canoeist)\n",
      "Suggestions: ['Petr Hruška (poet)', 'Petr Hruška (canoeist)']\n"
     ]
    },
    {
     "name": "stderr",
     "output_type": "stream",
     "text": [
      " 58%|█████▊    | 581/1000 [27:46<12:59,  1.86s/it]"
     ]
    },
    {
     "name": "stdout",
     "output_type": "stream",
     "text": [
      "Error processing 'Lu%C3%ADs_de_g%C3%B3ngora_y_argote': 'fullurl'\n",
      "Saved article: 'Antarctic_ice_pack' and updated tracking file\n"
     ]
    },
    {
     "name": "stderr",
     "output_type": "stream",
     "text": [
      " 58%|█████▊    | 582/1000 [27:50<17:18,  2.48s/it]"
     ]
    },
    {
     "name": "stdout",
     "output_type": "stream",
     "text": [
      "Saved article: 'Sacred_horse' and updated tracking file\n"
     ]
    },
    {
     "name": "stderr",
     "output_type": "stream",
     "text": [
      " 58%|█████▊    | 584/1000 [27:54<15:06,  2.18s/it]"
     ]
    },
    {
     "name": "stdout",
     "output_type": "stream",
     "text": [
      "Error processing '%F0%9F%A7%A5': 'fullurl'\n",
      "Saved article: 'Roma_Party' and updated tracking file\n"
     ]
    },
    {
     "name": "stderr",
     "output_type": "stream",
     "text": [
      " 59%|█████▊    | 586/1000 [27:59<14:41,  2.13s/it]"
     ]
    },
    {
     "name": "stdout",
     "output_type": "stream",
     "text": [
      "DisambiguationError for 'Sean_Reid': \"Sean_Reid\" may refer to: \n",
      "Seán Reid\n",
      "Sean Reid (politician)\n",
      "Suggestions: ['Seán Reid', 'Sean Reid (politician)']\n",
      "Saved article: 'Sunfish_(dinghy)' and updated tracking file\n"
     ]
    },
    {
     "name": "stderr",
     "output_type": "stream",
     "text": [
      " 59%|█████▊    | 587/1000 [28:03<18:03,  2.62s/it]"
     ]
    },
    {
     "name": "stdout",
     "output_type": "stream",
     "text": [
      "Saved article: 'Ambakirano' and updated tracking file\n"
     ]
    },
    {
     "name": "stderr",
     "output_type": "stream",
     "text": [
      " 59%|█████▉    | 589/1000 [28:08<17:01,  2.49s/it]"
     ]
    },
    {
     "name": "stdout",
     "output_type": "stream",
     "text": [
      "Rejecting 'John_Muldoon_(rugby_player_born_1896)' - insufficient sentences (less than 3 periods)\n",
      "Saved article: 'Soul_Beneficiary' and updated tracking file\n"
     ]
    },
    {
     "name": "stderr",
     "output_type": "stream",
     "text": [
      " 59%|█████▉    | 590/1000 [28:11<19:31,  2.86s/it]"
     ]
    },
    {
     "name": "stdout",
     "output_type": "stream",
     "text": [
      "Saved article: 'Kiyoshi_K._Muranaga' and updated tracking file\n"
     ]
    },
    {
     "name": "stderr",
     "output_type": "stream",
     "text": [
      " 59%|█████▉    | 592/1000 [28:15<15:12,  2.24s/it]"
     ]
    },
    {
     "name": "stdout",
     "output_type": "stream",
     "text": [
      "Error processing 'River_Quinimar%C3%AD': 'fullurl'\n",
      "Saved article: 'Vaceuchelus_cavernosus' and updated tracking file\n"
     ]
    },
    {
     "name": "stderr",
     "output_type": "stream",
     "text": [
      " 59%|█████▉    | 593/1000 [28:18<17:02,  2.51s/it]"
     ]
    },
    {
     "name": "stdout",
     "output_type": "stream",
     "text": [
      "Saved article: 'Ossianic_controversy' and updated tracking file\n"
     ]
    },
    {
     "name": "stderr",
     "output_type": "stream",
     "text": [
      " 59%|█████▉    | 594/1000 [28:23<21:41,  3.21s/it]"
     ]
    },
    {
     "name": "stdout",
     "output_type": "stream",
     "text": [
      "Saved article: '2011_Scottish_Parliamentary_elections' and updated tracking file\n"
     ]
    },
    {
     "name": "stderr",
     "output_type": "stream",
     "text": [
      " 60%|█████▉    | 595/1000 [28:27<22:57,  3.40s/it]"
     ]
    },
    {
     "name": "stdout",
     "output_type": "stream",
     "text": [
      "Saved article: 'As_Time_Goes_By_(Harpers_Bizarre_album)' and updated tracking file\n"
     ]
    },
    {
     "name": "stderr",
     "output_type": "stream",
     "text": [
      " 60%|█████▉    | 597/1000 [28:31<16:48,  2.50s/it]"
     ]
    },
    {
     "name": "stdout",
     "output_type": "stream",
     "text": [
      "PageError: 'Omer_(Book_of_Mormon)' does not match any pages. Try another title!\n",
      "Saved article: 'The_Black_Dahlia_(2006_film)' and updated tracking file\n"
     ]
    },
    {
     "name": "stderr",
     "output_type": "stream",
     "text": [
      " 60%|█████▉    | 599/1000 [28:37<18:41,  2.80s/it]"
     ]
    },
    {
     "name": "stdout",
     "output_type": "stream",
     "text": [
      "Rejecting 'Division_2_1942-43' - insufficient sentences (less than 3 periods)\n",
      "Saved article: 'Christopher_McMahon' and updated tracking file\n"
     ]
    },
    {
     "name": "stderr",
     "output_type": "stream",
     "text": [
      " 60%|██████    | 600/1000 [28:41<20:36,  3.09s/it]"
     ]
    },
    {
     "name": "stdout",
     "output_type": "stream",
     "text": [
      "Saved article: 'Prakash_Raj' and updated tracking file\n"
     ]
    },
    {
     "name": "stderr",
     "output_type": "stream",
     "text": [
      " 60%|██████    | 601/1000 [28:44<20:48,  3.13s/it]"
     ]
    },
    {
     "name": "stdout",
     "output_type": "stream",
     "text": [
      "Saved article: 'Juniperus_uhdeana' and updated tracking file\n"
     ]
    },
    {
     "name": "stderr",
     "output_type": "stream",
     "text": [
      " 60%|██████    | 603/1000 [28:49<17:40,  2.67s/it]"
     ]
    },
    {
     "name": "stdout",
     "output_type": "stream",
     "text": [
      "Rejecting 'Thijmen' - insufficient sentences (less than 3 periods)\n",
      "Saved article: 'Seras' and updated tracking file\n"
     ]
    },
    {
     "name": "stderr",
     "output_type": "stream",
     "text": [
      " 60%|██████    | 605/1000 [28:54<15:18,  2.33s/it]"
     ]
    },
    {
     "name": "stdout",
     "output_type": "stream",
     "text": [
      "PageError: 'Synical' does not match any pages. Try another title!\n",
      "Saved article: 'Lost_in_Loveliness' and updated tracking file\n"
     ]
    },
    {
     "name": "stderr",
     "output_type": "stream",
     "text": [
      " 61%|██████    | 606/1000 [28:58<18:04,  2.75s/it]"
     ]
    },
    {
     "name": "stdout",
     "output_type": "stream",
     "text": [
      "Saved article: 'List_of_people_from_Kansas_City,_Missouri' and updated tracking file\n"
     ]
    },
    {
     "name": "stderr",
     "output_type": "stream",
     "text": [
      " 61%|██████    | 607/1000 [29:01<18:52,  2.88s/it]"
     ]
    },
    {
     "name": "stdout",
     "output_type": "stream",
     "text": [
      "Saved article: 'Koolmuzone' and updated tracking file\n"
     ]
    },
    {
     "name": "stderr",
     "output_type": "stream",
     "text": [
      " 61%|██████    | 608/1000 [29:04<19:36,  3.00s/it]"
     ]
    },
    {
     "name": "stdout",
     "output_type": "stream",
     "text": [
      "Saved article: 'Auburn,_Alabama' and updated tracking file\n"
     ]
    },
    {
     "name": "stderr",
     "output_type": "stream",
     "text": [
      " 61%|██████    | 610/1000 [29:09<16:15,  2.50s/it]"
     ]
    },
    {
     "name": "stdout",
     "output_type": "stream",
     "text": [
      "Rejecting 'Ilo_Veyou' - insufficient sentences (less than 3 periods)\n",
      "Saved article: 'Queanbeyan' and updated tracking file\n"
     ]
    },
    {
     "name": "stderr",
     "output_type": "stream",
     "text": [
      " 61%|██████    | 612/1000 [29:14<15:45,  2.44s/it]"
     ]
    },
    {
     "name": "stdout",
     "output_type": "stream",
     "text": [
      "Rejecting 'Eclans-Nenon' - insufficient sentences (less than 3 periods)\n"
     ]
    },
    {
     "name": "stderr",
     "output_type": "stream",
     "text": [
      " 61%|██████▏   | 613/1000 [29:15<13:41,  2.12s/it]"
     ]
    },
    {
     "name": "stdout",
     "output_type": "stream",
     "text": [
      "DisambiguationError for 'Mayo_West': \"Mayo_West\" may refer to: \n",
      "Mayo West (Dáil constituency)\n",
      "West Mayo (UK Parliament constituency)\n",
      "County Mayo\n",
      "Suggestions: ['Mayo West (Dáil constituency)', 'West Mayo (UK Parliament constituency)', 'County Mayo']\n"
     ]
    },
    {
     "name": "stderr",
     "output_type": "stream",
     "text": [
      " 61%|██████▏   | 614/1000 [29:16<12:06,  1.88s/it]"
     ]
    },
    {
     "name": "stdout",
     "output_type": "stream",
     "text": [
      "Rejecting 'Channel_51_low-power_TV_stations_in_the_United_States' - insufficient sentences (less than 3 periods)\n",
      "Saved article: 'Hybird_Theory' and updated tracking file\n"
     ]
    },
    {
     "name": "stderr",
     "output_type": "stream",
     "text": [
      " 62%|██████▏   | 615/1000 [29:20<15:49,  2.46s/it]"
     ]
    },
    {
     "name": "stdout",
     "output_type": "stream",
     "text": [
      "Saved article: 'Letters_from_the_inside' and updated tracking file\n"
     ]
    },
    {
     "name": "stderr",
     "output_type": "stream",
     "text": [
      " 62%|██████▏   | 617/1000 [29:26<17:23,  2.72s/it]"
     ]
    },
    {
     "name": "stdout",
     "output_type": "stream",
     "text": [
      "Rejecting '2015-16_RK_Zamet_season' - insufficient sentences (less than 3 periods)\n"
     ]
    },
    {
     "name": "stderr",
     "output_type": "stream",
     "text": [
      " 62%|██████▏   | 618/1000 [29:27<13:13,  2.08s/it]"
     ]
    },
    {
     "name": "stdout",
     "output_type": "stream",
     "text": [
      "Error processing 'Upavi%E1%B9%A3%E1%B9%ADako%E1%B9%87%C4%81sana': 'fullurl'\n",
      "Saved article: 'William_Frederic_Marquat' and updated tracking file\n"
     ]
    },
    {
     "name": "stderr",
     "output_type": "stream",
     "text": [
      " 62%|██████▏   | 620/1000 [29:31<12:33,  1.98s/it]"
     ]
    },
    {
     "name": "stdout",
     "output_type": "stream",
     "text": [
      "Error processing '%E5%9C%9F%E5%B1%8B_%E3%82%A2%E3%83%B3%E3%83%8A': 'fullurl'\n"
     ]
    },
    {
     "name": "stderr",
     "output_type": "stream",
     "text": [
      " 62%|██████▏   | 621/1000 [29:32<11:03,  1.75s/it]"
     ]
    },
    {
     "name": "stdout",
     "output_type": "stream",
     "text": [
      "Rejecting 'Freizeitpark_Widau' - insufficient sentences (less than 3 periods)\n"
     ]
    },
    {
     "name": "stderr",
     "output_type": "stream",
     "text": [
      " 62%|██████▏   | 622/1000 [29:33<08:47,  1.40s/it]"
     ]
    },
    {
     "name": "stdout",
     "output_type": "stream",
     "text": [
      "Error processing 'H%C3%A4me_castle': 'fullurl'\n",
      "Saved article: 'The_LazyTown_Snow_Monster' and updated tracking file\n"
     ]
    },
    {
     "name": "stderr",
     "output_type": "stream",
     "text": [
      " 62%|██████▏   | 624/1000 [29:38<11:42,  1.87s/it]"
     ]
    },
    {
     "name": "stdout",
     "output_type": "stream",
     "text": [
      "Rejecting 'Eichstedt' - insufficient sentences (less than 3 periods)\n",
      "Saved article: 'Eucryptocerus' and updated tracking file\n"
     ]
    },
    {
     "name": "stderr",
     "output_type": "stream",
     "text": [
      " 62%|██████▎   | 625/1000 [29:42<15:14,  2.44s/it]"
     ]
    },
    {
     "name": "stdout",
     "output_type": "stream",
     "text": [
      "Saved article: 'Joseph_Hallet_Batten' and updated tracking file\n"
     ]
    },
    {
     "name": "stderr",
     "output_type": "stream",
     "text": [
      " 63%|██████▎   | 626/1000 [29:46<17:42,  2.84s/it]"
     ]
    },
    {
     "name": "stdout",
     "output_type": "stream",
     "text": [
      "Saved article: 'Shmuel_Boteach' and updated tracking file\n"
     ]
    },
    {
     "name": "stderr",
     "output_type": "stream",
     "text": [
      " 63%|██████▎   | 627/1000 [29:50<19:31,  3.14s/it]"
     ]
    },
    {
     "name": "stdout",
     "output_type": "stream",
     "text": [
      "Saved article: 'India_Splendor' and updated tracking file\n"
     ]
    },
    {
     "name": "stderr",
     "output_type": "stream",
     "text": [
      " 63%|██████▎   | 629/1000 [29:53<14:40,  2.37s/it]"
     ]
    },
    {
     "name": "stdout",
     "output_type": "stream",
     "text": [
      "Error processing 'Church_of_Ges%C3%B9,_Mirandola': 'fullurl'\n"
     ]
    },
    {
     "name": "stderr",
     "output_type": "stream",
     "text": [
      " 63%|██████▎   | 630/1000 [29:55<13:58,  2.27s/it]"
     ]
    },
    {
     "name": "stdout",
     "output_type": "stream",
     "text": [
      "DisambiguationError for 'Catena_(disambiguation)': \"Catena\" may refer to: \n",
      "Catena (fly)\n",
      "Catena (linguistics)\n",
      "Catena (computing)\n",
      "Catenary\n",
      "Crater chain\n",
      "idebenone\n",
      "Catena (soil)\n",
      "Catena (cryptography)\n",
      "Catena (soil science journal)\n",
      "Catena Paperback\n",
      "Catena Supplements\n",
      "CATENA: Magazine of the Catenian Association\n",
      "Catena Media\n",
      "Catena (biblical commentary)\n",
      "Legion of Mary\n",
      "Catena (surname)\n",
      "Catena, San Miniato\n",
      "International Masonic Union Catena\n",
      "bass bar\n",
      "All pages with titles containing Catena\n",
      "Suggestions: ['Catena (fly)', 'Catena (linguistics)', 'Catena (computing)', 'Catenary', 'Crater chain']\n",
      "Saved article: 'The_Protestant_Monastery' and updated tracking file\n"
     ]
    },
    {
     "name": "stderr",
     "output_type": "stream",
     "text": [
      " 63%|██████▎   | 631/1000 [29:58<15:37,  2.54s/it]"
     ]
    },
    {
     "name": "stdout",
     "output_type": "stream",
     "text": [
      "Saved article: 'Aleksandr_Panayotov_Aleksandrov' and updated tracking file\n"
     ]
    },
    {
     "name": "stderr",
     "output_type": "stream",
     "text": [
      " 63%|██████▎   | 632/1000 [30:02<17:03,  2.78s/it]"
     ]
    },
    {
     "name": "stdout",
     "output_type": "stream",
     "text": [
      "Saved article: 'ARM_Allende' and updated tracking file\n"
     ]
    },
    {
     "name": "stderr",
     "output_type": "stream",
     "text": [
      " 63%|██████▎   | 633/1000 [30:06<18:46,  3.07s/it]"
     ]
    },
    {
     "name": "stdout",
     "output_type": "stream",
     "text": [
      "Saved article: 'John_J._Herrera' and updated tracking file\n"
     ]
    },
    {
     "name": "stderr",
     "output_type": "stream",
     "text": [
      " 63%|██████▎   | 634/1000 [30:09<19:27,  3.19s/it]"
     ]
    },
    {
     "name": "stdout",
     "output_type": "stream",
     "text": [
      "Saved article: 'Island_Dwarfing' and updated tracking file\n"
     ]
    },
    {
     "name": "stderr",
     "output_type": "stream",
     "text": [
      " 64%|██████▎   | 635/1000 [30:13<20:36,  3.39s/it]"
     ]
    },
    {
     "name": "stdout",
     "output_type": "stream",
     "text": [
      "Saved article: 'Turbosteamer' and updated tracking file\n"
     ]
    },
    {
     "name": "stderr",
     "output_type": "stream",
     "text": [
      " 64%|██████▎   | 637/1000 [30:18<16:43,  2.76s/it]"
     ]
    },
    {
     "name": "stdout",
     "output_type": "stream",
     "text": [
      "DisambiguationError for 'Tityus': \"Tityus\" may refer to: \n",
      "Tityos\n",
      "Tityus (genus)\n",
      "The Punishment of Tityus (Michelangelo)\n",
      "Tityus (Titian)\n",
      "Tityos (Ribera)\n",
      "Suggestions: ['Tityos', 'Tityus (genus)', 'The Punishment of Tityus (Michelangelo)', 'Tityus (Titian)', 'Tityos (Ribera)']\n",
      "Saved article: '1947_Oil_Bowl' and updated tracking file\n"
     ]
    },
    {
     "name": "stderr",
     "output_type": "stream",
     "text": [
      " 64%|██████▍   | 638/1000 [30:21<17:47,  2.95s/it]"
     ]
    },
    {
     "name": "stdout",
     "output_type": "stream",
     "text": [
      "Saved article: 'NY_Route_68' and updated tracking file\n"
     ]
    },
    {
     "name": "stderr",
     "output_type": "stream",
     "text": [
      " 64%|██████▍   | 639/1000 [30:25<19:23,  3.22s/it]"
     ]
    },
    {
     "name": "stdout",
     "output_type": "stream",
     "text": [
      "Saved article: 'ERIM_(army_Sumerogram)' and updated tracking file\n"
     ]
    },
    {
     "name": "stderr",
     "output_type": "stream",
     "text": [
      " 64%|██████▍   | 641/1000 [30:29<15:09,  2.53s/it]"
     ]
    },
    {
     "name": "stdout",
     "output_type": "stream",
     "text": [
      "Error processing '%F0%9F%99%B7': 'fullurl'\n",
      "Saved article: 'Hewlett-Packard_FOCAL' and updated tracking file\n"
     ]
    },
    {
     "name": "stderr",
     "output_type": "stream",
     "text": [
      " 64%|██████▍   | 642/1000 [30:33<17:53,  3.00s/it]"
     ]
    },
    {
     "name": "stdout",
     "output_type": "stream",
     "text": [
      "Saved article: 'Battle_of_Orchomenus' and updated tracking file\n"
     ]
    },
    {
     "name": "stderr",
     "output_type": "stream",
     "text": [
      " 64%|██████▍   | 643/1000 [30:36<18:09,  3.05s/it]"
     ]
    },
    {
     "name": "stdout",
     "output_type": "stream",
     "text": [
      "Saved article: 'List_of_UK_by-elections_(1900-1918)' and updated tracking file\n"
     ]
    },
    {
     "name": "stderr",
     "output_type": "stream",
     "text": [
      " 64%|██████▍   | 644/1000 [30:40<19:30,  3.29s/it]"
     ]
    },
    {
     "name": "stdout",
     "output_type": "stream",
     "text": [
      "Saved article: 'Ever_Jair_Palma_Olivares' and updated tracking file\n"
     ]
    },
    {
     "name": "stderr",
     "output_type": "stream",
     "text": [
      " 65%|██████▍   | 646/1000 [30:45<15:20,  2.60s/it]"
     ]
    },
    {
     "name": "stdout",
     "output_type": "stream",
     "text": [
      "Error processing '%F0%9F%99%BC': 'fullurl'\n"
     ]
    },
    {
     "name": "stderr",
     "output_type": "stream",
     "text": [
      " 65%|██████▍   | 647/1000 [30:45<11:40,  1.98s/it]"
     ]
    },
    {
     "name": "stdout",
     "output_type": "stream",
     "text": [
      "Error processing 'Donnell_%C3%93_Con_Ceanainn': 'fullurl'\n",
      "Saved article: 'Tingoora,_Queensland' and updated tracking file\n"
     ]
    },
    {
     "name": "stderr",
     "output_type": "stream",
     "text": [
      " 65%|██████▍   | 649/1000 [30:49<11:16,  1.93s/it]"
     ]
    },
    {
     "name": "stdout",
     "output_type": "stream",
     "text": [
      "Error processing '%F0%9F%9B%91': 'fullurl'\n",
      "Saved article: 'Tamias_durangae' and updated tracking file\n"
     ]
    },
    {
     "name": "stderr",
     "output_type": "stream",
     "text": [
      " 65%|██████▌   | 650/1000 [30:53<14:27,  2.48s/it]"
     ]
    },
    {
     "name": "stdout",
     "output_type": "stream",
     "text": [
      "Saved article: 'Hitler_a_film_from_germany' and updated tracking file\n"
     ]
    },
    {
     "name": "stderr",
     "output_type": "stream",
     "text": [
      " 65%|██████▌   | 651/1000 [30:57<16:37,  2.86s/it]"
     ]
    },
    {
     "name": "stdout",
     "output_type": "stream",
     "text": [
      "Saved article: 'Universalist_Unitarian_Church_of_Riverside' and updated tracking file\n"
     ]
    },
    {
     "name": "stderr",
     "output_type": "stream",
     "text": [
      " 65%|██████▌   | 652/1000 [31:00<17:07,  2.95s/it]"
     ]
    },
    {
     "name": "stdout",
     "output_type": "stream",
     "text": [
      "Saved article: 'Thughur' and updated tracking file\n"
     ]
    },
    {
     "name": "stderr",
     "output_type": "stream",
     "text": [
      " 65%|██████▌   | 654/1000 [31:05<14:00,  2.43s/it]"
     ]
    },
    {
     "name": "stdout",
     "output_type": "stream",
     "text": [
      "Error processing 'Siggi_Sigurj%C3%B3ns': 'fullurl'\n",
      "Saved article: 'Fyfe_Ewing' and updated tracking file\n"
     ]
    },
    {
     "name": "stderr",
     "output_type": "stream",
     "text": [
      " 66%|██████▌   | 655/1000 [31:08<15:15,  2.65s/it]"
     ]
    },
    {
     "name": "stdout",
     "output_type": "stream",
     "text": [
      "Saved article: 'Whose_War_Is_It' and updated tracking file\n"
     ]
    },
    {
     "name": "stderr",
     "output_type": "stream",
     "text": [
      " 66%|██████▌   | 656/1000 [31:12<17:21,  3.03s/it]"
     ]
    },
    {
     "name": "stdout",
     "output_type": "stream",
     "text": [
      "Saved article: 'Karen_Maruyama' and updated tracking file\n"
     ]
    },
    {
     "name": "stderr",
     "output_type": "stream",
     "text": [
      " 66%|██████▌   | 658/1000 [31:15<13:11,  2.32s/it]"
     ]
    },
    {
     "name": "stdout",
     "output_type": "stream",
     "text": [
      "Error processing 'Fead%C3%B3g': 'fullurl'\n",
      "Saved article: 'Gheorghe_Mihail' and updated tracking file\n"
     ]
    },
    {
     "name": "stderr",
     "output_type": "stream",
     "text": [
      " 66%|██████▌   | 660/1000 [31:19<11:10,  1.97s/it]"
     ]
    },
    {
     "name": "stdout",
     "output_type": "stream",
     "text": [
      "Error processing '%F0%9F%9B%84': 'fullurl'\n",
      "Saved article: 'Bishopric_of_Aachen' and updated tracking file\n"
     ]
    },
    {
     "name": "stderr",
     "output_type": "stream",
     "text": [
      " 66%|██████▌   | 661/1000 [31:23<14:08,  2.50s/it]"
     ]
    },
    {
     "name": "stdout",
     "output_type": "stream",
     "text": [
      "Saved article: 'Sunrise_Avenue_discography' and updated tracking file\n"
     ]
    },
    {
     "name": "stderr",
     "output_type": "stream",
     "text": [
      " 66%|██████▌   | 662/1000 [31:26<15:19,  2.72s/it]"
     ]
    },
    {
     "name": "stdout",
     "output_type": "stream",
     "text": [
      "Saved article: 'Fu_Nai' and updated tracking file\n"
     ]
    },
    {
     "name": "stderr",
     "output_type": "stream",
     "text": [
      " 66%|██████▋   | 663/1000 [31:29<16:05,  2.87s/it]"
     ]
    },
    {
     "name": "stdout",
     "output_type": "stream",
     "text": [
      "Saved article: 'Primetime_Emmy_Award_for_Outstanding_Actor_in_a_Short_Form_Comedy_or_Drama_Series' and updated tracking file\n"
     ]
    },
    {
     "name": "stderr",
     "output_type": "stream",
     "text": [
      " 66%|██████▋   | 664/1000 [31:33<16:36,  2.97s/it]"
     ]
    },
    {
     "name": "stdout",
     "output_type": "stream",
     "text": [
      "Saved article: 'Future_Soundtrack_For_America' and updated tracking file\n"
     ]
    },
    {
     "name": "stderr",
     "output_type": "stream",
     "text": [
      " 66%|██████▋   | 665/1000 [31:36<18:05,  3.24s/it]"
     ]
    },
    {
     "name": "stdout",
     "output_type": "stream",
     "text": [
      "Saved article: 'Applied_Technology' and updated tracking file\n"
     ]
    },
    {
     "name": "stderr",
     "output_type": "stream",
     "text": [
      " 67%|██████▋   | 666/1000 [31:40<17:57,  3.22s/it]"
     ]
    },
    {
     "name": "stdout",
     "output_type": "stream",
     "text": [
      "Saved article: 'West_Springfield_High_School_(Virginia)' and updated tracking file\n"
     ]
    },
    {
     "name": "stderr",
     "output_type": "stream",
     "text": [
      " 67%|██████▋   | 667/1000 [31:43<17:54,  3.23s/it]"
     ]
    },
    {
     "name": "stdout",
     "output_type": "stream",
     "text": [
      "Saved article: 'Amalia_von_helvig' and updated tracking file\n"
     ]
    },
    {
     "name": "stderr",
     "output_type": "stream",
     "text": [
      " 67%|██████▋   | 669/1000 [31:47<13:59,  2.54s/it]"
     ]
    },
    {
     "name": "stdout",
     "output_type": "stream",
     "text": [
      "Error processing '%F0%9F%9B%B7': 'fullurl'\n"
     ]
    },
    {
     "name": "stderr",
     "output_type": "stream",
     "text": [
      " 67%|██████▋   | 670/1000 [31:48<10:41,  1.94s/it]"
     ]
    },
    {
     "name": "stdout",
     "output_type": "stream",
     "text": [
      "Error processing '%F0%9F%9D%8C': 'fullurl'\n",
      "Saved article: '14th_Annual_Anugerah_Musik_Indonesia' and updated tracking file\n"
     ]
    },
    {
     "name": "stderr",
     "output_type": "stream",
     "text": [
      " 67%|██████▋   | 671/1000 [31:51<12:42,  2.32s/it]"
     ]
    },
    {
     "name": "stdout",
     "output_type": "stream",
     "text": [
      "Saved article: 'Liquid_petroleum_gas' and updated tracking file\n"
     ]
    },
    {
     "name": "stderr",
     "output_type": "stream",
     "text": [
      " 67%|██████▋   | 672/1000 [31:55<15:15,  2.79s/it]"
     ]
    },
    {
     "name": "stdout",
     "output_type": "stream",
     "text": [
      "Saved article: 'Mount_Huxley_(Antarctica)' and updated tracking file\n"
     ]
    },
    {
     "name": "stderr",
     "output_type": "stream",
     "text": [
      " 67%|██████▋   | 674/1000 [32:00<13:39,  2.51s/it]"
     ]
    },
    {
     "name": "stdout",
     "output_type": "stream",
     "text": [
      "Error processing '%F0%9F%99%A4': 'fullurl'\n"
     ]
    },
    {
     "name": "stderr",
     "output_type": "stream",
     "text": [
      " 68%|██████▊   | 675/1000 [32:00<10:38,  1.96s/it]"
     ]
    },
    {
     "name": "stdout",
     "output_type": "stream",
     "text": [
      "Error processing 'Torrey%27s_Topical_Textbook': 'fullurl'\n",
      "Saved article: 'Virtual_Pilot_3D' and updated tracking file\n"
     ]
    },
    {
     "name": "stderr",
     "output_type": "stream",
     "text": [
      " 68%|██████▊   | 676/1000 [32:04<13:47,  2.56s/it]"
     ]
    },
    {
     "name": "stdout",
     "output_type": "stream",
     "text": [
      "Saved article: 'Laverne_Torgeson' and updated tracking file\n"
     ]
    },
    {
     "name": "stderr",
     "output_type": "stream",
     "text": [
      " 68%|██████▊   | 678/1000 [32:09<12:13,  2.28s/it]"
     ]
    },
    {
     "name": "stdout",
     "output_type": "stream",
     "text": [
      "Error processing '%F0%9F%9A%8D': 'fullurl'\n"
     ]
    },
    {
     "name": "stderr",
     "output_type": "stream",
     "text": [
      " 68%|██████▊   | 679/1000 [32:10<09:26,  1.76s/it]"
     ]
    },
    {
     "name": "stdout",
     "output_type": "stream",
     "text": [
      "Error processing '%F0%9F%9C%B0': 'fullurl'\n",
      "Saved article: 'Moston_station' and updated tracking file\n"
     ]
    },
    {
     "name": "stderr",
     "output_type": "stream",
     "text": [
      " 68%|██████▊   | 681/1000 [32:14<09:43,  1.83s/it]"
     ]
    },
    {
     "name": "stdout",
     "output_type": "stream",
     "text": [
      "Error processing '%F0%9F%A7%A3': 'fullurl'\n",
      "Saved article: 'Muswangen_(Lucerne)' and updated tracking file\n"
     ]
    },
    {
     "name": "stderr",
     "output_type": "stream",
     "text": [
      " 68%|██████▊   | 682/1000 [32:18<12:48,  2.42s/it]"
     ]
    },
    {
     "name": "stdout",
     "output_type": "stream",
     "text": [
      "Saved article: 'Dora_Bloch' and updated tracking file\n"
     ]
    },
    {
     "name": "stderr",
     "output_type": "stream",
     "text": [
      " 68%|██████▊   | 683/1000 [32:21<14:54,  2.82s/it]"
     ]
    },
    {
     "name": "stdout",
     "output_type": "stream",
     "text": [
      "Saved article: 'Scottish_Council_for_Voluntary_Organisations' and updated tracking file\n"
     ]
    },
    {
     "name": "stderr",
     "output_type": "stream",
     "text": [
      " 68%|██████▊   | 684/1000 [32:25<15:47,  3.00s/it]"
     ]
    },
    {
     "name": "stdout",
     "output_type": "stream",
     "text": [
      "Saved article: 'Newspaper_supplement' and updated tracking file\n"
     ]
    },
    {
     "name": "stderr",
     "output_type": "stream",
     "text": [
      " 69%|██████▊   | 686/1000 [32:29<12:44,  2.44s/it]"
     ]
    },
    {
     "name": "stdout",
     "output_type": "stream",
     "text": [
      "Error processing '%F0%9F%A6%85': 'fullurl'\n",
      "Saved article: 'Fang_Wenping' and updated tracking file\n"
     ]
    },
    {
     "name": "stderr",
     "output_type": "stream",
     "text": [
      " 69%|██████▊   | 687/1000 [32:33<14:12,  2.72s/it]"
     ]
    },
    {
     "name": "stdout",
     "output_type": "stream",
     "text": [
      "Saved article: 'Eleazarr' and updated tracking file\n"
     ]
    },
    {
     "name": "stderr",
     "output_type": "stream",
     "text": [
      " 69%|██████▉   | 689/1000 [32:38<13:06,  2.53s/it]"
     ]
    },
    {
     "name": "stdout",
     "output_type": "stream",
     "text": [
      "Rejecting 'Dongshi,_Fujian' - insufficient sentences (less than 3 periods)\n",
      "Saved article: 'Burning_Buildings' and updated tracking file\n"
     ]
    },
    {
     "name": "stderr",
     "output_type": "stream",
     "text": [
      " 69%|██████▉   | 691/1000 [32:42<10:48,  2.10s/it]"
     ]
    },
    {
     "name": "stdout",
     "output_type": "stream",
     "text": [
      "Error processing 'Heart%27s_Delight,_Swale': 'fullurl'\n"
     ]
    },
    {
     "name": "stderr",
     "output_type": "stream",
     "text": [
      " 69%|██████▉   | 692/1000 [32:43<10:14,  2.00s/it]"
     ]
    },
    {
     "name": "stdout",
     "output_type": "stream",
     "text": [
      "Rejecting 'Net-veined_Dubautia' - insufficient sentences (less than 3 periods)\n",
      "Saved article: 'Shining_Light' and updated tracking file\n"
     ]
    },
    {
     "name": "stderr",
     "output_type": "stream",
     "text": [
      " 69%|██████▉   | 693/1000 [32:47<12:02,  2.35s/it]"
     ]
    },
    {
     "name": "stdout",
     "output_type": "stream",
     "text": [
      "Saved article: 'Church_of_St_Stephen,_Charlton_Musgrove' and updated tracking file\n"
     ]
    },
    {
     "name": "stderr",
     "output_type": "stream",
     "text": [
      " 69%|██████▉   | 694/1000 [32:50<13:17,  2.60s/it]"
     ]
    },
    {
     "name": "stdout",
     "output_type": "stream",
     "text": [
      "Saved article: 'Phyllocnistis_hyperpersea' and updated tracking file\n"
     ]
    },
    {
     "name": "stderr",
     "output_type": "stream",
     "text": [
      " 70%|██████▉   | 695/1000 [32:53<14:04,  2.77s/it]"
     ]
    },
    {
     "name": "stdout",
     "output_type": "stream",
     "text": [
      "Saved article: 'Bmi_mainline' and updated tracking file\n"
     ]
    },
    {
     "name": "stderr",
     "output_type": "stream",
     "text": [
      " 70%|██████▉   | 696/1000 [32:57<15:43,  3.10s/it]"
     ]
    },
    {
     "name": "stdout",
     "output_type": "stream",
     "text": [
      "Saved article: 'National_Regulator_for_Compulsory_Specifications' and updated tracking file\n"
     ]
    },
    {
     "name": "stderr",
     "output_type": "stream",
     "text": [
      " 70%|██████▉   | 697/1000 [33:01<16:40,  3.30s/it]"
     ]
    },
    {
     "name": "stdout",
     "output_type": "stream",
     "text": [
      "Saved article: 'Palma_FS' and updated tracking file\n"
     ]
    },
    {
     "name": "stderr",
     "output_type": "stream",
     "text": [
      " 70%|██████▉   | 698/1000 [33:04<17:18,  3.44s/it]"
     ]
    },
    {
     "name": "stdout",
     "output_type": "stream",
     "text": [
      "Saved article: 'Alexander_Rollett' and updated tracking file\n"
     ]
    },
    {
     "name": "stderr",
     "output_type": "stream",
     "text": [
      " 70%|███████   | 700/1000 [33:09<13:59,  2.80s/it]"
     ]
    },
    {
     "name": "stdout",
     "output_type": "stream",
     "text": [
      "DisambiguationError for 'Requa': \"Requa\" may refer to: \n",
      "Requa (grape)\n",
      "John Requa\n",
      "Mark L. Requa\n",
      "Richard Requa\n",
      "Sarah Mower Requa\n",
      "Requa, California\n",
      "Requa, Wisconsin\n",
      "Suggestions: ['Requa (grape)', 'John Requa', 'Mark L. Requa', 'Richard Requa', 'Sarah Mower Requa']\n",
      "Saved article: 'Derek_Savage_(poet)' and updated tracking file\n"
     ]
    },
    {
     "name": "stderr",
     "output_type": "stream",
     "text": [
      " 70%|███████   | 701/1000 [33:12<14:30,  2.91s/it]"
     ]
    },
    {
     "name": "stdout",
     "output_type": "stream",
     "text": [
      "Saved article: 'Ahmed_Hasan_Imran' and updated tracking file\n"
     ]
    },
    {
     "name": "stderr",
     "output_type": "stream",
     "text": [
      " 70%|███████   | 703/1000 [33:17<12:41,  2.57s/it]"
     ]
    },
    {
     "name": "stdout",
     "output_type": "stream",
     "text": [
      "Rejecting 'Heideblick' - insufficient sentences (less than 3 periods)\n",
      "Saved article: 'Wallman_(surname)' and updated tracking file\n"
     ]
    },
    {
     "name": "stderr",
     "output_type": "stream",
     "text": [
      " 70%|███████   | 704/1000 [33:21<14:25,  2.92s/it]"
     ]
    },
    {
     "name": "stdout",
     "output_type": "stream",
     "text": [
      "Saved article: 'Levick_Mill,_Missouri' and updated tracking file\n"
     ]
    },
    {
     "name": "stderr",
     "output_type": "stream",
     "text": [
      " 70%|███████   | 705/1000 [33:24<14:43,  3.00s/it]"
     ]
    },
    {
     "name": "stdout",
     "output_type": "stream",
     "text": [
      "Saved article: 'Gardeniola' and updated tracking file\n"
     ]
    },
    {
     "name": "stderr",
     "output_type": "stream",
     "text": [
      " 71%|███████   | 706/1000 [33:28<15:48,  3.23s/it]"
     ]
    },
    {
     "name": "stdout",
     "output_type": "stream",
     "text": [
      "Saved article: 'Braille_pattern_dots-1268' and updated tracking file\n"
     ]
    },
    {
     "name": "stderr",
     "output_type": "stream",
     "text": [
      " 71%|███████   | 707/1000 [33:33<19:07,  3.92s/it]"
     ]
    },
    {
     "name": "stdout",
     "output_type": "stream",
     "text": [
      "Saved article: 'Eugene,_the_Anal_Retentive_Chef' and updated tracking file\n"
     ]
    },
    {
     "name": "stderr",
     "output_type": "stream",
     "text": [
      " 71%|███████   | 709/1000 [33:39<15:47,  3.26s/it]"
     ]
    },
    {
     "name": "stdout",
     "output_type": "stream",
     "text": [
      "Rejecting 'Faustia' - insufficient sentences (less than 3 periods)\n",
      "Saved article: 'Emile_Mota' and updated tracking file\n"
     ]
    },
    {
     "name": "stderr",
     "output_type": "stream",
     "text": [
      " 71%|███████   | 710/1000 [33:42<15:39,  3.24s/it]"
     ]
    },
    {
     "name": "stdout",
     "output_type": "stream",
     "text": [
      "Saved article: 'Il_Tirreno' and updated tracking file\n"
     ]
    },
    {
     "name": "stderr",
     "output_type": "stream",
     "text": [
      " 71%|███████   | 711/1000 [33:46<15:54,  3.30s/it]"
     ]
    },
    {
     "name": "stdout",
     "output_type": "stream",
     "text": [
      "Saved article: 'Achibueno_(river)' and updated tracking file\n"
     ]
    },
    {
     "name": "stderr",
     "output_type": "stream",
     "text": [
      " 71%|███████   | 712/1000 [33:49<16:34,  3.45s/it]"
     ]
    },
    {
     "name": "stdout",
     "output_type": "stream",
     "text": [
      "Saved article: '2006_EurAsia_Cricket_Series' and updated tracking file\n"
     ]
    },
    {
     "name": "stderr",
     "output_type": "stream",
     "text": [
      " 71%|███████▏  | 713/1000 [33:53<17:05,  3.57s/it]"
     ]
    },
    {
     "name": "stdout",
     "output_type": "stream",
     "text": [
      "Saved article: '2007_Ole_Miss_Rebels_football_season' and updated tracking file\n"
     ]
    },
    {
     "name": "stderr",
     "output_type": "stream",
     "text": [
      " 71%|███████▏  | 714/1000 [33:57<17:30,  3.67s/it]"
     ]
    },
    {
     "name": "stdout",
     "output_type": "stream",
     "text": [
      "Saved article: 'PWR3' and updated tracking file\n"
     ]
    },
    {
     "name": "stderr",
     "output_type": "stream",
     "text": [
      " 72%|███████▏  | 716/1000 [34:03<15:28,  3.27s/it]"
     ]
    },
    {
     "name": "stdout",
     "output_type": "stream",
     "text": [
      "DisambiguationError for 'Domino_(song)': \"Domino (disambiguation)\" may refer to: \n",
      "Domino, Texas\n",
      "Domino, Newfoundland and Labrador\n",
      "Dominó\n",
      "Domino (producer)\n",
      "Cliff Compton\n",
      "Domino (artist)\n",
      "Domino (rapper)\n",
      "Alessandra Mirka Gatti\n",
      "Sofia Coppola\n",
      "Anna Domino\n",
      "Fats Domino\n",
      "Domino Harvey\n",
      "Domino Kirke\n",
      "Domino (horse)\n",
      "Threespot dascyllus\n",
      "Domino (character)\n",
      "102 Dalmatians\n",
      "Team Knight Rider\n",
      "Domino Vitali\n",
      "Domino (1943 film)\n",
      "Domino (1988 film)\n",
      "Domino (2005 film)\n",
      "Domino (2019 film)\n",
      "Domino (TV series)\n",
      "Domino (card game)\n",
      "Domino Day\n",
      "Dominos (video game)\n",
      "Billy Ward and the Dominoes\n",
      "Derek and the Dominos\n",
      "Domino Recording Company\n",
      "Domino Records (1916)\n",
      "Domino Records (1924)\n",
      "Domino Records (1957)\n",
      "Domino (Diners album)\n",
      "Domino (Domino album)\n",
      "Domino (Rahsaan Roland Kirk album)\n",
      "Domino (Squeeze album)\n",
      "\"Domino\" (1950 song)\n",
      "\"Domino\" (Van Morrison song)\n",
      "\"Domino\" (Genesis song)\n",
      "\"Domino\" (Kiss song)\n",
      "\"Domino\" (Jessie J song)\n",
      "\"Domino\" (Saara Aalto song)\n",
      "\"Dominoes\" (Robbie Nevil song)\n",
      "\"Dominos\" (song)\n",
      "Wallop\n",
      "Name Is 4Minute\n",
      "The Storm\n",
      "9801\n",
      "Noeasy\n",
      "Face the Sun\n",
      "Checkmate\n",
      "Barrett\n",
      "Egypt Station\n",
      "Jess Wright\n",
      "Mumzy Stranger\n",
      "Solar Power\n",
      "Breakin' Point\n",
      "Yumeno Garden\n",
      "Domino (magazine)\n",
      "Bali Rai\n",
      "Dominó (Chile)\n",
      "Domino Foods\n",
      "Domino Printing Sciences\n",
      "Domino's Pizza\n",
      "Domino's Pizza Enterprises\n",
      "Domino's Pizza Group\n",
      "Domino's Pizza Israel\n",
      "Domino (cookie)\n",
      "Domino (mathematics)\n",
      "Domino computer\n",
      "Domino logic\n",
      "Domino Tiles\n",
      "HCL Notes\n",
      "Daihatsu Domino\n",
      "Integra Signum\n",
      "Dennis Domino\n",
      "Benedicamus Domino\n",
      "Home and National Rally\n",
      "Domino effect\n",
      "Domino joiner\n",
      "Domino mask\n",
      "Domino theory\n",
      "Domino toppling\n",
      "LP Domino\n",
      "Dominus (disambiguation)\n",
      "Suggestions: ['Domino, Texas', 'Domino, Newfoundland and Labrador', 'Dominó', 'Domino (producer)', 'Cliff Compton']\n"
     ]
    },
    {
     "name": "stderr",
     "output_type": "stream",
     "text": [
      " 72%|███████▏  | 717/1000 [34:04<11:35,  2.46s/it]"
     ]
    },
    {
     "name": "stdout",
     "output_type": "stream",
     "text": [
      "PageError: 'Tolombeh-ye_Seyyed_Reza_Alavi' does not match any pages. Try another title!\n",
      "Saved article: 'Elijah_Blue_Allman' and updated tracking file\n"
     ]
    },
    {
     "name": "stderr",
     "output_type": "stream",
     "text": [
      " 72%|███████▏  | 719/1000 [34:08<10:25,  2.23s/it]"
     ]
    },
    {
     "name": "stdout",
     "output_type": "stream",
     "text": [
      "Rejecting 'Jachowo' - insufficient sentences (less than 3 periods)\n",
      "Saved article: 'George_Edward_Hand' and updated tracking file\n"
     ]
    },
    {
     "name": "stderr",
     "output_type": "stream",
     "text": [
      " 72%|███████▏  | 720/1000 [34:11<11:43,  2.51s/it]"
     ]
    },
    {
     "name": "stdout",
     "output_type": "stream",
     "text": [
      "Saved article: 'Conference_phone' and updated tracking file\n"
     ]
    },
    {
     "name": "stderr",
     "output_type": "stream",
     "text": [
      " 72%|███████▏  | 722/1000 [34:16<11:00,  2.38s/it]"
     ]
    },
    {
     "name": "stdout",
     "output_type": "stream",
     "text": [
      "Rejecting 'Mahmudabad-e_Tabat_Bayi' - insufficient sentences (less than 3 periods)\n",
      "Saved article: 'Munster_Cricket_Union' and updated tracking file\n"
     ]
    },
    {
     "name": "stderr",
     "output_type": "stream",
     "text": [
      " 72%|███████▏  | 723/1000 [34:19<12:06,  2.62s/it]"
     ]
    },
    {
     "name": "stdout",
     "output_type": "stream",
     "text": [
      "Saved article: 'Pawwa' and updated tracking file\n"
     ]
    },
    {
     "name": "stderr",
     "output_type": "stream",
     "text": [
      " 72%|███████▏  | 724/1000 [34:23<13:59,  3.04s/it]"
     ]
    },
    {
     "name": "stdout",
     "output_type": "stream",
     "text": [
      "Saved article: 'Blackberry_Township,_Minnesota' and updated tracking file\n"
     ]
    },
    {
     "name": "stderr",
     "output_type": "stream",
     "text": [
      " 73%|███████▎  | 726/1000 [34:28<11:24,  2.50s/it]"
     ]
    },
    {
     "name": "stdout",
     "output_type": "stream",
     "text": [
      "Error processing '%F0%9F%9A%91': 'fullurl'\n"
     ]
    },
    {
     "name": "stderr",
     "output_type": "stream",
     "text": [
      " 73%|███████▎  | 727/1000 [34:29<08:42,  1.91s/it]"
     ]
    },
    {
     "name": "stdout",
     "output_type": "stream",
     "text": [
      "Error processing '%F0%9F%A7%91': 'fullurl'\n",
      "Saved article: 'Carlos_Nunez_Cortes' and updated tracking file\n"
     ]
    },
    {
     "name": "stderr",
     "output_type": "stream",
     "text": [
      " 73%|███████▎  | 729/1000 [34:33<08:33,  1.90s/it]"
     ]
    },
    {
     "name": "stdout",
     "output_type": "stream",
     "text": [
      "Error processing 'Kenzer_%26_Company': 'fullurl'\n",
      "Saved article: 'The_Mouse-merized_Cat' and updated tracking file\n"
     ]
    },
    {
     "name": "stderr",
     "output_type": "stream",
     "text": [
      " 73%|███████▎  | 730/1000 [34:37<11:47,  2.62s/it]"
     ]
    },
    {
     "name": "stdout",
     "output_type": "stream",
     "text": [
      "Saved article: 'Academic_entrepreneurship' and updated tracking file\n"
     ]
    },
    {
     "name": "stderr",
     "output_type": "stream",
     "text": [
      " 73%|███████▎  | 731/1000 [34:41<13:23,  2.99s/it]"
     ]
    },
    {
     "name": "stdout",
     "output_type": "stream",
     "text": [
      "Saved article: 'All_Stars_(1997_film)' and updated tracking file\n"
     ]
    },
    {
     "name": "stderr",
     "output_type": "stream",
     "text": [
      " 73%|███████▎  | 733/1000 [34:45<10:15,  2.30s/it]"
     ]
    },
    {
     "name": "stdout",
     "output_type": "stream",
     "text": [
      "Error processing '%F0%9F%A7%A5': 'fullurl'\n",
      "Saved article: 'Rick_Brandenburg' and updated tracking file\n"
     ]
    },
    {
     "name": "stderr",
     "output_type": "stream",
     "text": [
      " 73%|███████▎  | 734/1000 [34:48<11:21,  2.56s/it]"
     ]
    },
    {
     "name": "stdout",
     "output_type": "stream",
     "text": [
      "Saved article: 'Chandraspalle' and updated tracking file\n"
     ]
    },
    {
     "name": "stderr",
     "output_type": "stream",
     "text": [
      " 74%|███████▎  | 735/1000 [34:51<12:06,  2.74s/it]"
     ]
    },
    {
     "name": "stdout",
     "output_type": "stream",
     "text": [
      "Saved article: 'Guadiano-class_destroyer' and updated tracking file\n"
     ]
    },
    {
     "name": "stderr",
     "output_type": "stream",
     "text": [
      " 74%|███████▎  | 736/1000 [34:55<13:30,  3.07s/it]"
     ]
    },
    {
     "name": "stdout",
     "output_type": "stream",
     "text": [
      "Saved article: 'President_McKinley_Taking_the_Oath' and updated tracking file\n"
     ]
    },
    {
     "name": "stderr",
     "output_type": "stream",
     "text": [
      " 74%|███████▎  | 737/1000 [34:59<15:12,  3.47s/it]"
     ]
    },
    {
     "name": "stdout",
     "output_type": "stream",
     "text": [
      "Saved article: '2016_Arnold_Palmer_Cup' and updated tracking file\n"
     ]
    },
    {
     "name": "stderr",
     "output_type": "stream",
     "text": [
      " 74%|███████▍  | 738/1000 [35:03<14:47,  3.39s/it]"
     ]
    },
    {
     "name": "stdout",
     "output_type": "stream",
     "text": [
      "Saved article: 'Direk' and updated tracking file\n"
     ]
    },
    {
     "name": "stderr",
     "output_type": "stream",
     "text": [
      " 74%|███████▍  | 740/1000 [35:08<12:53,  2.98s/it]"
     ]
    },
    {
     "name": "stdout",
     "output_type": "stream",
     "text": [
      "Rejecting 'Poncatage_language' - insufficient sentences (less than 3 periods)\n",
      "Saved article: 'Eric_Paul' and updated tracking file\n"
     ]
    },
    {
     "name": "stderr",
     "output_type": "stream",
     "text": [
      " 74%|███████▍  | 741/1000 [35:11<13:18,  3.08s/it]"
     ]
    },
    {
     "name": "stdout",
     "output_type": "stream",
     "text": [
      "Saved article: 'Carlyon_Bay' and updated tracking file\n"
     ]
    },
    {
     "name": "stderr",
     "output_type": "stream",
     "text": [
      " 74%|███████▍  | 742/1000 [35:15<13:21,  3.11s/it]"
     ]
    },
    {
     "name": "stdout",
     "output_type": "stream",
     "text": [
      "Saved article: 'Gulf_grouper' and updated tracking file\n"
     ]
    },
    {
     "name": "stderr",
     "output_type": "stream",
     "text": [
      " 74%|███████▍  | 743/1000 [35:18<13:29,  3.15s/it]"
     ]
    },
    {
     "name": "stdout",
     "output_type": "stream",
     "text": [
      "Saved article: 'Simon_Catterall' and updated tracking file\n"
     ]
    },
    {
     "name": "stderr",
     "output_type": "stream",
     "text": [
      " 74%|███████▍  | 744/1000 [35:21<13:28,  3.16s/it]"
     ]
    },
    {
     "name": "stdout",
     "output_type": "stream",
     "text": [
      "Saved article: 'Esperite' and updated tracking file\n"
     ]
    },
    {
     "name": "stderr",
     "output_type": "stream",
     "text": [
      " 75%|███████▍  | 746/1000 [35:25<10:04,  2.38s/it]"
     ]
    },
    {
     "name": "stdout",
     "output_type": "stream",
     "text": [
      "Error processing 'Reference_type_(C%2B%2B)': 'fullurl'\n",
      "Saved article: 'Bari_High_School,Bari' and updated tracking file\n"
     ]
    },
    {
     "name": "stderr",
     "output_type": "stream",
     "text": [
      " 75%|███████▍  | 747/1000 [35:28<11:47,  2.80s/it]"
     ]
    },
    {
     "name": "stdout",
     "output_type": "stream",
     "text": [
      "Saved article: 'Daryn_Hinch' and updated tracking file\n"
     ]
    },
    {
     "name": "stderr",
     "output_type": "stream",
     "text": [
      " 75%|███████▍  | 748/1000 [35:32<12:59,  3.09s/it]"
     ]
    },
    {
     "name": "stdout",
     "output_type": "stream",
     "text": [
      "Saved article: 'UNO_Extreme' and updated tracking file\n"
     ]
    },
    {
     "name": "stderr",
     "output_type": "stream",
     "text": [
      " 75%|███████▍  | 749/1000 [35:36<13:54,  3.33s/it]"
     ]
    },
    {
     "name": "stdout",
     "output_type": "stream",
     "text": [
      "Saved article: 'New_Englander_(cocktail)' and updated tracking file\n"
     ]
    },
    {
     "name": "stderr",
     "output_type": "stream",
     "text": [
      " 75%|███████▌  | 750/1000 [35:39<13:39,  3.28s/it]"
     ]
    },
    {
     "name": "stdout",
     "output_type": "stream",
     "text": [
      "Saved article: 'Erase_in_Display_(ANSI)' and updated tracking file\n"
     ]
    },
    {
     "name": "stderr",
     "output_type": "stream",
     "text": [
      " 75%|███████▌  | 751/1000 [35:43<14:18,  3.45s/it]"
     ]
    },
    {
     "name": "stdout",
     "output_type": "stream",
     "text": [
      "Saved article: 'Historical_cost_accounting' and updated tracking file\n"
     ]
    },
    {
     "name": "stderr",
     "output_type": "stream",
     "text": [
      " 75%|███████▌  | 752/1000 [35:47<14:41,  3.55s/it]"
     ]
    },
    {
     "name": "stdout",
     "output_type": "stream",
     "text": [
      "Saved article: 'THIS_IS_SPARTA' and updated tracking file\n"
     ]
    },
    {
     "name": "stderr",
     "output_type": "stream",
     "text": [
      " 75%|███████▌  | 754/1000 [35:51<11:09,  2.72s/it]"
     ]
    },
    {
     "name": "stdout",
     "output_type": "stream",
     "text": [
      "Error processing '%F0%9F%98%AF': 'fullurl'\n"
     ]
    },
    {
     "name": "stderr",
     "output_type": "stream",
     "text": [
      " 76%|███████▌  | 755/1000 [35:53<10:06,  2.48s/it]"
     ]
    },
    {
     "name": "stdout",
     "output_type": "stream",
     "text": [
      "DisambiguationError for 'Hotham,_John': \"John Hotham\" may refer to: \n",
      "Sir John Hotham, 1st Baronet\n",
      "John Hotham (bishop)\n",
      "John Hotham, the younger\n",
      "John Hotham (14th century MP)\n",
      "John de Hotham\n",
      "John Hotham (died c.1609)\n",
      "Sir John Hotham, 2nd Baronet\n",
      "Sir John Hotham, 3rd Baronet\n",
      "Sir John Hotham, 9th Baronet\n",
      "Suggestions: ['Sir John Hotham, 1st Baronet', 'John Hotham (bishop)', 'John Hotham, the younger', 'John Hotham (14th century MP)', 'John de Hotham']\n",
      "Saved article: 'Japanese_Empress' and updated tracking file\n"
     ]
    },
    {
     "name": "stderr",
     "output_type": "stream",
     "text": [
      " 76%|███████▌  | 756/1000 [35:57<11:48,  2.91s/it]"
     ]
    },
    {
     "name": "stdout",
     "output_type": "stream",
     "text": [
      "Saved article: 'Kangnido' and updated tracking file\n"
     ]
    },
    {
     "name": "stderr",
     "output_type": "stream",
     "text": [
      " 76%|███████▌  | 758/1000 [36:02<09:40,  2.40s/it]"
     ]
    },
    {
     "name": "stdout",
     "output_type": "stream",
     "text": [
      "Error processing '%F0%9F%98%87': 'fullurl'\n"
     ]
    },
    {
     "name": "stderr",
     "output_type": "stream",
     "text": [
      " 76%|███████▌  | 759/1000 [36:03<08:22,  2.09s/it]"
     ]
    },
    {
     "name": "stdout",
     "output_type": "stream",
     "text": [
      "DisambiguationError for 'Leesburg_Historic_District': \"Leesburg_Historic_District\" may refer to: \n",
      "Leesburg (Salmon, Idaho)\n",
      "Leesburg Historic District (Leesburg, Indiana)\n",
      "Leesburg Historic District (Leesburg, Virginia)\n",
      "Leesburg (disambiguation)\n",
      "Suggestions: ['Leesburg (Salmon, Idaho)', 'Leesburg Historic District (Leesburg, Indiana)', 'Leesburg Historic District (Leesburg, Virginia)', 'Leesburg (disambiguation)']\n"
     ]
    },
    {
     "name": "stderr",
     "output_type": "stream",
     "text": [
      " 76%|███████▌  | 760/1000 [36:04<07:26,  1.86s/it]"
     ]
    },
    {
     "name": "stdout",
     "output_type": "stream",
     "text": [
      "DisambiguationError for 'Sudis': \"Sudis\" may refer to: \n",
      "Sudis (fish)\n",
      "Sudis (stake)\n",
      "Suggestions: ['Sudis (fish)', 'Sudis (stake)']\n",
      "Saved article: 'Ministry_of_Tourism_(Lebanon)' and updated tracking file\n"
     ]
    },
    {
     "name": "stderr",
     "output_type": "stream",
     "text": [
      " 76%|███████▌  | 761/1000 [36:07<08:59,  2.26s/it]"
     ]
    },
    {
     "name": "stdout",
     "output_type": "stream",
     "text": [
      "Saved article: 'Radical_64' and updated tracking file\n"
     ]
    },
    {
     "name": "stderr",
     "output_type": "stream",
     "text": [
      " 76%|███████▌  | 762/1000 [36:11<10:03,  2.53s/it]"
     ]
    },
    {
     "name": "stdout",
     "output_type": "stream",
     "text": [
      "Saved article: 'Durham_station_(New_Hampshire)' and updated tracking file\n"
     ]
    },
    {
     "name": "stderr",
     "output_type": "stream",
     "text": [
      " 76%|███████▋  | 763/1000 [36:14<11:25,  2.89s/it]"
     ]
    },
    {
     "name": "stdout",
     "output_type": "stream",
     "text": [
      "Saved article: 'Frog_Lake_(Guysborough)' and updated tracking file\n"
     ]
    },
    {
     "name": "stderr",
     "output_type": "stream",
     "text": [
      " 76%|███████▋  | 764/1000 [36:18<12:34,  3.20s/it]"
     ]
    },
    {
     "name": "stdout",
     "output_type": "stream",
     "text": [
      "Saved article: 'Amazon_VPC' and updated tracking file\n"
     ]
    },
    {
     "name": "stderr",
     "output_type": "stream",
     "text": [
      " 76%|███████▋  | 765/1000 [36:22<13:12,  3.37s/it]"
     ]
    },
    {
     "name": "stdout",
     "output_type": "stream",
     "text": [
      "Saved article: 'Compatibility_(mechanics)' and updated tracking file\n"
     ]
    },
    {
     "name": "stderr",
     "output_type": "stream",
     "text": [
      " 77%|███████▋  | 766/1000 [36:26<13:24,  3.44s/it]"
     ]
    },
    {
     "name": "stdout",
     "output_type": "stream",
     "text": [
      "Saved article: 'Bournemouth_Film_School' and updated tracking file\n"
     ]
    },
    {
     "name": "stderr",
     "output_type": "stream",
     "text": [
      " 77%|███████▋  | 767/1000 [36:30<13:55,  3.59s/it]"
     ]
    },
    {
     "name": "stdout",
     "output_type": "stream",
     "text": [
      "Saved article: 'Ruou_thuoc' and updated tracking file\n"
     ]
    },
    {
     "name": "stderr",
     "output_type": "stream",
     "text": [
      " 77%|███████▋  | 769/1000 [36:35<11:15,  2.92s/it]"
     ]
    },
    {
     "name": "stdout",
     "output_type": "stream",
     "text": [
      "Rejecting 'Yevhen_Yeliseyev' - insufficient sentences (less than 3 periods)\n",
      "Saved article: 'Liz_Wilson' and updated tracking file\n"
     ]
    },
    {
     "name": "stderr",
     "output_type": "stream",
     "text": [
      " 77%|███████▋  | 770/1000 [36:38<12:15,  3.20s/it]"
     ]
    },
    {
     "name": "stdout",
     "output_type": "stream",
     "text": [
      "Saved article: 'Barrie_James_Wilson' and updated tracking file\n"
     ]
    },
    {
     "name": "stderr",
     "output_type": "stream",
     "text": [
      " 77%|███████▋  | 772/1000 [36:43<09:34,  2.52s/it]"
     ]
    },
    {
     "name": "stdout",
     "output_type": "stream",
     "text": [
      "Error processing '%F0%9F%A5%9E': 'fullurl'\n",
      "Saved article: 'Communications_assistance_for_law_enforcement_act' and updated tracking file\n"
     ]
    },
    {
     "name": "stderr",
     "output_type": "stream",
     "text": [
      " 77%|███████▋  | 774/1000 [36:47<08:16,  2.20s/it]"
     ]
    },
    {
     "name": "stdout",
     "output_type": "stream",
     "text": [
      "Error processing 'Prince_Xun_(%E5%BE%AA)': 'fullurl'\n",
      "Saved article: 'The_Santa_Clause_III' and updated tracking file\n"
     ]
    },
    {
     "name": "stderr",
     "output_type": "stream",
     "text": [
      " 78%|███████▊  | 775/1000 [36:51<10:01,  2.67s/it]"
     ]
    },
    {
     "name": "stdout",
     "output_type": "stream",
     "text": [
      "Saved article: 'Ahanta_language' and updated tracking file\n"
     ]
    },
    {
     "name": "stderr",
     "output_type": "stream",
     "text": [
      " 78%|███████▊  | 776/1000 [36:54<10:35,  2.84s/it]"
     ]
    },
    {
     "name": "stdout",
     "output_type": "stream",
     "text": [
      "Saved article: 'Cyclone_Akash' and updated tracking file\n"
     ]
    },
    {
     "name": "stderr",
     "output_type": "stream",
     "text": [
      " 78%|███████▊  | 777/1000 [36:57<10:57,  2.95s/it]"
     ]
    },
    {
     "name": "stdout",
     "output_type": "stream",
     "text": [
      "Saved article: 'Death_of_David_Chain' and updated tracking file\n"
     ]
    },
    {
     "name": "stderr",
     "output_type": "stream",
     "text": [
      " 78%|███████▊  | 778/1000 [37:01<11:13,  3.04s/it]"
     ]
    },
    {
     "name": "stdout",
     "output_type": "stream",
     "text": [
      "Saved article: 'Shiny_filmy-fern' and updated tracking file\n"
     ]
    },
    {
     "name": "stderr",
     "output_type": "stream",
     "text": [
      " 78%|███████▊  | 779/1000 [37:04<12:02,  3.27s/it]"
     ]
    },
    {
     "name": "stdout",
     "output_type": "stream",
     "text": [
      "Saved article: 'Pseudodolbina_fo' and updated tracking file\n"
     ]
    },
    {
     "name": "stderr",
     "output_type": "stream",
     "text": [
      " 78%|███████▊  | 780/1000 [37:08<11:52,  3.24s/it]"
     ]
    },
    {
     "name": "stdout",
     "output_type": "stream",
     "text": [
      "Saved article: 'Castle_of_Park' and updated tracking file\n"
     ]
    },
    {
     "name": "stderr",
     "output_type": "stream",
     "text": [
      " 78%|███████▊  | 781/1000 [37:11<11:45,  3.22s/it]"
     ]
    },
    {
     "name": "stdout",
     "output_type": "stream",
     "text": [
      "Saved article: 'Jumpala_Hiri' and updated tracking file\n"
     ]
    },
    {
     "name": "stderr",
     "output_type": "stream",
     "text": [
      " 78%|███████▊  | 782/1000 [37:15<12:23,  3.41s/it]"
     ]
    },
    {
     "name": "stdout",
     "output_type": "stream",
     "text": [
      "Saved article: 'Eastgate_Airport' and updated tracking file\n"
     ]
    },
    {
     "name": "stderr",
     "output_type": "stream",
     "text": [
      " 78%|███████▊  | 784/1000 [37:20<11:07,  3.09s/it]"
     ]
    },
    {
     "name": "stdout",
     "output_type": "stream",
     "text": [
      "DisambiguationError for 'H._maculata_(disambiguation)': \"H. maculata\" may refer to: \n",
      "Haemanota maculata\n",
      "Haplonerita maculata\n",
      "Heteroscodra maculata\n",
      "Hippobosca maculata\n",
      "Holbrookia maculata\n",
      "Horia maculata\n",
      "Hydroptila maculata\n",
      "Hygrobia maculata\n",
      "Hyla maculata\n",
      "Hyperplatys maculata\n",
      "Hypochaeris maculata\n",
      "Suggestions: ['Haemanota maculata', 'Haplonerita maculata', 'Heteroscodra maculata', 'Hippobosca maculata', 'Holbrookia maculata']\n",
      "Saved article: 'Senator_from_Delaware' and updated tracking file\n"
     ]
    },
    {
     "name": "stderr",
     "output_type": "stream",
     "text": [
      " 78%|███████▊  | 785/1000 [37:24<11:53,  3.32s/it]"
     ]
    },
    {
     "name": "stdout",
     "output_type": "stream",
     "text": [
      "Saved article: 'Levoisier' and updated tracking file\n"
     ]
    },
    {
     "name": "stderr",
     "output_type": "stream",
     "text": [
      " 79%|███████▊  | 786/1000 [37:28<12:32,  3.52s/it]"
     ]
    },
    {
     "name": "stdout",
     "output_type": "stream",
     "text": [
      "Saved article: 'Medulla_Oblongata_(Malayalam_film)' and updated tracking file\n"
     ]
    },
    {
     "name": "stderr",
     "output_type": "stream",
     "text": [
      " 79%|███████▊  | 787/1000 [37:33<13:37,  3.84s/it]"
     ]
    },
    {
     "name": "stdout",
     "output_type": "stream",
     "text": [
      "Saved article: 'Bhima_Ratha' and updated tracking file\n"
     ]
    },
    {
     "name": "stderr",
     "output_type": "stream",
     "text": [
      " 79%|███████▉  | 788/1000 [37:36<12:56,  3.66s/it]"
     ]
    },
    {
     "name": "stdout",
     "output_type": "stream",
     "text": [
      "Saved article: 'Lisa_brokop' and updated tracking file\n"
     ]
    },
    {
     "name": "stderr",
     "output_type": "stream",
     "text": [
      " 79%|███████▉  | 790/1000 [37:41<09:44,  2.78s/it]"
     ]
    },
    {
     "name": "stdout",
     "output_type": "stream",
     "text": [
      "Error processing '%F0%9F%9C%89': 'fullurl'\n"
     ]
    },
    {
     "name": "stderr",
     "output_type": "stream",
     "text": [
      " 79%|███████▉  | 791/1000 [37:41<07:22,  2.12s/it]"
     ]
    },
    {
     "name": "stdout",
     "output_type": "stream",
     "text": [
      "Error processing '1954_S%C3%A3o_Paulo_FC_season': 'fullurl'\n"
     ]
    },
    {
     "name": "stderr",
     "output_type": "stream",
     "text": [
      " 79%|███████▉  | 792/1000 [37:42<05:43,  1.65s/it]"
     ]
    },
    {
     "name": "stdout",
     "output_type": "stream",
     "text": [
      "Error processing 'Micha%C3%ABl_Parkinson_(volleyball)': 'fullurl'\n",
      "Saved article: 'Beautiful_Burnout_(song)' and updated tracking file\n"
     ]
    },
    {
     "name": "stderr",
     "output_type": "stream",
     "text": [
      " 79%|███████▉  | 794/1000 [37:46<06:03,  1.77s/it]"
     ]
    },
    {
     "name": "stdout",
     "output_type": "stream",
     "text": [
      "Error processing 'Texas_A%26M%E2%80%93Galveston': 'fullurl'\n",
      "Saved article: 'Irefla' and updated tracking file\n"
     ]
    },
    {
     "name": "stderr",
     "output_type": "stream",
     "text": [
      " 80%|███████▉  | 796/1000 [37:50<06:17,  1.85s/it]"
     ]
    },
    {
     "name": "stdout",
     "output_type": "stream",
     "text": [
      "Error processing 'D%C3%B6rte_von_Westernhagen': 'fullurl'\n",
      "Saved article: 'I_Put_A_Spell_On_You_(album)' and updated tracking file\n"
     ]
    },
    {
     "name": "stderr",
     "output_type": "stream",
     "text": [
      " 80%|███████▉  | 797/1000 [37:54<08:10,  2.42s/it]"
     ]
    },
    {
     "name": "stdout",
     "output_type": "stream",
     "text": [
      "Saved article: 'Cadet_College_Razmak' and updated tracking file\n"
     ]
    },
    {
     "name": "stderr",
     "output_type": "stream",
     "text": [
      " 80%|███████▉  | 799/1000 [37:58<06:47,  2.03s/it]"
     ]
    },
    {
     "name": "stdout",
     "output_type": "stream",
     "text": [
      "Error processing 'Congo_women%27s_national_football_team': 'fullurl'\n"
     ]
    },
    {
     "name": "stderr",
     "output_type": "stream",
     "text": [
      " 80%|████████  | 800/1000 [37:58<05:17,  1.59s/it]"
     ]
    },
    {
     "name": "stdout",
     "output_type": "stream",
     "text": [
      "Error processing '%F0%9F%98%8B': 'fullurl'\n",
      "Saved article: '29th_Street_Rep' and updated tracking file\n"
     ]
    },
    {
     "name": "stderr",
     "output_type": "stream",
     "text": [
      " 80%|████████  | 801/1000 [38:02<06:50,  2.06s/it]"
     ]
    },
    {
     "name": "stdout",
     "output_type": "stream",
     "text": [
      "Saved article: 'John_Reeves_(naturalist)' and updated tracking file\n"
     ]
    },
    {
     "name": "stderr",
     "output_type": "stream",
     "text": [
      " 80%|████████  | 802/1000 [38:05<07:53,  2.39s/it]"
     ]
    },
    {
     "name": "stdout",
     "output_type": "stream",
     "text": [
      "Saved article: 'Potato_Lake_(Rusk_County,_Wisconsin)' and updated tracking file\n"
     ]
    },
    {
     "name": "stderr",
     "output_type": "stream",
     "text": [
      " 80%|████████  | 803/1000 [38:08<08:36,  2.62s/it]"
     ]
    },
    {
     "name": "stdout",
     "output_type": "stream",
     "text": [
      "Saved article: '1075_Helina' and updated tracking file\n"
     ]
    },
    {
     "name": "stderr",
     "output_type": "stream",
     "text": [
      " 80%|████████  | 804/1000 [38:11<09:09,  2.80s/it]"
     ]
    },
    {
     "name": "stdout",
     "output_type": "stream",
     "text": [
      "Saved article: 'Jakob_Eriksson_Prize' and updated tracking file\n"
     ]
    },
    {
     "name": "stderr",
     "output_type": "stream",
     "text": [
      " 80%|████████  | 805/1000 [38:15<10:10,  3.13s/it]"
     ]
    },
    {
     "name": "stdout",
     "output_type": "stream",
     "text": [
      "Saved article: 'Lawrence_Tenney_Stevens' and updated tracking file\n"
     ]
    },
    {
     "name": "stderr",
     "output_type": "stream",
     "text": [
      " 81%|████████  | 806/1000 [38:18<10:09,  3.14s/it]"
     ]
    },
    {
     "name": "stdout",
     "output_type": "stream",
     "text": [
      "Saved article: 'Char-ron_Dorsey' and updated tracking file\n"
     ]
    },
    {
     "name": "stderr",
     "output_type": "stream",
     "text": [
      " 81%|████████  | 807/1000 [38:21<10:07,  3.15s/it]"
     ]
    },
    {
     "name": "stdout",
     "output_type": "stream",
     "text": [
      "Saved article: 'Robert_Smith_(footballer,_born_1843)' and updated tracking file\n"
     ]
    },
    {
     "name": "stderr",
     "output_type": "stream",
     "text": [
      " 81%|████████  | 808/1000 [38:25<10:39,  3.33s/it]"
     ]
    },
    {
     "name": "stdout",
     "output_type": "stream",
     "text": [
      "Saved article: 'Jaegerjaques' and updated tracking file\n"
     ]
    },
    {
     "name": "stderr",
     "output_type": "stream",
     "text": [
      " 81%|████████  | 810/1000 [38:30<08:36,  2.72s/it]"
     ]
    },
    {
     "name": "stdout",
     "output_type": "stream",
     "text": [
      "Error processing 'King%27s_Pyon_Church': 'fullurl'\n"
     ]
    },
    {
     "name": "stderr",
     "output_type": "stream",
     "text": [
      " 81%|████████  | 811/1000 [38:31<07:06,  2.26s/it]"
     ]
    },
    {
     "name": "stdout",
     "output_type": "stream",
     "text": [
      "Rejecting 'List_of_number-one_hits_of_2011_(Denmark)' - insufficient sentences (less than 3 periods)\n"
     ]
    },
    {
     "name": "stderr",
     "output_type": "stream",
     "text": [
      " 81%|████████  | 812/1000 [38:32<05:29,  1.75s/it]"
     ]
    },
    {
     "name": "stdout",
     "output_type": "stream",
     "text": [
      "Error processing '%F0%9F%99%86': 'fullurl'\n",
      "Saved article: 'Singapore_Armed_Forces_Football_Club' and updated tracking file\n"
     ]
    },
    {
     "name": "stderr",
     "output_type": "stream",
     "text": [
      " 81%|████████▏ | 813/1000 [38:36<07:18,  2.35s/it]"
     ]
    },
    {
     "name": "stdout",
     "output_type": "stream",
     "text": [
      "Saved article: 'George_William_Curtis' and updated tracking file\n"
     ]
    },
    {
     "name": "stderr",
     "output_type": "stream",
     "text": [
      " 82%|████████▏ | 815/1000 [38:39<06:12,  2.01s/it]"
     ]
    },
    {
     "name": "stdout",
     "output_type": "stream",
     "text": [
      "Error processing '%F0%9F%A5%95': 'fullurl'\n",
      "Saved article: 'M.M.M._Engineering_College' and updated tracking file\n"
     ]
    },
    {
     "name": "stderr",
     "output_type": "stream",
     "text": [
      " 82%|████████▏ | 817/1000 [38:44<05:56,  1.95s/it]"
     ]
    },
    {
     "name": "stdout",
     "output_type": "stream",
     "text": [
      "Error processing 'Roller_skating_at_the_2011_Pan_American_Games_%E2%80%93_Women%27s_300_metres_time-trial': 'fullurl'\n",
      "Saved article: 'Luis_Garrido_Platas' and updated tracking file\n"
     ]
    },
    {
     "name": "stderr",
     "output_type": "stream",
     "text": [
      " 82%|████████▏ | 819/1000 [38:48<05:48,  1.92s/it]"
     ]
    },
    {
     "name": "stdout",
     "output_type": "stream",
     "text": [
      "Error processing '2014_UEC_European_Track_Championships_%E2%80%93_Women%27s_team_sprint': 'fullurl'\n",
      "Saved article: 'Arizona_State_Route_564' and updated tracking file\n"
     ]
    },
    {
     "name": "stderr",
     "output_type": "stream",
     "text": [
      " 82%|████████▏ | 821/1000 [38:52<05:26,  1.82s/it]"
     ]
    },
    {
     "name": "stdout",
     "output_type": "stream",
     "text": [
      "Error processing '%F0%9F%99%AA': 'fullurl'\n",
      "Saved article: 'Lifeskool' and updated tracking file\n"
     ]
    },
    {
     "name": "stderr",
     "output_type": "stream",
     "text": [
      " 82%|████████▏ | 822/1000 [38:56<07:08,  2.41s/it]"
     ]
    },
    {
     "name": "stdout",
     "output_type": "stream",
     "text": [
      "Saved article: 'Charles_Daniel_White' and updated tracking file\n"
     ]
    },
    {
     "name": "stderr",
     "output_type": "stream",
     "text": [
      " 82%|████████▏ | 823/1000 [38:59<07:47,  2.64s/it]"
     ]
    },
    {
     "name": "stdout",
     "output_type": "stream",
     "text": [
      "Saved article: 'Manuel_Trachtenberg' and updated tracking file\n"
     ]
    },
    {
     "name": "stderr",
     "output_type": "stream",
     "text": [
      " 82%|████████▎ | 825/1000 [39:03<06:32,  2.24s/it]"
     ]
    },
    {
     "name": "stdout",
     "output_type": "stream",
     "text": [
      "Error processing '%F0%9F%A4%9B': 'fullurl'\n"
     ]
    },
    {
     "name": "stderr",
     "output_type": "stream",
     "text": [
      " 83%|████████▎ | 826/1000 [39:05<05:35,  1.93s/it]"
     ]
    },
    {
     "name": "stdout",
     "output_type": "stream",
     "text": [
      "Rejecting 'Vsevolod_Tarasevich' - insufficient sentences (less than 3 periods)\n",
      "Saved article: 'Dvaram' and updated tracking file\n"
     ]
    },
    {
     "name": "stderr",
     "output_type": "stream",
     "text": [
      " 83%|████████▎ | 827/1000 [39:08<07:18,  2.53s/it]"
     ]
    },
    {
     "name": "stdout",
     "output_type": "stream",
     "text": [
      "Saved article: 'Milafranga' and updated tracking file\n"
     ]
    },
    {
     "name": "stderr",
     "output_type": "stream",
     "text": [
      " 83%|████████▎ | 828/1000 [39:12<08:22,  2.92s/it]"
     ]
    },
    {
     "name": "stdout",
     "output_type": "stream",
     "text": [
      "Saved article: 'Rainbow_toad' and updated tracking file\n"
     ]
    },
    {
     "name": "stderr",
     "output_type": "stream",
     "text": [
      " 83%|████████▎ | 829/1000 [39:16<09:00,  3.16s/it]"
     ]
    },
    {
     "name": "stdout",
     "output_type": "stream",
     "text": [
      "Saved article: 'Gamma-glutamyl_hydrolase' and updated tracking file\n"
     ]
    },
    {
     "name": "stderr",
     "output_type": "stream",
     "text": [
      " 83%|████████▎ | 831/1000 [39:20<06:46,  2.41s/it]"
     ]
    },
    {
     "name": "stdout",
     "output_type": "stream",
     "text": [
      "Error processing 'This_We%27ll_Defend': 'fullurl'\n",
      "Saved article: 'Orconectes_quadruncus' and updated tracking file\n"
     ]
    },
    {
     "name": "stderr",
     "output_type": "stream",
     "text": [
      " 83%|████████▎ | 832/1000 [39:24<07:52,  2.81s/it]"
     ]
    },
    {
     "name": "stdout",
     "output_type": "stream",
     "text": [
      "Saved article: 'Context-Driven_School' and updated tracking file\n"
     ]
    },
    {
     "name": "stderr",
     "output_type": "stream",
     "text": [
      " 83%|████████▎ | 833/1000 [39:27<08:38,  3.10s/it]"
     ]
    },
    {
     "name": "stdout",
     "output_type": "stream",
     "text": [
      "Saved article: 'Bum_(homeless_person)' and updated tracking file\n"
     ]
    },
    {
     "name": "stderr",
     "output_type": "stream",
     "text": [
      " 83%|████████▎ | 834/1000 [39:33<10:20,  3.74s/it]"
     ]
    },
    {
     "name": "stdout",
     "output_type": "stream",
     "text": [
      "Saved article: 'Muezersky_Raion' and updated tracking file\n"
     ]
    },
    {
     "name": "stderr",
     "output_type": "stream",
     "text": [
      " 84%|████████▎ | 835/1000 [39:36<10:20,  3.76s/it]"
     ]
    },
    {
     "name": "stdout",
     "output_type": "stream",
     "text": [
      "Saved article: '2016-17_Lebanese_FA_Cup' and updated tracking file\n"
     ]
    },
    {
     "name": "stderr",
     "output_type": "stream",
     "text": [
      " 84%|████████▎ | 836/1000 [39:40<10:20,  3.78s/it]"
     ]
    },
    {
     "name": "stdout",
     "output_type": "stream",
     "text": [
      "Saved article: 'Marcus_Hutchins' and updated tracking file\n"
     ]
    },
    {
     "name": "stderr",
     "output_type": "stream",
     "text": [
      " 84%|████████▍ | 838/1000 [39:44<07:20,  2.72s/it]"
     ]
    },
    {
     "name": "stdout",
     "output_type": "stream",
     "text": [
      "PageError: 'KBOL-LP' does not match any pages. Try another title!\n",
      "Saved article: 'Empire_of_Shadows' and updated tracking file\n"
     ]
    },
    {
     "name": "stderr",
     "output_type": "stream",
     "text": [
      " 84%|████████▍ | 839/1000 [39:48<08:12,  3.06s/it]"
     ]
    },
    {
     "name": "stdout",
     "output_type": "stream",
     "text": [
      "Saved article: 'William_Pianu' and updated tracking file\n"
     ]
    },
    {
     "name": "stderr",
     "output_type": "stream",
     "text": [
      " 84%|████████▍ | 840/1000 [39:51<08:14,  3.09s/it]"
     ]
    },
    {
     "name": "stdout",
     "output_type": "stream",
     "text": [
      "Saved article: 'Torre_train_station' and updated tracking file\n"
     ]
    },
    {
     "name": "stderr",
     "output_type": "stream",
     "text": [
      " 84%|████████▍ | 841/1000 [39:55<08:42,  3.29s/it]"
     ]
    },
    {
     "name": "stdout",
     "output_type": "stream",
     "text": [
      "Saved article: 'Aaronson' and updated tracking file\n"
     ]
    },
    {
     "name": "stderr",
     "output_type": "stream",
     "text": [
      " 84%|████████▍ | 842/1000 [39:58<08:33,  3.25s/it]"
     ]
    },
    {
     "name": "stdout",
     "output_type": "stream",
     "text": [
      "Saved article: 'Christ_Episcopal_Church,_New_Brunswick,_New_Jersey' and updated tracking file\n"
     ]
    },
    {
     "name": "stderr",
     "output_type": "stream",
     "text": [
      " 84%|████████▍ | 844/1000 [40:04<07:34,  2.91s/it]"
     ]
    },
    {
     "name": "stdout",
     "output_type": "stream",
     "text": [
      "Rejecting 'Roth_(Rhein-Lahn-Kreis)' - insufficient sentences (less than 3 periods)\n",
      "Saved article: 'Samuel_Zarudny_Bogdanowicz' and updated tracking file\n"
     ]
    },
    {
     "name": "stderr",
     "output_type": "stream",
     "text": [
      " 84%|████████▍ | 845/1000 [40:07<08:12,  3.18s/it]"
     ]
    },
    {
     "name": "stdout",
     "output_type": "stream",
     "text": [
      "Saved article: 'Vinaceous_Amazon_Parrot' and updated tracking file\n"
     ]
    },
    {
     "name": "stderr",
     "output_type": "stream",
     "text": [
      " 85%|████████▍ | 847/1000 [40:12<06:24,  2.51s/it]"
     ]
    },
    {
     "name": "stdout",
     "output_type": "stream",
     "text": [
      "Error processing '%F0%9F%9C%B8': 'fullurl'\n",
      "Saved article: 'The_Romany' and updated tracking file\n"
     ]
    },
    {
     "name": "stderr",
     "output_type": "stream",
     "text": [
      " 85%|████████▍ | 849/1000 [40:17<06:00,  2.38s/it]"
     ]
    },
    {
     "name": "stdout",
     "output_type": "stream",
     "text": [
      "Rejecting 'Naka_Kahoot' - insufficient sentences (less than 3 periods)\n",
      "Saved article: 'Zayed_bin_Sultan_Al_Nahyan' and updated tracking file\n"
     ]
    },
    {
     "name": "stderr",
     "output_type": "stream",
     "text": [
      " 85%|████████▌ | 850/1000 [40:20<06:38,  2.66s/it]"
     ]
    },
    {
     "name": "stdout",
     "output_type": "stream",
     "text": [
      "Saved article: 'Provision_(Accounting)' and updated tracking file\n"
     ]
    },
    {
     "name": "stderr",
     "output_type": "stream",
     "text": [
      " 85%|████████▌ | 851/1000 [40:24<07:24,  2.98s/it]"
     ]
    },
    {
     "name": "stdout",
     "output_type": "stream",
     "text": [
      "Saved article: 'Les_Serments_indiscrets' and updated tracking file\n"
     ]
    },
    {
     "name": "stderr",
     "output_type": "stream",
     "text": [
      " 85%|████████▌ | 853/1000 [40:28<05:56,  2.43s/it]"
     ]
    },
    {
     "name": "stdout",
     "output_type": "stream",
     "text": [
      "PageError: 'Cody_Carrillo' does not match any pages. Try another title!\n"
     ]
    },
    {
     "name": "stderr",
     "output_type": "stream",
     "text": [
      " 85%|████████▌ | 854/1000 [40:30<05:32,  2.28s/it]"
     ]
    },
    {
     "name": "stdout",
     "output_type": "stream",
     "text": [
      "DisambiguationError for 'Sutra_pitaka': \"Sutra Pitaka\" may refer to: \n",
      "Sutta Pitaka\n",
      "Agamas\n",
      "Mahayana sutras\n",
      "Buddhist texts\n",
      "Suggestions: ['Sutta Pitaka', 'Agamas', 'Mahayana sutras', 'Buddhist texts']\n",
      "Saved article: 'War_Memorials_(Western_Somme)' and updated tracking file\n"
     ]
    },
    {
     "name": "stderr",
     "output_type": "stream",
     "text": [
      " 86%|████████▌ | 856/1000 [40:35<05:29,  2.29s/it]"
     ]
    },
    {
     "name": "stdout",
     "output_type": "stream",
     "text": [
      "Error processing '%F0%9F%99%93': 'fullurl'\n",
      "Saved article: 'Charley_ATL' and updated tracking file\n"
     ]
    },
    {
     "name": "stderr",
     "output_type": "stream",
     "text": [
      " 86%|████████▌ | 857/1000 [40:39<06:07,  2.57s/it]"
     ]
    },
    {
     "name": "stdout",
     "output_type": "stream",
     "text": [
      "Saved article: 'Sir_George_Booth' and updated tracking file\n"
     ]
    },
    {
     "name": "stderr",
     "output_type": "stream",
     "text": [
      " 86%|████████▌ | 858/1000 [40:42<06:54,  2.92s/it]"
     ]
    },
    {
     "name": "stdout",
     "output_type": "stream",
     "text": [
      "Saved article: 'Camden_London_Borough_Council_election,_1990' and updated tracking file\n"
     ]
    },
    {
     "name": "stderr",
     "output_type": "stream",
     "text": [
      " 86%|████████▌ | 859/1000 [40:46<07:29,  3.18s/it]"
     ]
    },
    {
     "name": "stdout",
     "output_type": "stream",
     "text": [
      "Saved article: 'Cutis_laxa' and updated tracking file\n"
     ]
    },
    {
     "name": "stderr",
     "output_type": "stream",
     "text": [
      " 86%|████████▌ | 860/1000 [40:50<07:38,  3.28s/it]"
     ]
    },
    {
     "name": "stdout",
     "output_type": "stream",
     "text": [
      "Saved article: 'Faculty_of_International_Studies,_Aligarh_Muslim_University' and updated tracking file\n"
     ]
    },
    {
     "name": "stderr",
     "output_type": "stream",
     "text": [
      " 86%|████████▌ | 862/1000 [40:55<06:21,  2.76s/it]"
     ]
    },
    {
     "name": "stdout",
     "output_type": "stream",
     "text": [
      "Rejecting 'Atepa_colaptes' - insufficient sentences (less than 3 periods)\n"
     ]
    },
    {
     "name": "stderr",
     "output_type": "stream",
     "text": [
      " 86%|████████▋ | 863/1000 [40:55<04:48,  2.10s/it]"
     ]
    },
    {
     "name": "stdout",
     "output_type": "stream",
     "text": [
      "PageError: 'Fairfield_Community_Connection' does not match any pages. Try another title!\n"
     ]
    },
    {
     "name": "stderr",
     "output_type": "stream",
     "text": [
      " 86%|████████▋ | 864/1000 [40:57<04:45,  2.10s/it]"
     ]
    },
    {
     "name": "stdout",
     "output_type": "stream",
     "text": [
      "DisambiguationError for 'The_One_(album)': \"The One\" may refer to: \n",
      "The One (shopping centre)\n",
      "The One (Toronto)\n",
      "Brisbane Quarter\n",
      "The One (Colombo)\n",
      "The One (Los Angeles)\n",
      "The Chosen One (trope)\n",
      "Animorphs\n",
      "Witch and Wizard\n",
      "Transformers\n",
      "Neo\n",
      "Billy the Kid and the Green Baize Vampire\n",
      "The One (2001 film)\n",
      "The One (2003 film)\n",
      "The One (2011 film)\n",
      "\"The One\" (The Amazing World of Gumball)\n",
      "\"The One\" (Ghost Whisperer episode)\n",
      "The One (TV program)\n",
      "The One: Making a Music Star\n",
      "The One...\n",
      "The One (video)\n",
      "1 vs. 100\n",
      "The One (TV series)\n",
      "The One (2022 film)\n",
      "The One (magazine)\n",
      "The One (comics)\n",
      "The One (manhua)\n",
      "Young Wizards\n",
      "The One (singer)\n",
      "The One (band)\n",
      "Babymetal\n",
      "beat in music\n",
      "The One (Chubb Rock album)\n",
      "The One (Elton John album)\n",
      "The One Concert Live\n",
      "The One (Annihilator EP)\n",
      "The One (Frankie J album)\n",
      "The One (Jane Zhang album)\n",
      "The One (Shinichi Osawa album)\n",
      "The One (Silly Fools album)\n",
      "The One (Afgansyah Reza album)\n",
      "The One (Uverworld album)\n",
      "The One (Eric Benét album)\n",
      "The One (Chris Jasper album)\n",
      "The One (Sergey Lazarev album)\n",
      "Ganja White Night\n",
      "The One (Kita Alexander EP)\n",
      "\"The One\" (Elton John song)\n",
      "\"The One\" (Backstreet Boys song)\n",
      "\"The One\" (Foo Fighters song)\n",
      "\"The One\" (Gary Allan song)\n",
      "\"The One\" (Shakira song)\n",
      "\"The One\" (Kylie Minogue song)\n",
      "\"The One\" (Mary J. Blige song)\n",
      "\"The One\" (Slaughterhouse song)\n",
      "\"The One\" (Medina song)\n",
      "\"The One\" (Tamar Braxton song)\n",
      "\"The One\" (Aneta Sablik song)\n",
      "\"The One\" (Kodaline song)\n",
      "\"The One\" (The Chainsmokers song)\n",
      "\"The One\" (M.I.A. song)\n",
      "The One: Crash to Create\n",
      "The 1\n",
      "Lighters (The One)\n",
      "The Burdens of Being Upright\n",
      "Escape from L.A.\n",
      "Newpower Soul\n",
      "Strange Times\n",
      "Chocolate Starfish and the Hot Dog Flavored Water\n",
      "This Is Me... Then\n",
      "Charmbracelet\n",
      "The Prom Kings\n",
      "Grey Hairs\n",
      "Get Wild\n",
      "W\n",
      "Roots and Wings\n",
      "Nine Lives\n",
      "Not Your Kind of People\n",
      "Confess\n",
      "The Art of Doing Nothing\n",
      "Cruel Summer\n",
      "Savages\n",
      "W&W\n",
      "Metal Resistance\n",
      "Emotion: Side B\n",
      "Hey Mama!\n",
      "Betty\n",
      "Drinkin' Songs: The Collection\n",
      "Twenty Twenty\n",
      "Bang\n",
      "Epic Narratives\n",
      "Discipline\n",
      "Millionaires\n",
      "The One (Neoplatonism)\n",
      "The One (company)\n",
      "Absolute (philosophy)\n",
      "The Chosen One (disambiguation)\n",
      "The Great One (disambiguation)\n",
      "Henology\n",
      "Henosis\n",
      "Monad (philosophy)\n",
      "Monotheism\n",
      "One (disambiguation)\n",
      "The One and Only (disambiguation)\n",
      "The One That Got Away (disambiguation)\n",
      "Soulmate\n",
      "La Une\n",
      "Suggestions: ['The One (shopping centre)', 'The One (Toronto)', 'Brisbane Quarter', 'The One (Colombo)', 'The One (Los Angeles)']\n",
      "Saved article: 'Robert_S._Ford' and updated tracking file\n"
     ]
    },
    {
     "name": "stderr",
     "output_type": "stream",
     "text": [
      " 86%|████████▋ | 865/1000 [41:01<05:50,  2.60s/it]"
     ]
    },
    {
     "name": "stdout",
     "output_type": "stream",
     "text": [
      "Saved article: 'Selva_(actor)' and updated tracking file\n"
     ]
    },
    {
     "name": "stderr",
     "output_type": "stream",
     "text": [
      " 87%|████████▋ | 866/1000 [41:04<06:12,  2.78s/it]"
     ]
    },
    {
     "name": "stdout",
     "output_type": "stream",
     "text": [
      "Saved article: 'Bocchoris_edaphodrepta' and updated tracking file\n"
     ]
    },
    {
     "name": "stderr",
     "output_type": "stream",
     "text": [
      " 87%|████████▋ | 868/1000 [41:09<05:30,  2.50s/it]"
     ]
    },
    {
     "name": "stdout",
     "output_type": "stream",
     "text": [
      "Rejecting 'The_Scorpion_(novel)' - insufficient sentences (less than 3 periods)\n",
      "Saved article: 'Saku_Suurhall' and updated tracking file\n"
     ]
    },
    {
     "name": "stderr",
     "output_type": "stream",
     "text": [
      " 87%|████████▋ | 869/1000 [41:13<06:18,  2.89s/it]"
     ]
    },
    {
     "name": "stdout",
     "output_type": "stream",
     "text": [
      "Saved article: 'Hydata' and updated tracking file\n"
     ]
    },
    {
     "name": "stderr",
     "output_type": "stream",
     "text": [
      " 87%|████████▋ | 870/1000 [41:16<06:26,  2.98s/it]"
     ]
    },
    {
     "name": "stdout",
     "output_type": "stream",
     "text": [
      "Saved article: 'UniCredit_Bulbank' and updated tracking file\n"
     ]
    },
    {
     "name": "stderr",
     "output_type": "stream",
     "text": [
      " 87%|████████▋ | 872/1000 [41:20<04:53,  2.29s/it]"
     ]
    },
    {
     "name": "stdout",
     "output_type": "stream",
     "text": [
      "Error processing 'J%C3%BCrgen_Bachmann': 'fullurl'\n",
      "Saved article: 'Trent_River_(North_Carolina)' and updated tracking file\n"
     ]
    },
    {
     "name": "stderr",
     "output_type": "stream",
     "text": [
      " 87%|████████▋ | 873/1000 [41:23<05:26,  2.57s/it]"
     ]
    },
    {
     "name": "stdout",
     "output_type": "stream",
     "text": [
      "Saved article: 'The_Mosquito_Coast_(novel)' and updated tracking file\n"
     ]
    },
    {
     "name": "stderr",
     "output_type": "stream",
     "text": [
      " 87%|████████▋ | 874/1000 [41:26<05:48,  2.76s/it]"
     ]
    },
    {
     "name": "stdout",
     "output_type": "stream",
     "text": [
      "Saved article: 'Fiordland_Rock_Wren' and updated tracking file\n"
     ]
    },
    {
     "name": "stderr",
     "output_type": "stream",
     "text": [
      " 88%|████████▊ | 876/1000 [41:31<04:46,  2.31s/it]"
     ]
    },
    {
     "name": "stdout",
     "output_type": "stream",
     "text": [
      "Error processing 'C_O_%26_E': 'fullurl'\n",
      "Saved article: 'Making_Work_Pay_tax_credit' and updated tracking file\n"
     ]
    },
    {
     "name": "stderr",
     "output_type": "stream",
     "text": [
      " 88%|████████▊ | 877/1000 [41:34<05:15,  2.56s/it]"
     ]
    },
    {
     "name": "stdout",
     "output_type": "stream",
     "text": [
      "Saved article: 'Salabat_Jung' and updated tracking file\n"
     ]
    },
    {
     "name": "stderr",
     "output_type": "stream",
     "text": [
      " 88%|████████▊ | 878/1000 [41:37<05:39,  2.78s/it]"
     ]
    },
    {
     "name": "stdout",
     "output_type": "stream",
     "text": [
      "Saved article: 'List_of_Andromeda_star_systems' and updated tracking file\n"
     ]
    },
    {
     "name": "stderr",
     "output_type": "stream",
     "text": [
      " 88%|████████▊ | 879/1000 [41:41<06:12,  3.08s/it]"
     ]
    },
    {
     "name": "stdout",
     "output_type": "stream",
     "text": [
      "Saved article: 'Detroit_Collegiate_Prep' and updated tracking file\n"
     ]
    },
    {
     "name": "stderr",
     "output_type": "stream",
     "text": [
      " 88%|████████▊ | 880/1000 [41:45<06:34,  3.28s/it]"
     ]
    },
    {
     "name": "stdout",
     "output_type": "stream",
     "text": [
      "Saved article: 'Iltalypsy' and updated tracking file\n"
     ]
    },
    {
     "name": "stderr",
     "output_type": "stream",
     "text": [
      " 88%|████████▊ | 882/1000 [41:48<04:48,  2.45s/it]"
     ]
    },
    {
     "name": "stdout",
     "output_type": "stream",
     "text": [
      "Error processing '%F0%9F%A4%B7': 'fullurl'\n",
      "Saved article: 'Instant_Records' and updated tracking file\n"
     ]
    },
    {
     "name": "stderr",
     "output_type": "stream",
     "text": [
      " 88%|████████▊ | 884/1000 [41:53<04:43,  2.44s/it]"
     ]
    },
    {
     "name": "stdout",
     "output_type": "stream",
     "text": [
      "Rejecting 'Luxembourg_National_Division_1921-22' - insufficient sentences (less than 3 periods)\n"
     ]
    },
    {
     "name": "stderr",
     "output_type": "stream",
     "text": [
      " 88%|████████▊ | 885/1000 [41:54<03:36,  1.88s/it]"
     ]
    },
    {
     "name": "stdout",
     "output_type": "stream",
     "text": [
      "Error processing 'John_David_D%27Amico': 'fullurl'\n",
      "Saved article: 'Extensor_pollicis_longis' and updated tracking file\n"
     ]
    },
    {
     "name": "stderr",
     "output_type": "stream",
     "text": [
      " 89%|████████▊ | 886/1000 [41:58<04:40,  2.46s/it]"
     ]
    },
    {
     "name": "stdout",
     "output_type": "stream",
     "text": [
      "Saved article: 'Rusty_Jacobs' and updated tracking file\n"
     ]
    },
    {
     "name": "stderr",
     "output_type": "stream",
     "text": [
      " 89%|████████▊ | 887/1000 [42:01<05:02,  2.68s/it]"
     ]
    },
    {
     "name": "stdout",
     "output_type": "stream",
     "text": [
      "Saved article: 'Arabic_tea_in_Arab_countries' and updated tracking file\n"
     ]
    },
    {
     "name": "stderr",
     "output_type": "stream",
     "text": [
      " 89%|████████▉ | 888/1000 [42:05<05:37,  3.01s/it]"
     ]
    },
    {
     "name": "stdout",
     "output_type": "stream",
     "text": [
      "Saved article: 'Former_Montana_Executive_Mansion' and updated tracking file\n"
     ]
    },
    {
     "name": "stderr",
     "output_type": "stream",
     "text": [
      " 89%|████████▉ | 889/1000 [42:09<05:59,  3.24s/it]"
     ]
    },
    {
     "name": "stdout",
     "output_type": "stream",
     "text": [
      "Saved article: 'Hot_dog_stands' and updated tracking file\n"
     ]
    },
    {
     "name": "stderr",
     "output_type": "stream",
     "text": [
      " 89%|████████▉ | 890/1000 [42:12<06:13,  3.39s/it]"
     ]
    },
    {
     "name": "stdout",
     "output_type": "stream",
     "text": [
      "Saved article: 'Weisser_Turm_(Nuremberg_U-Bahn)' and updated tracking file\n"
     ]
    },
    {
     "name": "stderr",
     "output_type": "stream",
     "text": [
      " 89%|████████▉ | 892/1000 [42:17<04:43,  2.62s/it]"
     ]
    },
    {
     "name": "stdout",
     "output_type": "stream",
     "text": [
      "Error processing 'Lyc%C3%A9e_fran%C3%A7ais_Denis_Diderot': 'fullurl'\n",
      "Saved article: 'Santa_Barbara,_California' and updated tracking file\n"
     ]
    },
    {
     "name": "stderr",
     "output_type": "stream",
     "text": [
      " 89%|████████▉ | 894/1000 [42:21<03:50,  2.17s/it]"
     ]
    },
    {
     "name": "stdout",
     "output_type": "stream",
     "text": [
      "Error processing '%F0%9F%9B%A5%EF%B8%8F': 'fullurl'\n",
      "Saved article: 'Alum_Bay' and updated tracking file\n"
     ]
    },
    {
     "name": "stderr",
     "output_type": "stream",
     "text": [
      " 90%|████████▉ | 895/1000 [42:24<04:19,  2.47s/it]"
     ]
    },
    {
     "name": "stdout",
     "output_type": "stream",
     "text": [
      "Saved article: 'Chelmonops' and updated tracking file\n"
     ]
    },
    {
     "name": "stderr",
     "output_type": "stream",
     "text": [
      " 90%|████████▉ | 896/1000 [42:27<04:40,  2.70s/it]"
     ]
    },
    {
     "name": "stdout",
     "output_type": "stream",
     "text": [
      "Saved article: 'Vicente_Lopez_(cyclist)' and updated tracking file\n"
     ]
    },
    {
     "name": "stderr",
     "output_type": "stream",
     "text": [
      " 90%|████████▉ | 897/1000 [42:31<05:16,  3.07s/it]"
     ]
    },
    {
     "name": "stdout",
     "output_type": "stream",
     "text": [
      "Saved article: 'Carson_County,_TX' and updated tracking file\n"
     ]
    },
    {
     "name": "stderr",
     "output_type": "stream",
     "text": [
      " 90%|████████▉ | 899/1000 [42:35<04:09,  2.47s/it]"
     ]
    },
    {
     "name": "stdout",
     "output_type": "stream",
     "text": [
      "Error processing '%F0%9F%9A%92': 'fullurl'\n"
     ]
    },
    {
     "name": "stderr",
     "output_type": "stream",
     "text": [
      " 90%|█████████ | 900/1000 [42:36<03:14,  1.94s/it]"
     ]
    },
    {
     "name": "stdout",
     "output_type": "stream",
     "text": [
      "Error processing 'F%C5%ABka_(manga)': 'fullurl'\n",
      "Saved article: 'Godwin_Antwi' and updated tracking file\n"
     ]
    },
    {
     "name": "stderr",
     "output_type": "stream",
     "text": [
      " 90%|█████████ | 902/1000 [42:41<03:30,  2.14s/it]"
     ]
    },
    {
     "name": "stdout",
     "output_type": "stream",
     "text": [
      "DisambiguationError for 'James_MacKinnon': \"James_MacKinnon\" may refer to: \n",
      "J. B. MacKinnon\n",
      "James G. MacKinnon\n",
      "James Angus MacKinnon\n",
      "James Mackinnon (politician)\n",
      "James MacKinnon (cricketer)\n",
      "James McKinnon\n",
      "James McKinnon (historian)\n",
      "Suggestions: ['J. B. MacKinnon', 'James G. MacKinnon', 'James Angus MacKinnon', 'James Mackinnon (politician)', 'James MacKinnon (cricketer)']\n"
     ]
    },
    {
     "name": "stderr",
     "output_type": "stream",
     "text": [
      " 90%|█████████ | 903/1000 [42:42<02:41,  1.67s/it]"
     ]
    },
    {
     "name": "stdout",
     "output_type": "stream",
     "text": [
      "Error processing 'Do%C4%9Fu%C5%9F_Balbay': 'fullurl'\n",
      "Saved article: 'Abraham_Lewinsky' and updated tracking file\n"
     ]
    },
    {
     "name": "stderr",
     "output_type": "stream",
     "text": [
      " 90%|█████████ | 904/1000 [42:45<03:23,  2.12s/it]"
     ]
    },
    {
     "name": "stdout",
     "output_type": "stream",
     "text": [
      "Saved article: 'House_on_Willow_Street' and updated tracking file\n"
     ]
    },
    {
     "name": "stderr",
     "output_type": "stream",
     "text": [
      " 90%|█████████ | 905/1000 [42:48<03:51,  2.44s/it]"
     ]
    },
    {
     "name": "stdout",
     "output_type": "stream",
     "text": [
      "Saved article: 'People_named_Bruce' and updated tracking file\n"
     ]
    },
    {
     "name": "stderr",
     "output_type": "stream",
     "text": [
      " 91%|█████████ | 906/1000 [42:52<04:27,  2.85s/it]"
     ]
    },
    {
     "name": "stdout",
     "output_type": "stream",
     "text": [
      "Saved article: 'LeRoy_Armstrong' and updated tracking file\n"
     ]
    },
    {
     "name": "stderr",
     "output_type": "stream",
     "text": [
      " 91%|█████████ | 907/1000 [42:55<04:38,  2.99s/it]"
     ]
    },
    {
     "name": "stdout",
     "output_type": "stream",
     "text": [
      "Saved article: 'Robert_Nichols_(actor)' and updated tracking file\n"
     ]
    },
    {
     "name": "stderr",
     "output_type": "stream",
     "text": [
      " 91%|█████████ | 908/1000 [42:58<04:45,  3.10s/it]"
     ]
    },
    {
     "name": "stdout",
     "output_type": "stream",
     "text": [
      "Saved article: 'Gekreuzigt' and updated tracking file\n"
     ]
    },
    {
     "name": "stderr",
     "output_type": "stream",
     "text": [
      " 91%|█████████ | 910/1000 [43:02<03:34,  2.38s/it]"
     ]
    },
    {
     "name": "stdout",
     "output_type": "stream",
     "text": [
      "Error processing '%EC%8E%80': 'fullurl'\n"
     ]
    },
    {
     "name": "stderr",
     "output_type": "stream",
     "text": [
      " 91%|█████████ | 911/1000 [43:03<03:01,  2.03s/it]"
     ]
    },
    {
     "name": "stdout",
     "output_type": "stream",
     "text": [
      "Rejecting 'Zamanabad,_Saveh' - insufficient sentences (less than 3 periods)\n"
     ]
    },
    {
     "name": "stderr",
     "output_type": "stream",
     "text": [
      " 91%|█████████ | 912/1000 [43:04<02:20,  1.59s/it]"
     ]
    },
    {
     "name": "stdout",
     "output_type": "stream",
     "text": [
      "Error processing '%F0%9F%99%B4': 'fullurl'\n",
      "Saved article: 'Girolamo_Benivieni' and updated tracking file\n"
     ]
    },
    {
     "name": "stderr",
     "output_type": "stream",
     "text": [
      " 91%|█████████▏| 913/1000 [43:07<03:00,  2.07s/it]"
     ]
    },
    {
     "name": "stdout",
     "output_type": "stream",
     "text": [
      "Saved article: 'Sandra_Bland' and updated tracking file\n"
     ]
    },
    {
     "name": "stderr",
     "output_type": "stream",
     "text": [
      " 92%|█████████▏| 915/1000 [43:12<02:50,  2.00s/it]"
     ]
    },
    {
     "name": "stdout",
     "output_type": "stream",
     "text": [
      "Error processing '%F0%9F%A4%A3': 'fullurl'\n",
      "Saved article: 'Wei_Mingde' and updated tracking file\n"
     ]
    },
    {
     "name": "stderr",
     "output_type": "stream",
     "text": [
      " 92%|█████████▏| 916/1000 [43:16<03:35,  2.57s/it]"
     ]
    },
    {
     "name": "stdout",
     "output_type": "stream",
     "text": [
      "Saved article: 'Rumpler_4A_15' and updated tracking file\n"
     ]
    },
    {
     "name": "stderr",
     "output_type": "stream",
     "text": [
      " 92%|█████████▏| 918/1000 [43:20<03:02,  2.22s/it]"
     ]
    },
    {
     "name": "stdout",
     "output_type": "stream",
     "text": [
      "Error processing 'Jos%C3%A9_Antonio_Alonso_Su%C3%A1rez': 'fullurl'\n",
      "Saved article: 'Self_talk' and updated tracking file\n"
     ]
    },
    {
     "name": "stderr",
     "output_type": "stream",
     "text": [
      " 92%|█████████▏| 919/1000 [43:24<03:40,  2.72s/it]"
     ]
    },
    {
     "name": "stdout",
     "output_type": "stream",
     "text": [
      "Saved article: 'Sangir_Island' and updated tracking file\n"
     ]
    },
    {
     "name": "stderr",
     "output_type": "stream",
     "text": [
      " 92%|█████████▏| 921/1000 [43:28<03:09,  2.40s/it]"
     ]
    },
    {
     "name": "stdout",
     "output_type": "stream",
     "text": [
      "DisambiguationError for 'Wild_League': \"Wild_League\" may refer to: \n",
      "Wild League (film)\n",
      "Wild League (water polo)\n",
      "Suggestions: ['Wild League (film)', 'Wild League (water polo)']\n",
      "Saved article: 'Absalom_J._Hembree' and updated tracking file\n"
     ]
    },
    {
     "name": "stderr",
     "output_type": "stream",
     "text": [
      " 92%|█████████▏| 923/1000 [43:32<02:35,  2.02s/it]"
     ]
    },
    {
     "name": "stdout",
     "output_type": "stream",
     "text": [
      "Error processing '%F0%9F%9A%A3': 'fullurl'\n",
      "Saved article: 'Julio_Cesar_Miranda' and updated tracking file\n"
     ]
    },
    {
     "name": "stderr",
     "output_type": "stream",
     "text": [
      " 92%|█████████▎| 925/1000 [43:37<02:28,  1.97s/it]"
     ]
    },
    {
     "name": "stdout",
     "output_type": "stream",
     "text": [
      "Error processing 'St._Xavier%27s_College,_Kathmandu': 'fullurl'\n",
      "Saved article: 'Cash_Audio' and updated tracking file\n"
     ]
    },
    {
     "name": "stderr",
     "output_type": "stream",
     "text": [
      " 93%|█████████▎| 926/1000 [43:40<02:53,  2.35s/it]"
     ]
    },
    {
     "name": "stdout",
     "output_type": "stream",
     "text": [
      "Saved article: 'Peter_Prendergast_(hurler)' and updated tracking file\n"
     ]
    },
    {
     "name": "stderr",
     "output_type": "stream",
     "text": [
      " 93%|█████████▎| 928/1000 [43:44<02:36,  2.17s/it]"
     ]
    },
    {
     "name": "stdout",
     "output_type": "stream",
     "text": [
      "Rejecting 'Togo_at_the_2015_World_Championships_in_Athletics' - insufficient sentences (less than 3 periods)\n",
      "Saved article: 'Venum' and updated tracking file\n"
     ]
    },
    {
     "name": "stderr",
     "output_type": "stream",
     "text": [
      " 93%|█████████▎| 929/1000 [43:47<02:55,  2.47s/it]"
     ]
    },
    {
     "name": "stdout",
     "output_type": "stream",
     "text": [
      "Saved article: 'Hallucinatory_drugs' and updated tracking file\n"
     ]
    },
    {
     "name": "stderr",
     "output_type": "stream",
     "text": [
      " 93%|█████████▎| 931/1000 [43:52<02:31,  2.20s/it]"
     ]
    },
    {
     "name": "stdout",
     "output_type": "stream",
     "text": [
      "Error processing 'Gr%C3%A9zill%C3%A9': 'fullurl'\n",
      "Saved article: 'South_View_Tigers' and updated tracking file\n"
     ]
    },
    {
     "name": "stderr",
     "output_type": "stream",
     "text": [
      " 93%|█████████▎| 933/1000 [43:58<02:48,  2.52s/it]"
     ]
    },
    {
     "name": "stdout",
     "output_type": "stream",
     "text": [
      "DisambiguationError for 'George_Town_(disambiguation)': \"Georgetown\" may refer to: \n",
      "George, South Africa\n",
      "Janjanbureh, Gambia\n",
      "Georgetown, Ascension Island\n",
      "Georgetown, Prayagraj\n",
      "George Town, Chennai\n",
      "George Town, Penang\n",
      "Georgetown, Blaenau Gwent\n",
      "Georgetown, Dumfries and Galloway\n",
      "Es Castell\n",
      "Georgetown, Alberta\n",
      "Georgetown, Newfoundland and Labrador\n",
      "Georgetown, Ontario\n",
      "Georgetown, Prince Edward Island\n",
      "George Town, Bahamas\n",
      "George Town, Belize\n",
      "George Town, Cayman Islands\n",
      "Georgetown, Saint Vincent and the Grenadines\n",
      "Georgetown, Alaska\n",
      "Georgetown, Arkansas\n",
      "Georgetown, California\n",
      "Georgetown, Colorado\n",
      "Georgetown, Connecticut\n",
      "Georgetown, Delaware\n",
      "Georgetown Hundred\n",
      "Georgetown, Florida\n",
      "Georgetown, Chatham County, Georgia\n",
      "Georgetown, Dunwoody, Georgia\n",
      "Georgetown, Quitman County, Georgia\n",
      "Georgetown, Idaho\n",
      "Georgetown, Illinois\n",
      "Georgetown, Cass County, Indiana\n",
      "Georgetown, Floyd County, Indiana\n",
      "Georgetown, St. Joseph County, Indiana\n",
      "Georgetown, Washington County, Indiana\n",
      "Fairview, Kentucky\n",
      "Georgetown, Kentucky\n",
      "Georgetown, Louisiana\n",
      "Georgetown, Maine\n",
      "Georgetown, Maryland\n",
      "Georgetown (CDP), Maryland\n",
      "Georgetown, Massachusetts\n",
      "Georgetown Township, Michigan\n",
      "Georgetown, Minnesota\n",
      "Georgetown Township, Clay County, Minnesota\n",
      "Georgetown, Mississippi\n",
      "Georgetown, Montana\n",
      "Georgetown, New Jersey\n",
      "Georgetown, New York\n",
      "Georgetown, Brooklyn\n",
      "Georgetown, Ohio\n",
      "Georgetown, Fayette County, Ohio\n",
      "Georgetown, Harrison County, Ohio\n",
      "Georgetown, Beaver County, Pennsylvania\n",
      "Georgetown, Lancaster County, Pennsylvania\n",
      "Georgetown, Luzerne County, Pennsylvania\n",
      "Georgetown, South Carolina\n",
      "Georgetown, Tennessee\n",
      "Georgetown, Texas\n",
      "Georgetown, Virginia\n",
      "Georgetown, Seattle\n",
      "Georgetown (Washington, D.C.)\n",
      "Georgetown, Berkeley County, West Virginia\n",
      "Georgetown, Lewis County, West Virginia\n",
      "Georgetown, Marshall County, West Virginia\n",
      "Georgetown, Monongalia County, West Virginia\n",
      "Georgetown, Polk County, Wisconsin\n",
      "Georgetown, Price County, Wisconsin\n",
      "Georgetown, Guyana\n",
      "Georgetown FC\n",
      "Georgetown, Córdoba, Argentina\n",
      "Georgetown, New South Wales\n",
      "Georgetown, Queensland\n",
      "Georgetown, South Australia\n",
      "George Town, Tasmania\n",
      "George Town Council\n",
      "Georgetown, Invercargill\n",
      "Georgetown, Otago\n",
      "Georgetown Airport (disambiguation)\n",
      "Georgetown railway station (Scotland)\n",
      "Georgetown station (Ontario)\n",
      "Georgetown station (Metro-North)\n",
      "Georgetown University\n",
      "Georgetown Hoyas\n",
      "Georgetown College (Georgetown University)\n",
      "Georgetown College (Kentucky)\n",
      "Georgetown Day School\n",
      "Georgetown Preparatory School\n",
      "Georgetown Visitation Preparatory School\n",
      "Horry-Georgetown Technical College\n",
      "Georgetown (film)\n",
      "Loyle Carner\n",
      "All pages with titles beginning with Georgetown \n",
      "All pages with titles beginning with George Town\n",
      "George Towns (disambiguation)\n",
      "Georges Township, Fayette County, Pennsylvania\n",
      "Georgestown, St. John's\n",
      "Suggestions: ['George, South Africa', 'Janjanbureh, Gambia', 'Georgetown, Ascension Island', 'Georgetown, Prayagraj', 'George Town, Chennai']\n",
      "Saved article: 'Oldeberkoop' and updated tracking file\n"
     ]
    },
    {
     "name": "stderr",
     "output_type": "stream",
     "text": [
      " 94%|█████████▎| 935/1000 [44:03<02:44,  2.54s/it]"
     ]
    },
    {
     "name": "stdout",
     "output_type": "stream",
     "text": [
      "DisambiguationError for 'Great_Ring_Road': \"Great Ring (disambiguation)\" may refer to: \n",
      "Rings of Power\n",
      "One Ring\n",
      "The Great Ring of Arakko (Marvel Comics)\n",
      "Aelita Prize\n",
      "Cotillion\n",
      "canal ring\n",
      "ring road\n",
      "Great Ring Road\n",
      "Great Ring Road (Kyiv)\n",
      "Grande Raccordo Anulare\n",
      "Kinki Great Ring\n",
      "Henge\n",
      "stone circle\n",
      "Ring (disambiguation)\n",
      "Great (disambiguation)\n",
      "All pages with titles beginning with Great Ring\n",
      "All pages with titles containing Great Ring\n",
      "Big ring (disambiguation)\n",
      "Suggestions: ['Rings of Power', 'One Ring', 'The Great Ring of Arakko (Marvel Comics)', 'Aelita Prize', 'Cotillion']\n",
      "Saved article: 'Shan_tofu' and updated tracking file\n"
     ]
    },
    {
     "name": "stderr",
     "output_type": "stream",
     "text": [
      " 94%|█████████▎| 937/1000 [44:08<02:22,  2.26s/it]"
     ]
    },
    {
     "name": "stdout",
     "output_type": "stream",
     "text": [
      "Error processing 'Wiener_G%27schichten%27': 'fullurl'\n",
      "Saved article: 'Wallingford_(CDP),_Rutland_County,_Vermont' and updated tracking file\n"
     ]
    },
    {
     "name": "stderr",
     "output_type": "stream",
     "text": [
      " 94%|█████████▍| 938/1000 [44:11<02:48,  2.72s/it]"
     ]
    },
    {
     "name": "stdout",
     "output_type": "stream",
     "text": [
      "Saved article: 'Albert_Jenkins_(rugby_union)' and updated tracking file\n"
     ]
    },
    {
     "name": "stderr",
     "output_type": "stream",
     "text": [
      " 94%|█████████▍| 939/1000 [44:15<02:54,  2.86s/it]"
     ]
    },
    {
     "name": "stdout",
     "output_type": "stream",
     "text": [
      "Saved article: 'Quebec_Autoroute_740' and updated tracking file\n"
     ]
    },
    {
     "name": "stderr",
     "output_type": "stream",
     "text": [
      " 94%|█████████▍| 940/1000 [44:18<02:57,  2.96s/it]"
     ]
    },
    {
     "name": "stdout",
     "output_type": "stream",
     "text": [
      "Saved article: 'White_underwing' and updated tracking file\n"
     ]
    },
    {
     "name": "stderr",
     "output_type": "stream",
     "text": [
      " 94%|█████████▍| 941/1000 [44:21<03:08,  3.20s/it]"
     ]
    },
    {
     "name": "stdout",
     "output_type": "stream",
     "text": [
      "Saved article: 'Kim_Moriarity' and updated tracking file\n"
     ]
    },
    {
     "name": "stderr",
     "output_type": "stream",
     "text": [
      " 94%|█████████▍| 942/1000 [44:26<03:23,  3.51s/it]"
     ]
    },
    {
     "name": "stdout",
     "output_type": "stream",
     "text": [
      "Saved article: 'Dark_Masters' and updated tracking file\n"
     ]
    },
    {
     "name": "stderr",
     "output_type": "stream",
     "text": [
      " 94%|█████████▍| 943/1000 [44:30<03:31,  3.71s/it]"
     ]
    },
    {
     "name": "stdout",
     "output_type": "stream",
     "text": [
      "Saved article: 'Ramakrishnananda' and updated tracking file\n"
     ]
    },
    {
     "name": "stderr",
     "output_type": "stream",
     "text": [
      " 94%|█████████▍| 945/1000 [44:34<02:36,  2.85s/it]"
     ]
    },
    {
     "name": "stdout",
     "output_type": "stream",
     "text": [
      "Rejecting 'Gemylus_albipictus' - insufficient sentences (less than 3 periods)\n"
     ]
    },
    {
     "name": "stderr",
     "output_type": "stream",
     "text": [
      " 95%|█████████▍| 946/1000 [44:36<02:20,  2.61s/it]"
     ]
    },
    {
     "name": "stdout",
     "output_type": "stream",
     "text": [
      "DisambiguationError for 'Yen_Tzu': \"Yanzi\" may refer to: \n",
      "Yan Hui\n",
      "Yan Yan (disciple of Confucius)\n",
      "Yan Ying\n",
      "Stefanie Sun\n",
      "Yan Zi (tennis)\n",
      "Peng Yanhui\n",
      "Yanzi River\n",
      "Yanzi Mountain\n",
      "Yanzi chunqiu\n",
      "Yan Zi (album)\n",
      "Yanzi people\n",
      "Yanzi language\n",
      "Yangzi (disambiguation)\n",
      "Suggestions: ['Yan Hui', 'Yan Yan (disciple of Confucius)', 'Yan Ying', 'Stefanie Sun', 'Yan Zi (tennis)']\n"
     ]
    },
    {
     "name": "stderr",
     "output_type": "stream",
     "text": [
      " 95%|█████████▍| 947/1000 [44:37<01:45,  2.00s/it]"
     ]
    },
    {
     "name": "stdout",
     "output_type": "stream",
     "text": [
      "PageError: 'Skate_Down_Under' does not match any pages. Try another title!\n",
      "Saved article: 'Dr._Caldicott' and updated tracking file\n"
     ]
    },
    {
     "name": "stderr",
     "output_type": "stream",
     "text": [
      " 95%|█████████▍| 948/1000 [44:41<02:11,  2.53s/it]"
     ]
    },
    {
     "name": "stdout",
     "output_type": "stream",
     "text": [
      "Saved article: 'Mexican_hot_dog' and updated tracking file\n"
     ]
    },
    {
     "name": "stderr",
     "output_type": "stream",
     "text": [
      " 95%|█████████▍| 949/1000 [44:45<02:29,  2.93s/it]"
     ]
    },
    {
     "name": "stdout",
     "output_type": "stream",
     "text": [
      "Saved article: 'Abdelkarim_Kaissi' and updated tracking file\n"
     ]
    },
    {
     "name": "stderr",
     "output_type": "stream",
     "text": [
      " 95%|█████████▌| 950/1000 [44:48<02:39,  3.19s/it]"
     ]
    },
    {
     "name": "stdout",
     "output_type": "stream",
     "text": [
      "Saved article: 'Yanco,_New_South_Wales' and updated tracking file\n"
     ]
    },
    {
     "name": "stderr",
     "output_type": "stream",
     "text": [
      " 95%|█████████▌| 951/1000 [44:52<02:45,  3.38s/it]"
     ]
    },
    {
     "name": "stdout",
     "output_type": "stream",
     "text": [
      "Saved article: '4-Methyl-a-ethyltryptamine' and updated tracking file\n"
     ]
    },
    {
     "name": "stderr",
     "output_type": "stream",
     "text": [
      " 95%|█████████▌| 952/1000 [44:56<02:48,  3.52s/it]"
     ]
    },
    {
     "name": "stdout",
     "output_type": "stream",
     "text": [
      "Saved article: 'Hemoglobin_A1C' and updated tracking file\n"
     ]
    },
    {
     "name": "stderr",
     "output_type": "stream",
     "text": [
      " 95%|█████████▌| 953/1000 [45:00<02:49,  3.61s/it]"
     ]
    },
    {
     "name": "stdout",
     "output_type": "stream",
     "text": [
      "Saved article: 'Salpidae' and updated tracking file\n"
     ]
    },
    {
     "name": "stderr",
     "output_type": "stream",
     "text": [
      " 96%|█████████▌| 955/1000 [45:04<02:03,  2.74s/it]"
     ]
    },
    {
     "name": "stdout",
     "output_type": "stream",
     "text": [
      "Error processing '%CE%95%CE%B8%CE%BD%CE%B9%CE%BA%CF%8C_%CE%9B%CE%B1%CF%8A%CE%BA%CF%8C_%CE%9C%CE%AD%CF%84%CF%89%CF%80%CE%BF': 'fullurl'\n",
      "Saved article: 'Socionic' and updated tracking file\n"
     ]
    },
    {
     "name": "stderr",
     "output_type": "stream",
     "text": [
      " 96%|█████████▌| 956/1000 [45:08<02:08,  2.91s/it]"
     ]
    },
    {
     "name": "stdout",
     "output_type": "stream",
     "text": [
      "Saved article: 'Promegestone' and updated tracking file\n"
     ]
    },
    {
     "name": "stderr",
     "output_type": "stream",
     "text": [
      " 96%|█████████▌| 958/1000 [45:12<01:43,  2.45s/it]"
     ]
    },
    {
     "name": "stdout",
     "output_type": "stream",
     "text": [
      "Rejecting 'Johnny_Coghlan' - insufficient sentences (less than 3 periods)\n",
      "Saved article: 'Wim_van_der_Kroft' and updated tracking file\n"
     ]
    },
    {
     "name": "stderr",
     "output_type": "stream",
     "text": [
      " 96%|█████████▌| 959/1000 [45:15<01:49,  2.67s/it]"
     ]
    },
    {
     "name": "stdout",
     "output_type": "stream",
     "text": [
      "Saved article: 'Exodontia' and updated tracking file\n"
     ]
    },
    {
     "name": "stderr",
     "output_type": "stream",
     "text": [
      " 96%|█████████▌| 960/1000 [45:19<02:00,  3.02s/it]"
     ]
    },
    {
     "name": "stdout",
     "output_type": "stream",
     "text": [
      "Saved article: 'Otto_Jaffe' and updated tracking file\n"
     ]
    },
    {
     "name": "stderr",
     "output_type": "stream",
     "text": [
      " 96%|█████████▌| 962/1000 [45:24<01:42,  2.71s/it]"
     ]
    },
    {
     "name": "stdout",
     "output_type": "stream",
     "text": [
      "Rejecting 'Qasemabad-e_Bala,_Gilan' - insufficient sentences (less than 3 periods)\n"
     ]
    },
    {
     "name": "stderr",
     "output_type": "stream",
     "text": [
      " 96%|█████████▋| 963/1000 [45:25<01:16,  2.07s/it]"
     ]
    },
    {
     "name": "stdout",
     "output_type": "stream",
     "text": [
      "Error processing 'Saint_John%27s_Arms': 'fullurl'\n",
      "Saved article: 'E.T._the_Extra-Terrestrial_Atari_2600' and updated tracking file\n"
     ]
    },
    {
     "name": "stderr",
     "output_type": "stream",
     "text": [
      " 96%|█████████▋| 965/1000 [45:30<01:15,  2.15s/it]"
     ]
    },
    {
     "name": "stdout",
     "output_type": "stream",
     "text": [
      "Error processing '%F0%9F%9B%8D': 'fullurl'\n"
     ]
    },
    {
     "name": "stderr",
     "output_type": "stream",
     "text": [
      " 97%|█████████▋| 966/1000 [45:31<01:10,  2.08s/it]"
     ]
    },
    {
     "name": "stdout",
     "output_type": "stream",
     "text": [
      "Rejecting 'List_of_Bienes_de_Interes_Cultural_in_the_Province_of_Zaragoza' - insufficient sentences (less than 3 periods)\n",
      "Saved article: 'Double_Edge_Theatre' and updated tracking file\n"
     ]
    },
    {
     "name": "stderr",
     "output_type": "stream",
     "text": [
      " 97%|█████████▋| 968/1000 [45:35<00:59,  1.86s/it]"
     ]
    },
    {
     "name": "stdout",
     "output_type": "stream",
     "text": [
      "Error processing '%F0%9F%98%9F': 'fullurl'\n"
     ]
    },
    {
     "name": "stderr",
     "output_type": "stream",
     "text": [
      " 97%|█████████▋| 969/1000 [45:36<00:45,  1.46s/it]"
     ]
    },
    {
     "name": "stdout",
     "output_type": "stream",
     "text": [
      "Error processing '2014%E2%80%9315_ISU_Speed_Skating_World_Cup_%E2%80%93_World_Cup_1_%E2%80%93_Women%27s_1000_metres': 'fullurl'\n",
      "Saved article: 'Kokoro_Connect' and updated tracking file\n"
     ]
    },
    {
     "name": "stderr",
     "output_type": "stream",
     "text": [
      " 97%|█████████▋| 970/1000 [45:39<01:00,  2.01s/it]"
     ]
    },
    {
     "name": "stdout",
     "output_type": "stream",
     "text": [
      "Saved article: 'Hales_Formation' and updated tracking file\n"
     ]
    },
    {
     "name": "stderr",
     "output_type": "stream",
     "text": [
      " 97%|█████████▋| 971/1000 [45:43<01:13,  2.53s/it]"
     ]
    },
    {
     "name": "stdout",
     "output_type": "stream",
     "text": [
      "Saved article: 'Art_of_the_Devil_II' and updated tracking file\n"
     ]
    },
    {
     "name": "stderr",
     "output_type": "stream",
     "text": [
      " 97%|█████████▋| 972/1000 [45:47<01:21,  2.93s/it]"
     ]
    },
    {
     "name": "stdout",
     "output_type": "stream",
     "text": [
      "Saved article: 'Barossa_German' and updated tracking file\n"
     ]
    },
    {
     "name": "stderr",
     "output_type": "stream",
     "text": [
      " 97%|█████████▋| 974/1000 [45:50<00:59,  2.28s/it]"
     ]
    },
    {
     "name": "stdout",
     "output_type": "stream",
     "text": [
      "Error processing '%F0%9F%9C%8C': 'fullurl'\n",
      "Saved article: 'Victor_Garcia_(director)' and updated tracking file\n"
     ]
    },
    {
     "name": "stderr",
     "output_type": "stream",
     "text": [
      " 98%|█████████▊| 975/1000 [45:54<01:03,  2.56s/it]"
     ]
    },
    {
     "name": "stdout",
     "output_type": "stream",
     "text": [
      "Saved article: 'Uruguay_Fed_Cup_team' and updated tracking file\n"
     ]
    },
    {
     "name": "stderr",
     "output_type": "stream",
     "text": [
      " 98%|█████████▊| 976/1000 [45:57<01:10,  2.92s/it]"
     ]
    },
    {
     "name": "stdout",
     "output_type": "stream",
     "text": [
      "Saved article: 'Sergey_Morozov_(racewalker)' and updated tracking file\n"
     ]
    },
    {
     "name": "stderr",
     "output_type": "stream",
     "text": [
      " 98%|█████████▊| 978/1000 [46:02<00:53,  2.43s/it]"
     ]
    },
    {
     "name": "stdout",
     "output_type": "stream",
     "text": [
      "Error processing 'Marcus_Vinicius_D%27Almeida': 'fullurl'\n",
      "Saved article: 'Mega_man_and_bass' and updated tracking file\n"
     ]
    },
    {
     "name": "stderr",
     "output_type": "stream",
     "text": [
      " 98%|█████████▊| 979/1000 [46:06<00:59,  2.86s/it]"
     ]
    },
    {
     "name": "stdout",
     "output_type": "stream",
     "text": [
      "Saved article: 'Drive-in_theater' and updated tracking file\n"
     ]
    },
    {
     "name": "stderr",
     "output_type": "stream",
     "text": [
      " 98%|█████████▊| 981/1000 [46:10<00:42,  2.25s/it]"
     ]
    },
    {
     "name": "stdout",
     "output_type": "stream",
     "text": [
      "Error processing 'Ostr%C3%B3da_County': 'fullurl'\n"
     ]
    },
    {
     "name": "stderr",
     "output_type": "stream",
     "text": [
      " 98%|█████████▊| 982/1000 [46:10<00:31,  1.74s/it]"
     ]
    },
    {
     "name": "stdout",
     "output_type": "stream",
     "text": [
      "Error processing 'Citrus_%C3%97_nobilis': 'fullurl'\n",
      "Saved article: '56_CE' and updated tracking file\n"
     ]
    },
    {
     "name": "stderr",
     "output_type": "stream",
     "text": [
      " 98%|█████████▊| 983/1000 [46:14<00:40,  2.40s/it]"
     ]
    },
    {
     "name": "stdout",
     "output_type": "stream",
     "text": [
      "Saved article: 'Emperor_Peter_III' and updated tracking file\n"
     ]
    },
    {
     "name": "stderr",
     "output_type": "stream",
     "text": [
      " 98%|█████████▊| 985/1000 [46:19<00:35,  2.34s/it]"
     ]
    },
    {
     "name": "stdout",
     "output_type": "stream",
     "text": [
      "Rejecting 'New_Zealand_top_50_albums_of_2001' - insufficient sentences (less than 3 periods)\n",
      "Saved article: 'Saiz' and updated tracking file\n"
     ]
    },
    {
     "name": "stderr",
     "output_type": "stream",
     "text": [
      " 99%|█████████▊| 987/1000 [46:23<00:26,  2.02s/it]"
     ]
    },
    {
     "name": "stdout",
     "output_type": "stream",
     "text": [
      "Error processing '%C3%96zg%C3%BCrl%C3%BCkc%C3%BC_Demokrasi': 'fullurl'\n",
      "Saved article: 'Economy_of_south_korea' and updated tracking file\n"
     ]
    },
    {
     "name": "stderr",
     "output_type": "stream",
     "text": [
      " 99%|█████████▉| 988/1000 [46:27<00:30,  2.57s/it]"
     ]
    },
    {
     "name": "stdout",
     "output_type": "stream",
     "text": [
      "Saved article: 'AirTran_Holdings_Inc' and updated tracking file\n"
     ]
    },
    {
     "name": "stderr",
     "output_type": "stream",
     "text": [
      " 99%|█████████▉| 990/1000 [46:31<00:22,  2.21s/it]"
     ]
    },
    {
     "name": "stdout",
     "output_type": "stream",
     "text": [
      "Error processing '%F0%9F%97%B3': 'fullurl'\n"
     ]
    },
    {
     "name": "stderr",
     "output_type": "stream",
     "text": [
      " 99%|█████████▉| 991/1000 [46:32<00:15,  1.72s/it]"
     ]
    },
    {
     "name": "stdout",
     "output_type": "stream",
     "text": [
      "Error processing '%F0%9F%9B%94': 'fullurl'\n"
     ]
    },
    {
     "name": "stderr",
     "output_type": "stream",
     "text": [
      " 99%|█████████▉| 992/1000 [46:34<00:15,  1.89s/it]"
     ]
    },
    {
     "name": "stdout",
     "output_type": "stream",
     "text": [
      "DisambiguationError for 'Deutsch_(disambiguation)': \"Deutsch\" may refer to: \n",
      "German language\n",
      "Germans\n",
      "Deutsch (word)\n",
      "André Deutsch\n",
      "Deutsch Inc.\n",
      "Deutsch NY\n",
      "Deutsche Aerospace AG\n",
      "Deutsche Akademie\n",
      "Deutsche Bahn\n",
      "Deutsche Bank\n",
      "Deutsche Börse\n",
      "Deutsche Geophysikalische Gesellschaft\n",
      "Deutsche Grammophon\n",
      "Deutsch Group\n",
      "Deutsche Luft Hansa\n",
      "Deutsche Lufthansa\n",
      "Deutsche Marine\n",
      "Deutsche Post\n",
      "Deutsche Telekom\n",
      "Deutsche Welle\n",
      "Deutscher Filmpreis\n",
      "Verlag Harri Deutsch\n",
      "Groß Garz\n",
      "Deutsch (crater)\n",
      "Deutsch (surname)\n",
      "Schubert Thematic Catalogue\n",
      "Deitsch (disambiguation)\n",
      "Deutscher\n",
      "Dutch (disambiguation)\n",
      "German (disambiguation)\n",
      "Suggestions: ['German language', 'Germans', 'Deutsch (word)', 'André Deutsch', 'Deutsch Inc.']\n"
     ]
    },
    {
     "name": "stderr",
     "output_type": "stream",
     "text": [
      " 99%|█████████▉| 993/1000 [46:35<00:10,  1.49s/it]"
     ]
    },
    {
     "name": "stdout",
     "output_type": "stream",
     "text": [
      "Error processing '%F0%9F%A5%94': 'fullurl'\n",
      "Saved article: 'Thomas_J._Masiello' and updated tracking file\n"
     ]
    },
    {
     "name": "stderr",
     "output_type": "stream",
     "text": [
      "100%|█████████▉| 995/1000 [46:39<00:08,  1.76s/it]"
     ]
    },
    {
     "name": "stdout",
     "output_type": "stream",
     "text": [
      "Rejecting '1690_in_Italy' - insufficient sentences (less than 3 periods)\n",
      "Saved article: 'Nicole_Linkletter_Nathanson' and updated tracking file\n"
     ]
    },
    {
     "name": "stderr",
     "output_type": "stream",
     "text": [
      "100%|█████████▉| 997/1000 [46:43<00:05,  1.82s/it]"
     ]
    },
    {
     "name": "stdout",
     "output_type": "stream",
     "text": [
      "Error processing 'Haight,_Gardner,_Poor_%26_Havens': 'fullurl'\n",
      "Saved article: 'United_States_Fish_and_Wildlife_Service_list_of_endangered_species' and updated tracking file\n"
     ]
    },
    {
     "name": "stderr",
     "output_type": "stream",
     "text": [
      "100%|█████████▉| 998/1000 [46:47<00:04,  2.43s/it]"
     ]
    },
    {
     "name": "stdout",
     "output_type": "stream",
     "text": [
      "Saved article: 'Johnny_in_the_Valley_of_the_Giants' and updated tracking file\n"
     ]
    },
    {
     "name": "stderr",
     "output_type": "stream",
     "text": [
      "100%|█████████▉| 999/1000 [46:52<00:03,  3.07s/it]"
     ]
    },
    {
     "name": "stdout",
     "output_type": "stream",
     "text": [
      "Saved article: 'Lakeview_Drive' and updated tracking file\n"
     ]
    },
    {
     "name": "stderr",
     "output_type": "stream",
     "text": [
      "100%|██████████| 1000/1000 [46:55<00:00,  2.82s/it]"
     ]
    },
    {
     "name": "stdout",
     "output_type": "stream",
     "text": [
      "\n",
      "Extraction complete!\n",
      "Successfully extracted 690 articles\n",
      "\n",
      "Preview of 'Jewish_Channel':\n",
      "The Jewish Channel (TJC) is a cable television channel available on Comcast, iO Optimum Cablevision, Time Warner Cable, Verizon FiOS, RCN, Frontier Communications, and Cox Cable. It was launched by Co...\n"
     ]
    },
    {
     "name": "stderr",
     "output_type": "stream",
     "text": [
      "\n"
     ]
    }
   ],
   "source": [
    "extracted_texts = extract_wikipedia_text(wiki_articles_names)\n",
    "    \n",
    "# Print summary\n",
    "print(\"\\nExtraction complete!\")\n",
    "print(f\"Successfully extracted {len(extracted_texts)} articles\")\n",
    "\n",
    "# Preview first 200 characters of first article\n",
    "if extracted_texts:\n",
    "    first_title = list(extracted_texts.keys())[0]\n",
    "    print(f\"\\nPreview of '{first_title}':\")\n",
    "    print(extracted_texts[first_title][:200] + \"...\")"
   ]
  }
 ],
 "metadata": {
  "kernelspec": {
   "display_name": ".venv",
   "language": "python",
   "name": "python3"
  },
  "language_info": {
   "codemirror_mode": {
    "name": "ipython",
    "version": 3
   },
   "file_extension": ".py",
   "mimetype": "text/x-python",
   "name": "python",
   "nbconvert_exporter": "python",
   "pygments_lexer": "ipython3",
   "version": "3.11.11"
  }
 },
 "nbformat": 4,
 "nbformat_minor": 5
}
